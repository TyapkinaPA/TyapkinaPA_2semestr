{
  "nbformat": 4,
  "nbformat_minor": 0,
  "metadata": {
    "colab": {
      "provenance": [],
      "authorship_tag": "ABX9TyMIh2t4BG94b4HGuGDLb3dN",
      "include_colab_link": true
    },
    "kernelspec": {
      "name": "python3",
      "display_name": "Python 3"
    },
    "language_info": {
      "name": "python"
    }
  },
  "cells": [
    {
      "cell_type": "markdown",
      "metadata": {
        "id": "view-in-github",
        "colab_type": "text"
      },
      "source": [
        "<a href=\"https://colab.research.google.com/github/TyapkinaPA/TyapkinaPA_2semestr/blob/main/March_lection_2.ipynb\" target=\"_parent\"><img src=\"https://colab.research.google.com/assets/colab-badge.svg\" alt=\"Open In Colab\"/></a>"
      ]
    },
    {
      "cell_type": "markdown",
      "source": [
        "#Конструктор класса - метод __init__()\n",
        "- в ООП конструктором класса назыв. метод, к-й автоматически вызывается при создании объекта\n",
        "- имя такого метода обычно регламентируется синтаксисом конкретного языка проги.\n",
        "\n",
        "- необходимость конструкторов связана с тем, что нередко объекты должны иметь собственные свойства сразу."
      ],
      "metadata": {
        "id": "4l6uALKHaTt-"
      }
    },
    {
      "cell_type": "code",
      "source": [
        "class Person:\n",
        "  def setName(self, n, s):\n",
        "    self.name = n\n",
        "    self.surname = s"
      ],
      "metadata": {
        "id": "h9yaBDbffipo"
      },
      "execution_count": null,
      "outputs": []
    },
    {
      "cell_type": "code",
      "execution_count": null,
      "metadata": {
        "colab": {
          "base_uri": "https://localhost:8080/"
        },
        "id": "yJTEai6rZ_K_",
        "outputId": "e0879a35-c6ec-4d4a-801c-bde4ff314e13"
      },
      "outputs": [
        {
          "output_type": "execute_result",
          "data": {
            "text/plain": [
              "('Bill', 'Ross')"
            ]
          },
          "metadata": {},
          "execution_count": 3
        }
      ],
      "source": [
        "p1 = Person()\n",
        "p1.setName('Bill', 'Ross')\n",
        "p1.name, p1.surname"
      ]
    },
    {
      "cell_type": "code",
      "source": [
        "class Person2:\n",
        "  def __init__(self, n, s):\n",
        "    self.name = n \n",
        "    self.surname = s"
      ],
      "metadata": {
        "id": "XUUFhtA9gSId"
      },
      "execution_count": null,
      "outputs": []
    },
    {
      "cell_type": "code",
      "source": [
        "p1 = Person2('Sam', 'Baker')\n",
        "print(p1.name, p1.surname)"
      ],
      "metadata": {
        "colab": {
          "base_uri": "https://localhost:8080/"
        },
        "id": "nwLI7Ni6geiW",
        "outputId": "06565f47-ebc2-456a-ca8b-b0c795702b99"
      },
      "execution_count": null,
      "outputs": [
        {
          "output_type": "stream",
          "name": "stdout",
          "text": [
            "Sam Baker\n"
          ]
        }
      ]
    },
    {
      "cell_type": "code",
      "source": [
        "p1 = Person2()"
      ],
      "metadata": {
        "colab": {
          "base_uri": "https://localhost:8080/",
          "height": 166
        },
        "id": "u29BnS1jgqtp",
        "outputId": "15ed5f17-4618-4f81-8f8a-835ca28af007"
      },
      "execution_count": null,
      "outputs": [
        {
          "output_type": "error",
          "ename": "TypeError",
          "evalue": "ignored",
          "traceback": [
            "\u001b[0;31m---------------------------------------------------------------------------\u001b[0m",
            "\u001b[0;31mTypeError\u001b[0m                                 Traceback (most recent call last)",
            "\u001b[0;32m<ipython-input-7-6d7954a58375>\u001b[0m in \u001b[0;36m<module>\u001b[0;34m\u001b[0m\n\u001b[0;32m----> 1\u001b[0;31m \u001b[0mp1\u001b[0m \u001b[0;34m=\u001b[0m \u001b[0mPerson2\u001b[0m\u001b[0;34m(\u001b[0m\u001b[0;34m)\u001b[0m\u001b[0;34m\u001b[0m\u001b[0;34m\u001b[0m\u001b[0m\n\u001b[0m",
            "\u001b[0;31mTypeError\u001b[0m: __init__() missing 2 required positional arguments: 'n' and 's'"
          ]
        }
      ]
    },
    {
      "cell_type": "code",
      "source": [
        "class Rectangle:\n",
        "  def __init__(self, w = 0.5, h = 1):\n",
        "    self.width = w\n",
        "    self.heght = h\n",
        "  def square(self):\n",
        "    return self.width * self.heght"
      ],
      "metadata": {
        "id": "FeJd4jEaguUE"
      },
      "execution_count": null,
      "outputs": []
    },
    {
      "cell_type": "code",
      "source": [
        "rec1 = Rectangle(5, 2)\n",
        "rec2 = Rectangle()\n",
        "rec3 = Rectangle(3)\n",
        "rec4 = Rectangle(h = 4)"
      ],
      "metadata": {
        "id": "NsReyywuhc3v"
      },
      "execution_count": null,
      "outputs": []
    },
    {
      "cell_type": "code",
      "source": [
        "class Person:\n",
        "  def __init__(self, n, s, q=1):\n",
        "    self.name = n\n",
        "    self.surname = s\n",
        "    self.skill = q\n",
        "  def __del__(self):\n",
        "    print('До свидания, мистер', self.name, self.surname)\n",
        "  def info(self):\n",
        "    return \"{0} {1}, {2}\".format(self.name, self.surname, self.skill)\n",
        "worker = Person(\"И\", \"Котов\", 3)\n",
        "helper = Person('Д', 'Рышев', 1)\n",
        "maker = Person('О', 'Рисов', 2)\n",
        "print(worker.info())\n",
        "print(helper.info())\n",
        "print(maker.info())\n",
        "del helper\n",
        "print('Конец программы')\n",
        "input()"
      ],
      "metadata": {
        "id": "HymPWtbThvfb"
      },
      "execution_count": null,
      "outputs": []
    },
    {
      "cell_type": "markdown",
      "source": [
        "##Наследование - важная составляющая ООП.\n",
        " дочерние классы наследуют атрибуты родительских"
      ],
      "metadata": {
        "id": "kgI7MxfZjdss"
      }
    },
    {
      "cell_type": "code",
      "source": [
        "class Table:\n",
        "  def __init__(self, l, w, h):\n",
        "    self.length = l\n",
        "    self.width = w\n",
        "    self.height = h\n",
        "\n",
        "class KitchenTable(Table):\n",
        "  def setPlaces(self, p):\n",
        "    self.places = p\n",
        "\n",
        "class DeskTable(Table):\n",
        "  def square(self):\n",
        "    return self.widtn * self.length"
      ],
      "metadata": {
        "id": "Zq4UGypskCqd"
      },
      "execution_count": null,
      "outputs": []
    },
    {
      "cell_type": "code",
      "source": [
        "t1 = KitchenTable(2, 2, 0.7)\n",
        "t2 = DeskTable(1.5, 0.8, 0.75)\n",
        "t3 = KitchenTable(1, 1.2, 0.8)"
      ],
      "metadata": {
        "id": "RTZroVMjk9tD"
      },
      "execution_count": null,
      "outputs": []
    },
    {
      "cell_type": "code",
      "source": [
        "class ComputerTable(DeskTable):\n",
        "  def square(self, e):\n",
        "    return self.width * self.length - e"
      ],
      "metadata": {
        "id": "aoZFKVs7lQ5V"
      },
      "execution_count": null,
      "outputs": []
    },
    {
      "cell_type": "code",
      "source": [
        "class ComputerTable(DeskTable):\n",
        "  def square(self, e):\n",
        "    return DeskTable.square(self) - e"
      ],
      "metadata": {
        "id": "vEWcw_psltbJ"
      },
      "execution_count": null,
      "outputs": []
    },
    {
      "cell_type": "code",
      "source": [
        "class KitchenTable(Table):\n",
        "  def __init__(self, l, w, h, p):\n",
        "    self.length = l\n",
        "    self.width = w\n",
        "    self.height = h\n",
        "    self.places = p"
      ],
      "metadata": {
        "id": "a8dSLTmNmTeu"
      },
      "execution_count": null,
      "outputs": []
    },
    {
      "cell_type": "code",
      "source": [
        "class KitchenTable(Table):\n",
        "  def __init__(self, l, w, h, p):\n",
        "    Table.__init__(self, l, w, h)\n",
        "    self.places = p"
      ],
      "metadata": {
        "id": "HRa0RnIbmlLT"
      },
      "execution_count": null,
      "outputs": []
    },
    {
      "cell_type": "code",
      "source": [
        "tk = KitchenTable(2, 1.5, 0.7, 10)\n",
        "print(tk.places)\n",
        "print(tk.width)"
      ],
      "metadata": {
        "colab": {
          "base_uri": "https://localhost:8080/"
        },
        "id": "DD3ru1q-nAv1",
        "outputId": "ff0b94aa-8a37-4521-8566-16133655cada"
      },
      "execution_count": null,
      "outputs": [
        {
          "output_type": "stream",
          "name": "stdout",
          "text": [
            "10\n",
            "1.5\n"
          ]
        }
      ]
    },
    {
      "cell_type": "code",
      "source": [
        "from random import randint\n",
        "\n",
        "class Person:\n",
        "  count = 0 \n",
        "  def __init__(self, c):\n",
        "    self.id = Person.count\n",
        "    Person.count += 1\n",
        "    self.command = c\n"
      ],
      "metadata": {
        "id": "WKOqMsRypSH5"
      },
      "execution_count": null,
      "outputs": []
    },
    {
      "cell_type": "code",
      "source": [
        "class Hero(Person):\n",
        "  def __init__(self, c):\n",
        "    Person.__init__(self, c)\n",
        "    self.level = 1\n",
        "  def uplevel(self):\n",
        "      self.level += 1\n",
        "\n",
        "class Soldier(Person):\n",
        "  def __init__(self, c):\n",
        "    Person.__init__(self, c)\n",
        "    self.my_hero = None\n",
        "  def follow(self, hero):\n",
        "    self.my_hero = hero.id"
      ],
      "metadata": {
        "id": "HfC2TMTinz_y"
      },
      "execution_count": null,
      "outputs": []
    },
    {
      "cell_type": "code",
      "source": [
        "h1 = Hero(1)\n",
        "h2 = Hero(2)\n",
        "army1 = []\n",
        "army2 = []\n",
        "for i in range(20):\n",
        "  n = randint(1, 2)\n",
        "  if n == 1:\n",
        "    army1.append(Soldier(n))\n",
        "  else:\n",
        "    army2.append(Soldier(n))\n",
        "print(len(army1), len(army2))\n",
        "if len(army1) > len(army2):\n",
        "  h1.uplevel()\n",
        "else:\n",
        "  h2.uplevel()\n",
        "\n",
        "army1[0].follow(h1)\n",
        "print(army1[0].id, h1.id)"
      ],
      "metadata": {
        "colab": {
          "base_uri": "https://localhost:8080/"
        },
        "id": "JwCCDNSSpawr",
        "outputId": "2a294813-4569-43fe-de42-a0addfd14c41"
      },
      "execution_count": null,
      "outputs": [
        {
          "output_type": "stream",
          "name": "stdout",
          "text": [
            "6 14\n",
            "166 154\n"
          ]
        }
      ]
    },
    {
      "cell_type": "code",
      "source": [],
      "metadata": {
        "id": "8VK4iaPureYC"
      },
      "execution_count": null,
      "outputs": []
    }
  ]
}