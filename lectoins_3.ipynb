{
  "nbformat": 4,
  "nbformat_minor": 0,
  "metadata": {
    "colab": {
      "provenance": [],
      "authorship_tag": "ABX9TyP4NJfn+5aRChGYSaxGMGFA",
      "include_colab_link": true
    },
    "kernelspec": {
      "name": "python3",
      "display_name": "Python 3"
    },
    "language_info": {
      "name": "python"
    }
  },
  "cells": [
    {
      "cell_type": "markdown",
      "metadata": {
        "id": "view-in-github",
        "colab_type": "text"
      },
      "source": [
        "<a href=\"https://colab.research.google.com/github/TyapkinaPA/TyapkinaPA_2semestr/blob/main/lectoins_3.ipynb\" target=\"_parent\"><img src=\"https://colab.research.google.com/assets/colab-badge.svg\" alt=\"Open In Colab\"/></a>"
      ]
    },
    {
      "cell_type": "markdown",
      "source": [
        "# Занятие 3. Парадигмы ООП. Инкапсуляция \n",
        "### Парадигма инкапсуляции предлагает объединять переменные и методы, относящиеся к одному объекту в единый компонент. По сути, соблюдение парадигмы инкапсуляции и заключается в создании классов. Под инкапсуляцией в объектно-ориентированном программировании понимается упаковка данных и методов для их обработки вместе, т. е. в классе. В Python инкапсуляция реализуется как на уровне классов, так и объектов. С точки зрения разграничения доступа к атрибутам класса Python является особенным языком - в нем отсутствует механизм, который мог бы запретить доступ к переменной или методу внутри класса. Вместо этого создатели Python предложили соглашение, в соответствии с которым:\n",
        "* Если переменная/метод начинается с одного нижнего подчеркивания \n",
        "(_protected_example), то – считается защищенным (protected). \n",
        "* Если переменная/метод начинается с двух нижних подчеркиваний \n",
        "(__private_example), то – считается приватным (private). \n",
        "\n",
        "### Все члены класса в Python являются публичными по умолчанию. Любой член класса может быть доступен за пределами самого класса. Рассмотрим пример создания и работы с публичными (public) методами в Python. "
      ],
      "metadata": {
        "id": "9iMDz6gfGoSy"
      }
    },
    {
      "cell_type": "code",
      "execution_count": 3,
      "metadata": {
        "id": "lvd5aZ-0Glee"
      },
      "outputs": [],
      "source": [
        "class Car: \n",
        "  def __init__(self, color, model): \n",
        "# Объявляем публичное поле color \n",
        "    self.color = color"
      ]
    },
    {
      "cell_type": "code",
      "source": [
        "# Создаем экземпляр класса Car \n",
        "car = Car('Grey') \n",
        "# Обращаемся к свойству color \n",
        "print(car.color) \n",
        "# Изменяем свойство color \n",
        "car.color = 'Red' \n",
        "print(car.color)"
      ],
      "metadata": {
        "colab": {
          "base_uri": "https://localhost:8080/",
          "height": 235
        },
        "id": "Y9JSEYjbH_aZ",
        "outputId": "cc344c48-824b-4351-ac3c-39a34326567d"
      },
      "execution_count": 4,
      "outputs": [
        {
          "output_type": "error",
          "ename": "TypeError",
          "evalue": "ignored",
          "traceback": [
            "\u001b[0;31m---------------------------------------------------------------------------\u001b[0m",
            "\u001b[0;31mTypeError\u001b[0m                                 Traceback (most recent call last)",
            "\u001b[0;32m<ipython-input-4-774fabf7ff4e>\u001b[0m in \u001b[0;36m<cell line: 2>\u001b[0;34m()\u001b[0m\n\u001b[1;32m      1\u001b[0m \u001b[0;31m# Создаем экземпляр класса Car\u001b[0m\u001b[0;34m\u001b[0m\u001b[0;34m\u001b[0m\u001b[0m\n\u001b[0;32m----> 2\u001b[0;31m \u001b[0mcar\u001b[0m \u001b[0;34m=\u001b[0m \u001b[0mCar\u001b[0m\u001b[0;34m(\u001b[0m\u001b[0;34m'Grey'\u001b[0m\u001b[0;34m)\u001b[0m\u001b[0;34m\u001b[0m\u001b[0;34m\u001b[0m\u001b[0m\n\u001b[0m\u001b[1;32m      3\u001b[0m \u001b[0;31m# Обращаемся к свойству color\u001b[0m\u001b[0;34m\u001b[0m\u001b[0;34m\u001b[0m\u001b[0m\n\u001b[1;32m      4\u001b[0m \u001b[0mprint\u001b[0m\u001b[0;34m(\u001b[0m\u001b[0mcar\u001b[0m\u001b[0;34m.\u001b[0m\u001b[0mcolor\u001b[0m\u001b[0;34m)\u001b[0m\u001b[0;34m\u001b[0m\u001b[0;34m\u001b[0m\u001b[0m\n\u001b[1;32m      5\u001b[0m \u001b[0;31m# Изменяем свойство color\u001b[0m\u001b[0;34m\u001b[0m\u001b[0;34m\u001b[0m\u001b[0m\n",
            "\u001b[0;31mTypeError\u001b[0m: __init__() missing 1 required positional argument: 'model'"
          ]
        }
      ]
    },
    {
      "cell_type": "markdown",
      "source": [
        "### В соответствии с соглашением чтобы сделать атрибут класса защищенным (protected), необходимо добавить к имени символ подчеркивания _ . Пример такой реализации представлен ниже. "
      ],
      "metadata": {
        "id": "kgp1grjUIfUg"
      }
    },
    {
      "cell_type": "code",
      "source": [
        "class Car: \n",
        "  def __init__(self, color): \n",
        "    self._color = color"
      ],
      "metadata": {
        "id": "_-CEwWk4IRFl"
      },
      "execution_count": 5,
      "outputs": []
    },
    {
      "cell_type": "code",
      "source": [
        "# Создаем экземпляр класса Car \n",
        "car = Car('Grey') \n",
        "# Обращаемся к свойству color \n",
        "print(car._color) \n",
        "# Изменяем свойство color \n",
        "car._color = 'Red' \n",
        "print(car._color) "
      ],
      "metadata": {
        "colab": {
          "base_uri": "https://localhost:8080/"
        },
        "id": "gGgsKLCgH_yN",
        "outputId": "9d10780d-e51e-4d91-9e22-7969b4c3405b"
      },
      "execution_count": 6,
      "outputs": [
        {
          "output_type": "stream",
          "name": "stdout",
          "text": [
            "Grey\n",
            "Red\n"
          ]
        }
      ]
    },
    {
      "cell_type": "markdown",
      "source": [
        "### Это задача программиста – он не должен работать с атрибутами, имена которых начинаются с нижнего подчёркивания _ , снаружи класса. Часто намеренно скрываются поля самого класса, а не его объектов. Например, если класс имеет счетчик своих объектов, то необходимо исключить возможность его случайного изменения из вне."
      ],
      "metadata": {
        "id": "Wcys8XvWInow"
      }
    },
    {
      "cell_type": "code",
      "source": [
        "class B: \n",
        "  count = 0 \n",
        "  def __init__(self): \n",
        "    B.count += 1 \n",
        "  def __del__(self): \n",
        "    B.count -= 1 \n",
        " \n",
        "a = B() \n",
        "b = B() "
      ],
      "metadata": {
        "id": "78ZvZZDvJDrT"
      },
      "execution_count": 7,
      "outputs": []
    },
    {
      "cell_type": "code",
      "source": [
        "print(B.count) # выведет 2 \n",
        "del a \n",
        "print(B.count) # выведет 1"
      ],
      "metadata": {
        "colab": {
          "base_uri": "https://localhost:8080/"
        },
        "id": "43GJPo_rJOaM",
        "outputId": "4d76a1a9-03ed-4263-cdfc-44504e6ed094"
      },
      "execution_count": 8,
      "outputs": [
        {
          "output_type": "stream",
          "name": "stdout",
          "text": [
            "2\n",
            "2\n"
          ]
        }
      ]
    },
    {
      "cell_type": "markdown",
      "source": [
        "### Все работает. Проблема только в том, что если в основной ветке где-то по ошибке или случайно произойдет присвоение полю B.count, то счетчик будет испорчен. "
      ],
      "metadata": {
        "id": "tbc4vOdsJshj"
      }
    },
    {
      "cell_type": "code",
      "source": [
        "B.count -= 1 \n",
        "print(B.count) # будет выведен 0, хотя остался объект b "
      ],
      "metadata": {
        "colab": {
          "base_uri": "https://localhost:8080/"
        },
        "id": "OUlxv1LNJxbT",
        "outputId": "f42e5966-2bac-4088-c1d9-ff22a4b3e25a"
      },
      "execution_count": 9,
      "outputs": [
        {
          "output_type": "stream",
          "name": "stdout",
          "text": [
            "0\n"
          ]
        }
      ]
    },
    {
      "cell_type": "markdown",
      "source": [
        "### Для имитации сокрытия атрибутов в Python используется соглашение – это не синтаксическое правило языка, при желании его можно нарушить, согласно которому, если поле или метод имеют два знака подчеркивания впереди имени, но не сзади, то этот атрибут предусмотрен исключительно для внутреннего пользования."
      ],
      "metadata": {
        "id": "RqAHvpPqJ7SF"
      }
    },
    {
      "cell_type": "code",
      "source": [
        "class B:  \n",
        "  __count = 0 \n",
        "  def __init__(self): \n",
        "    B.__count += 1 \n",
        "  def __del__(self): \n",
        "    B.__count -= 1 \n",
        " \n",
        "a = B() \n",
        "print(B.__count) "
      ],
      "metadata": {
        "colab": {
          "base_uri": "https://localhost:8080/",
          "height": 201
        },
        "id": "SELd54ICKD9l",
        "outputId": "e0b79131-5971-475f-9362-e47025c3605d"
      },
      "execution_count": 11,
      "outputs": [
        {
          "output_type": "error",
          "ename": "AttributeError",
          "evalue": "ignored",
          "traceback": [
            "\u001b[0;31m---------------------------------------------------------------------------\u001b[0m",
            "\u001b[0;31mAttributeError\u001b[0m                            Traceback (most recent call last)",
            "\u001b[0;32m<ipython-input-11-0e4d352d91b1>\u001b[0m in \u001b[0;36m<cell line: 9>\u001b[0;34m()\u001b[0m\n\u001b[1;32m      7\u001b[0m \u001b[0;34m\u001b[0m\u001b[0m\n\u001b[1;32m      8\u001b[0m \u001b[0ma\u001b[0m \u001b[0;34m=\u001b[0m \u001b[0mB\u001b[0m\u001b[0;34m(\u001b[0m\u001b[0;34m)\u001b[0m\u001b[0;34m\u001b[0m\u001b[0;34m\u001b[0m\u001b[0m\n\u001b[0;32m----> 9\u001b[0;31m \u001b[0mprint\u001b[0m\u001b[0;34m(\u001b[0m\u001b[0mB\u001b[0m\u001b[0;34m.\u001b[0m\u001b[0m__count\u001b[0m\u001b[0;34m)\u001b[0m\u001b[0;34m\u001b[0m\u001b[0;34m\u001b[0m\u001b[0m\n\u001b[0m",
            "\u001b[0;31mAttributeError\u001b[0m: type object 'B' has no attribute '__count'"
          ]
        }
      ]
    },
    {
      "cell_type": "code",
      "source": [
        "#Попытка выполнить этот код приведет к выбросу исключения. \n",
        "#File \"test.py\", line 9, in <module> \n",
        " #print(B.__count)"
      ],
      "metadata": {
        "id": "MY3ZuahsKsvY"
      },
      "execution_count": 13,
      "outputs": []
    },
    {
      "cell_type": "markdown",
      "source": [
        "### То есть атрибут __count за пределами класса становится невидимым, хотя внутри класса он вполне себе видимый. Понятно, если не можем даже получить значение поля за пределами класса, то присвоить ему значение – тем более. На самом деле сокрытие в Python не настоящее и доступ к счетчику получить все же можем. Но для этого надо написать B._B__count. "
      ],
      "metadata": {
        "id": "GDTT-qOzK0Eo"
      }
    },
    {
      "cell_type": "code",
      "source": [
        "print(B._B__count)"
      ],
      "metadata": {
        "colab": {
          "base_uri": "https://localhost:8080/"
        },
        "id": "2pxCSFLiLaCc",
        "outputId": "646680dd-c9b0-4faa-b7e9-c08e45c59c37"
      },
      "execution_count": 14,
      "outputs": [
        {
          "output_type": "stream",
          "name": "stdout",
          "text": [
            "1\n"
          ]
        }
      ]
    },
    {
      "cell_type": "markdown",
      "source": [
        "### Таково соглашение. Если в классе есть атрибут с двумя первыми подчеркиваниями, то для доступа извне к имени атрибута добавляется имя класса с одним впереди стоящим подчеркиванием. В результате атрибут как он есть в данном случае __ count оказывается замаскированным. Вне класса такого атрибута просто не существует. Наличие двух подчеркиваний перед атрибутом должно сигнализировать, что трогать его вне класса не стоит вообще, даже через B.__count, разве что при крайней необходимости. Хорошо, мы защитили поле от случайных изменений. Но как теперь получить его значение? Сделать это можно с помощью добавления метода/ "
      ],
      "metadata": {
        "id": "XlAbnKdmLjb3"
      }
    },
    {
      "cell_type": "code",
      "source": [
        "class B: \n",
        "  __count = 0 \n",
        "  def __init__(self): \n",
        "    B.__count += 1 \n",
        "  def __del__(self): \n",
        "    B.__count -= 1 \n",
        "  def qtyObject(): \n",
        "    return B.__count \n",
        " \n",
        "a = B() \n",
        "b = B() "
      ],
      "metadata": {
        "colab": {
          "base_uri": "https://localhost:8080/"
        },
        "id": "Jf15VYGdL5kt",
        "outputId": "4e28c6b8-c12c-412f-a30f-39c2b9936ad1"
      },
      "execution_count": 15,
      "outputs": [
        {
          "output_type": "stream",
          "name": "stderr",
          "text": [
            "Exception ignored in: <function B.__del__ at 0x7f9d8c220430>\n",
            "Traceback (most recent call last):\n",
            "  File \"<ipython-input-7-351de8ed4e51>\", line 6, in __del__\n",
            "AttributeError: type object 'B' has no attribute 'count'\n"
          ]
        }
      ]
    },
    {
      "cell_type": "code",
      "source": [
        "print(B.qtyObject()) # будет выведено 2"
      ],
      "metadata": {
        "colab": {
          "base_uri": "https://localhost:8080/"
        },
        "id": "0Qtz_eh2MBCn",
        "outputId": "74f33095-e1e4-421e-de3f-fd8c65be1dc2"
      },
      "execution_count": 16,
      "outputs": [
        {
          "output_type": "stream",
          "name": "stdout",
          "text": [
            "1\n"
          ]
        }
      ]
    },
    {
      "cell_type": "markdown",
      "source": [
        "### В данном случае метод qtyObject()) не принимает объект (нет self), поэтому вызывать его надо через класс. То же самое с методами. Их можно сделать \"приватными\" с помощью двойного подчеркивания. "
      ],
      "metadata": {
        "id": "TCIPTA-nMzJj"
      }
    },
    {
      "cell_type": "code",
      "source": [
        "class DoubleList: \n",
        "  def __init__(self, l): \n",
        "    self.double = DoubleList.__makeDouble(l) \n",
        "  def __makeDouble(old): \n",
        "    new = [] \n",
        "    for i in old: \n",
        "      new.append(i) \n",
        "      new.append(i) \n",
        "    return new \n",
        " \n",
        "nums = DoubleList([1, 3, 4, 6, 12]) \n",
        "print(nums.double) \n",
        "print(DoubleList.__makeDouble([1,2]))"
      ],
      "metadata": {
        "colab": {
          "base_uri": "https://localhost:8080/",
          "height": 218
        },
        "id": "uUxqpCrAMx_z",
        "outputId": "063de217-122e-4074-a6ab-41c132226d52"
      },
      "execution_count": 18,
      "outputs": [
        {
          "output_type": "stream",
          "name": "stdout",
          "text": [
            "[1, 1, 3, 3, 4, 4, 6, 6, 12, 12]\n"
          ]
        },
        {
          "output_type": "error",
          "ename": "AttributeError",
          "evalue": "ignored",
          "traceback": [
            "\u001b[0;31m---------------------------------------------------------------------------\u001b[0m",
            "\u001b[0;31mAttributeError\u001b[0m                            Traceback (most recent call last)",
            "\u001b[0;32m<ipython-input-18-d6e0988bedcd>\u001b[0m in \u001b[0;36m<cell line: 13>\u001b[0;34m()\u001b[0m\n\u001b[1;32m     11\u001b[0m \u001b[0mnums\u001b[0m \u001b[0;34m=\u001b[0m \u001b[0mDoubleList\u001b[0m\u001b[0;34m(\u001b[0m\u001b[0;34m[\u001b[0m\u001b[0;36m1\u001b[0m\u001b[0;34m,\u001b[0m \u001b[0;36m3\u001b[0m\u001b[0;34m,\u001b[0m \u001b[0;36m4\u001b[0m\u001b[0;34m,\u001b[0m \u001b[0;36m6\u001b[0m\u001b[0;34m,\u001b[0m \u001b[0;36m12\u001b[0m\u001b[0;34m]\u001b[0m\u001b[0;34m)\u001b[0m\u001b[0;34m\u001b[0m\u001b[0;34m\u001b[0m\u001b[0m\n\u001b[1;32m     12\u001b[0m \u001b[0mprint\u001b[0m\u001b[0;34m(\u001b[0m\u001b[0mnums\u001b[0m\u001b[0;34m.\u001b[0m\u001b[0mdouble\u001b[0m\u001b[0;34m)\u001b[0m\u001b[0;34m\u001b[0m\u001b[0;34m\u001b[0m\u001b[0m\n\u001b[0;32m---> 13\u001b[0;31m \u001b[0mprint\u001b[0m\u001b[0;34m(\u001b[0m\u001b[0mDoubleList\u001b[0m\u001b[0;34m.\u001b[0m\u001b[0m__makeDouble\u001b[0m\u001b[0;34m(\u001b[0m\u001b[0;34m[\u001b[0m\u001b[0;36m1\u001b[0m\u001b[0;34m,\u001b[0m\u001b[0;36m2\u001b[0m\u001b[0;34m]\u001b[0m\u001b[0;34m)\u001b[0m\u001b[0;34m)\u001b[0m\u001b[0;34m\u001b[0m\u001b[0;34m\u001b[0m\u001b[0m\n\u001b[0m",
            "\u001b[0;31mAttributeError\u001b[0m: type object 'DoubleList' has no attribute '__makeDouble'"
          ]
        }
      ]
    },
    {
      "cell_type": "markdown",
      "source": [
        "### Подведя итоги, можно сказать следующее: \n",
        "* существует три уровня доступа к свойствам/методам класса: public, \n",
        "protected, private; \n",
        "* физически данный механизм ограничения доступа к атрибутам класса в Python реализован слабо, что от части может противоречить одному из главных принципов ООП - инкапсуляции. \n",
        "* существует некоторое соглашение, по которому в Python задать уровень \n",
        "доступа к свойству/методу класса можно с помощью добавления к имени одного (protected) или двух (private) подчеркиваний.Ответственность за соблюдение \n",
        "данного соглашения ложится на плечи программистов."
      ],
      "metadata": {
        "id": "ttG44j0ONPsX"
      }
    }
  ]
}