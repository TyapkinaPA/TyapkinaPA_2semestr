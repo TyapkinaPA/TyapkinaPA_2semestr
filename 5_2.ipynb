{
  "nbformat": 4,
  "nbformat_minor": 0,
  "metadata": {
    "colab": {
      "provenance": [],
      "authorship_tag": "ABX9TyNVQrm8ZXsoBeuJBBBZ0JdN",
      "include_colab_link": true
    },
    "kernelspec": {
      "name": "python3",
      "display_name": "Python 3"
    },
    "language_info": {
      "name": "python"
    }
  },
  "cells": [
    {
      "cell_type": "markdown",
      "metadata": {
        "id": "view-in-github",
        "colab_type": "text"
      },
      "source": [
        "<a href=\"https://colab.research.google.com/github/TyapkinaPA/TyapkinaPA_2semestr/blob/main/5_2.ipynb\" target=\"_parent\"><img src=\"https://colab.research.google.com/assets/colab-badge.svg\" alt=\"Open In Colab\"/></a>"
      ]
    },
    {
      "cell_type": "markdown",
      "source": [
        "#Задача №2\n",
        "###Продолжая работу над игрой, вы добрались до достижений системы. Иногда игра требует выигрыша игрока за то, что он принимает решение о результате в игре. Это может быть, например, прохождение всех заданий в игре, достижение определенного уровня, совершение какого-то сложного действия и т.д.\n",
        "\n",
        "###В каждой игре есть движок и интерфейс пользователя. Это два компонента, которые работают совместно и взаимодействуют друг с другом. Достижения генерируются движком игры, доступным пользовательским интерфейсом. Кроме того, на игровых площадках, таких как Steam, Google Play, также представлены достижения, полученные игроками. Для этого как раз шаблон Наблюдатель.\n",
        "\n",
        "###У вас есть движок Engine, который может обеспечить стабильность о достижениях. Вам необходимо написать обертку над движком, которая будет иметь возможность подписывать наблюдатели и рассылать им консоль, а также иерархию наблюдателей. В иерархию наблюдателей должны входить абстрактный наблюдатель, AbstractObserverот которого унаследованы 2 наблюдателя ShortNotificationPrinterи FullNotificationPrinter. Первый из них составляет множество полученных доходов, второй составляет список достижений в том порядке, в котором они даны в системе. Имейте в виду, что каждое достижение должно быть учтено только один раз.\n",
        "\n"
      ],
      "metadata": {
        "id": "kPqzBedc3Vqa"
      }
    },
    {
      "cell_type": "code",
      "execution_count": 59,
      "metadata": {
        "colab": {
          "base_uri": "https://localhost:8080/"
        },
        "id": "-MmAOvB43PTS",
        "outputId": "bb98547b-4a46-4d71-ae44-f663848f724b"
      },
      "outputs": [
        {
          "output_type": "stream",
          "name": "stdout",
          "text": [
            "Short Notification Printer:\n",
            "Beat the boss\n",
            "Collect 10 coins\n",
            "Complete level 1\n",
            "Win a race\n",
            "Complete level 2\n",
            "\n",
            "Full Notification Printer:\n",
            "{'title': 'Complete level 1'}\n",
            "{'title': 'Collect 10 coins'}\n",
            "{'title': 'Win a race'}\n",
            "{'title': 'Complete level 2'}\n",
            "{'title': 'Beat the boss'}\n"
          ]
        }
      ],
      "source": [
        "from abc import ABC, abstractmethod\n",
        "\n",
        "\n",
        "class ObservableEngine(Engine):\n",
        "    def __init__(self):\n",
        "        self.__subscribers = set()\n",
        "\n",
        "    def subscribe(self, subscriber):\n",
        "        self.__subscribers.add(subscriber)\n",
        "\n",
        "    def unsubscribe(self, subscriber):\n",
        "        self.__subscribers.remove(subscriber)\n",
        "\n",
        "    def notify(self, message):\n",
        "        for subscriber in self.__subscribers:\n",
        "            subscriber.update(message)\n",
        "\n",
        "\n",
        "class AbstractObserver(ABC):\n",
        "    @abstractmethod\n",
        "    def update(self, message):\n",
        "        pass\n",
        "\n",
        "class ShortNotificationPrinter(AbstractObserver):\n",
        "    def __init__(self):\n",
        "        self.achievements = set()\n",
        "\n",
        "    def update(self, message):\n",
        "        self.achievements.add(message['title'])\n",
        "\n",
        "class FullNotificationPrinter(AbstractObserver):\n",
        "    def __init__(self):\n",
        "        self.achievements = list()\n",
        "\n",
        "    def update(self, message):\n",
        "        if message not in self.achievements:\n",
        "            self.achievements.append(message)\n",
        "\n",
        "\n",
        "class AchievementSystem:\n",
        "    def __init__(self):\n",
        "        self.oe = ObservableEngine()\n",
        "        self.short_printer = ShortNotificationPrinter()\n",
        "        self.full_printer = FullNotificationPrinter()\n",
        "        self.oe.subscribe(self.short_printer)\n",
        "        self.oe.subscribe(self.full_printer)\n",
        "        self.achievements = []\n",
        "        \n",
        "    def add_achievement(self, title):\n",
        "        achievement = {'title': title}\n",
        "        self.achievements.append(achievement)\n",
        "        self.oe.notify(achievement)\n",
        "        \n",
        "    def list_achievements(self):\n",
        "        print('Short Notification Printer:')\n",
        "        for achievement in self.short_printer.achievements:\n",
        "            print(achievement)\n",
        "        print()\n",
        "        print('Full Notification Printer:')\n",
        "        for achievement in self.full_printer.achievements:\n",
        "            print(achievement)\n",
        "            \n",
        "          \n",
        "if __name__ == '__main__':\n",
        "    achievement_system = AchievementSystem()\n",
        "    achievement_system.add_achievement('Complete level 1')\n",
        "    achievement_system.add_achievement('Collect 10 coins')\n",
        "    achievement_system.add_achievement('Win a race')\n",
        "    achievement_system.add_achievement('Complete level 2')\n",
        "    achievement_system.add_achievement('Beat the boss')\n",
        "    achievement_system.list_achievements()"
      ]
    }
  ]
}