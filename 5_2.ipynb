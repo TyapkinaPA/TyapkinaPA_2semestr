{
  "nbformat": 4,
  "nbformat_minor": 0,
  "metadata": {
    "colab": {
      "provenance": [],
      "authorship_tag": "ABX9TyM4nyfYNRuqtf6G0bduTkHP",
      "include_colab_link": true
    },
    "kernelspec": {
      "name": "python3",
      "display_name": "Python 3"
    },
    "language_info": {
      "name": "python"
    }
  },
  "cells": [
    {
      "cell_type": "markdown",
      "metadata": {
        "id": "view-in-github",
        "colab_type": "text"
      },
      "source": [
        "<a href=\"https://colab.research.google.com/github/TyapkinaPA/TyapkinaPA_2semestr/blob/main/5_2.ipynb\" target=\"_parent\"><img src=\"https://colab.research.google.com/assets/colab-badge.svg\" alt=\"Open In Colab\"/></a>"
      ]
    },
    {
      "cell_type": "markdown",
      "source": [
        "#Задача №2\n",
        "###Продолжая работу над игрой, вы добрались до достижений системы. Иногда игра требует выигрыша игрока за то, что он принимает решение о результате в игре. Это может быть, например, прохождение всех заданий в игре, достижение определенного уровня, совершение какого-то сложного действия и т.д.\n",
        "\n",
        "###В каждой игре есть движок и интерфейс пользователя. Это два компонента, которые работают совместно и взаимодействуют друг с другом. Достижения генерируются движком игры, доступным пользовательским интерфейсом. Кроме того, на игровых площадках, таких как Steam, Google Play, также представлены достижения, полученные игроками. Для этого как раз шаблон Наблюдатель.\n",
        "\n",
        "###У вас есть движок Engine, который может обеспечить стабильность о достижениях. Вам необходимо написать обертку над движком, которая будет иметь возможность подписывать наблюдатели и рассылать им консоль, а также иерархию наблюдателей. В иерархию наблюдателей должны входить абстрактный наблюдатель, AbstractObserverот которого унаследованы 2 наблюдателя ShortNotificationPrinterи FullNotificationPrinter. Первый из них составляет множество полученных доходов, второй составляет список достижений в том порядке, в котором они даны в системе. Имейте в виду, что каждое достижение должно быть учтено только один раз.\n",
        "\n",
        "###Пример достижения, которое требует движения:\n",
        "\n",
        "    {\"title\": \"Покоритель\", \"text\": \"Дается при выполнении всех заданий в игре\"}\n",
        "###Метод updateне должен возвращать никаких значений, он должен изменять только переменную achievements.\n",
        "\n",
        "###Класс Engineреализовывать не нужно!\n"
      ],
      "metadata": {
        "id": "kPqzBedc3Vqa"
      }
    },
    {
      "cell_type": "code",
      "execution_count": 14,
      "metadata": {
        "colab": {
          "base_uri": "https://localhost:8080/"
        },
        "id": "-MmAOvB43PTS",
        "outputId": "ab4534c1-a193-49a4-9da0-cefe1a20ee36"
      },
      "outputs": [
        {
          "output_type": "stream",
          "name": "stdout",
          "text": [
            "Принт коротких уведомлений:\n",
            "Шоппинг - дело неотложное\n",
            "Два одиночества\n",
            "Рашомон против Тигра\n",
            "Охотник стал жертвой\n",
            "Поздно сожалеть\n",
            "Снежный демон\n",
            "Не поздно стать героем\n",
            "Череда похищений\n",
            "Новое столкновение\n",
            "Неудачное самоубийство\n",
            "Криминальное чтиво\n",
            "В интересах мафии\n",
            "Бывший наставник\n",
            "Слабые умирают\n",
            "Старый соперник\n",
            "Теракт?\n",
            "Брифинг\n",
            "\n",
            "Полный принт уведомлений:\n",
            "{'title': 'Неудачное самоубийство', 'text': 'И его тяжёлые последствия'}\n",
            "{'title': 'Череда похищений', 'text': 'Агентство начинает расследование'}\n",
            "{'title': 'Криминальное чтиво', 'text': 'Каждая книга находит своего читателя'}\n",
            "{'title': 'Новое столкновение', 'text': 'Мафия вмешивается в дела агентства'}\n",
            "{'title': 'Брифинг', 'text': 'Не дать запятнать честь агентства'}\n",
            "{'title': 'Охотник стал жертвой', 'text': 'Куникида нарвался на неприятности'}\n",
            "{'title': 'Поздно сожалеть', 'text': 'Дело раскрыто, но жертв не избежать'}\n",
            "{'title': 'Шоппинг - дело неотложное', 'text': 'Ацуши отправляется за покупками'}\n",
            "{'title': 'Теракт?', 'text': 'Детективов застали врасплох'}\n",
            "{'title': 'Снежный демон', 'text': 'Вы познакомились с Кёкой'}\n",
            "{'title': 'Не поздно стать героем', 'text': 'Ацуши выручает Кёку'}\n",
            "{'title': 'Бывший наставник', 'text': 'Дазай в плену Акутагавы'}\n",
            "{'title': 'Два одиночества', 'text': 'Ацуши сам решает, как поступить'}\n",
            "{'title': 'Старый соперник', 'text': 'Вы познакомились с Чуей'}\n",
            "{'title': 'В интересах мафии', 'text': 'Акутагава пленит Ацуши'}\n",
            "{'title': 'Рашомон против Тигра', 'text': 'Акутагава бьётся против Ацуши'}\n",
            "{'title': 'Слабые умирают', 'text': 'Ацуши нокаутирует Акутагаву'}\n"
          ]
        }
      ],
      "source": [
        "from abc import ABC, abstractmethod\n",
        "\n",
        "class ObservableEngine(Engine):\n",
        "    def __init__(self):\n",
        "        self.__subscribers = set()\n",
        "\n",
        "    def subscribe(self, subscriber):\n",
        "        self.__subscribers.add(subscriber)\n",
        "\n",
        "    def unsubscribe(self, subscriber):\n",
        "        self.__subscribers.remove(subscriber)\n",
        "\n",
        "    def notify(self, message):\n",
        "        for subscriber in self.__subscribers:\n",
        "            subscriber.update(message)\n",
        "\n",
        "\n",
        "class AbstractObserver(ABC):\n",
        "    @abstractmethod\n",
        "    def update(self, message):\n",
        "        pass\n",
        "\n",
        "\n",
        "class ShortNotificationPrinter(AbstractObserver):\n",
        "    def __init__(self):\n",
        "        self.achievements = set()\n",
        "\n",
        "    def update(self, message):\n",
        "        self.achievements.add(message['title'])\n",
        "\n",
        "\n",
        "class FullNotificationPrinter(AbstractObserver):\n",
        "    def __init__(self):\n",
        "        self.achievements = list()\n",
        "\n",
        "    def update(self, message):\n",
        "        if message not in self.achievements:\n",
        "            self.achievements.append(message)\n",
        "\n",
        "class AchievementSystem:\n",
        "    def __init__(self):\n",
        "        self.oe = ObservableEngine()\n",
        "        self.short_printer = ShortNotificationPrinter()\n",
        "        self.full_printer = FullNotificationPrinter()\n",
        "        self.oe.subscribe(self.short_printer)\n",
        "        self.oe.subscribe(self.full_printer)\n",
        "        self.achievements = []\n",
        "        \n",
        "    def add_achievement(self, title, text):\n",
        "        achievement = {'title': title, 'text': text}\n",
        "        self.achievements.append(achievement)\n",
        "        self.oe.notify(achievement)\n",
        "        \n",
        "    def list_achievements(self):\n",
        "        print('Принт коротких уведомлений:')\n",
        "        for achievement in self.short_printer.achievements:\n",
        "            print(achievement)\n",
        "        print()\n",
        "        print('Полный принт уведомлений:')\n",
        "        for achievement in self.full_printer.achievements:\n",
        "            print(achievement)\n",
        "            \n",
        "          \n",
        "if __name__ == '__main__':\n",
        "    achievement_system = AchievementSystem()\n",
        "    achievement_system.add_achievement('Неудачное самоубийство', 'И его тяжёлые последствия')\n",
        "    achievement_system.add_achievement('Череда похищений', 'Агентство начинает расследование')\n",
        "    achievement_system.add_achievement('Криминальное чтиво', 'Каждая книга находит своего читателя')\n",
        "    achievement_system.add_achievement('Новое столкновение', 'Мафия вмешивается в дела агентства')\n",
        "    achievement_system.add_achievement('Брифинг', 'Не дать запятнать честь агентства')\n",
        "    achievement_system.add_achievement('Охотник стал жертвой', 'Куникида нарвался на неприятности')\n",
        "    achievement_system.add_achievement('Поздно сожалеть', 'Дело раскрыто, но жертв не избежать')\n",
        "    achievement_system.add_achievement('Шоппинг - дело неотложное', 'Ацуши отправляется за покупками')\n",
        "    achievement_system.add_achievement('Теракт?', 'Детективов застали врасплох')\n",
        "    achievement_system.add_achievement('Снежный демон', 'Вы познакомились с Кёкой')\n",
        "    achievement_system.add_achievement('Не поздно стать героем', 'Ацуши выручает Кёку')\n",
        "    achievement_system.add_achievement('Бывший наставник', 'Дазай в плену Акутагавы')\n",
        "    achievement_system.add_achievement('Два одиночества', 'Ацуши сам решает, как поступить')\n",
        "    achievement_system.add_achievement('Старый соперник', 'Вы познакомились с Чуей')\n",
        "    achievement_system.add_achievement('В интересах мафии', 'Акутагава пленит Ацуши')\n",
        "    achievement_system.add_achievement('Рашомон против Тигра', 'Акутагава бьётся против Ацуши')\n",
        "    achievement_system.add_achievement('Слабые умирают', 'Ацуши нокаутирует Акутагаву')\n",
        "    achievement_system.list_achievements()"
      ]
    }
  ]
}