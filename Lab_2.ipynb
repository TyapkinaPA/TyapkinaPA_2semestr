{
  "nbformat": 4,
  "nbformat_minor": 0,
  "metadata": {
    "colab": {
      "provenance": [],
      "authorship_tag": "ABX9TyNlkvafMto3m6WeG52LEARo",
      "include_colab_link": true
    },
    "kernelspec": {
      "name": "python3",
      "display_name": "Python 3"
    },
    "language_info": {
      "name": "python"
    }
  },
  "cells": [
    {
      "cell_type": "markdown",
      "metadata": {
        "id": "view-in-github",
        "colab_type": "text"
      },
      "source": [
        "<a href=\"https://colab.research.google.com/github/TyapkinaPA/TyapkinaPA_2semestr/blob/main/Lab_2.ipynb\" target=\"_parent\"><img src=\"https://colab.research.google.com/assets/colab-badge.svg\" alt=\"Open In Colab\"/></a>"
      ]
    },
    {
      "cell_type": "markdown",
      "source": [
        "# Упражнение для самостоятельного выполнения по теме \"Наследование\"\n",
        "### №1 \n",
        "####В рамках приложения разработать класс В – наследник класса А (задание 2) с полем d и свойством с2. Свойство с2 – результат вычисления выражения над полями a, b, d. В теле свойства использовать управляющий оператор (см. вариант в таблице 2.2). У класса А создать конструктор, инициализирующий его поля. Для класса В определить 2 конструктора: один – наследуется от конструктора класса А, второй – собственный. В теле программы создать объекты классов А и В, продемонстрировав работу всех конструкторов. Вывести значения свойства на экран. "
      ],
      "metadata": {
        "id": "QMJbfuwSC-oA"
      }
    },
    {
      "cell_type": "code",
      "execution_count": null,
      "metadata": {
        "id": "dcogmhCMJ2oW"
      },
      "outputs": [],
      "source": [
        "class A():\n",
        "    def __init__(self, a, b):\n",
        "        self.a = a\n",
        "        self.b = b\n",
        "    \n",
        "    def divide(self, a=1, b=1):\n",
        "        c = self.a / self.b\n",
        "        return c\n",
        "    \n",
        "    def reduce(self, a=1, b=1):\n",
        "        c = self.a - self.b\n",
        "        return c\n",
        "    \n",
        "    def __del__(self):\n",
        "        print('Process deleted.')\n",
        "\n",
        "class B(A):\n",
        "    def __init__(self, a, b, c):\n",
        "        self.c = c\n",
        "        self.b = b\n",
        "        self.a = a\n",
        "        \n",
        "    def c2(self):\n",
        "        if self.c < self.a:\n",
        "            res = self.divide(self.c, self.a)\n",
        "        elif self.c > self.a:\n",
        "            res = self.reduce(self.c, self.a)\n",
        "        elif self.c == self.a:\n",
        "            res = self.c\n",
        "        elif self.c < self.b:\n",
        "            res = self.divide(self.c, self.b)\n",
        "        elif self.c > self.b:\n",
        "            res = self.reduce(self.c, self.b)\n",
        "        elif self.c == self.b:\n",
        "            res = self.b\n",
        "        return res"
      ]
    },
    {
      "cell_type": "code",
      "source": [
        "while __name__ == '__main__':\n",
        "    x = A(1, 2)\n",
        "    y = B(1, 2, 3)\n",
        "    print('a = {}, b = {}, c = {}'.format(y.a, y.b, y.c))\n",
        "\n",
        "    # Конструктор класса A:\n",
        "    print('-' * 7 + '\\n' + 'Конструктор класса А:')\n",
        "    print(x.a) \n",
        "    print(x.b) \n",
        "\n",
        "    # Конструктор класса B:\n",
        "    print('-' * 7 + '\\n' + 'Конструктор класса B')\n",
        "    print(y.a) \n",
        "    print(y.b) \n",
        "    print(y.c) \n",
        "\n",
        "    print('-' * 7)\n",
        "    print(y.c2()) \n",
        "    y.a = 3\n",
        "    print(y.c2()) \n",
        "    y.b = 1\n",
        "    print(y.c2()) \n",
        "    break\n",
        "    del x, y"
      ],
      "metadata": {
        "colab": {
          "base_uri": "https://localhost:8080/"
        },
        "id": "Av2kH9q4EXor",
        "outputId": "eb5ca4cf-be6a-4fe3-af93-f86cf73c7da5"
      },
      "execution_count": null,
      "outputs": [
        {
          "output_type": "stream",
          "name": "stdout",
          "text": [
            "a = 1, b = 2, c = 3\n",
            "-------\n",
            "Конструктор класса А:\n",
            "1\n",
            "2\n",
            "-------\n",
            "Конструктор класса B\n",
            "1\n",
            "2\n",
            "3\n",
            "-------\n",
            "-1\n",
            "3\n",
            "3\n",
            "Process deleted.\n",
            "Process deleted.\n"
          ]
        }
      ]
    },
    {
      "cell_type": "markdown",
      "source": [
        "# Упражнения для всех вариантов\n",
        "### №1 \n",
        "####Создайте класс «зарплата», который вычисляет сумму зарплаты в зависимости от тарифной ставки и числа отработанных дней. Расширьте метод начислением процентов в зависимости от объема продаж. "
      ],
      "metadata": {
        "id": "NEuTAYq5VdkZ"
      }
    },
    {
      "cell_type": "code",
      "source": [
        "class ZP():               # zarplata\n",
        "  def __init__(self):\n",
        "    t = input('Вы хотите честный вывод вашей ничтожно маленькой зарплаты?: ').lower()\n",
        "    self.proc = 0.08      # procent\n",
        "    if t == 'let':\n",
        "      self.ZPs = 80000    \n",
        "      self.WD = 23        # work days\n",
        "      self.SD = 20        # spent days\n",
        "      self.NoT = 351     # number of tasks\n",
        "    else:\n",
        "      self.ZPs = float(input('Зарплата за месяц: '))\n",
        "      self.WD = int(input('Количество рабочих дней: '))\n",
        "      self.SD = int(input('Количество отработанных дней: '))\n",
        "      self.NoT = int(input('Количество отработанных задач: '))\n",
        "      assert self.ZPs > 0 and self.WD > 0 and self.SD > 0 and self.NoT > 0\n",
        "      if (self.NoT > 350):\n",
        "        self.proc = 0.08\n",
        "      else:\n",
        "        self.proc = 0.04\n",
        "  def itog(self):\n",
        "    self.res = self.ZPs / self.WD * self.SD      \n",
        "    self.res += self.proc * self.res\n",
        "    print(round(self.res))\n",
        "    return self.res\n",
        "\n",
        "  def __del__(self):\n",
        "    print('Process deleted.')\n",
        "     \n",
        "\n",
        "a = ZP()\n",
        "a.itog()\n",
        "del a\n"
      ],
      "metadata": {
        "id": "_0YJ_tWGV0GI",
        "colab": {
          "base_uri": "https://localhost:8080/"
        },
        "outputId": "603ab448-a06f-48e1-ccdd-3b5592a97d5a"
      },
      "execution_count": null,
      "outputs": [
        {
          "output_type": "stream",
          "name": "stdout",
          "text": [
            "Вы хотите честный вывод вашей ничтожно маленькой зарплаты?: let\n",
            "75130\n",
            "Process deleted.\n"
          ]
        }
      ]
    },
    {
      "cell_type": "markdown",
      "source": [
        "### №2 \n",
        "####Переопределите метод начисления зарплаты: в случае, если объем продаж в месяц превысил 1 000 000, проценты добавляются к зарплате, в противном случае – вычитаются"
      ],
      "metadata": {
        "id": "kjhzY82uF8Wp"
      }
    },
    {
      "cell_type": "code",
      "source": [],
      "metadata": {
        "id": "gA6a0nNBWBNa"
      },
      "execution_count": null,
      "outputs": []
    },
    {
      "cell_type": "markdown",
      "source": [
        "### №3 \n",
        "####Создайте для класса «сотрудники» абстрактный метод начисления зарплаты. Создайте два класса-наследника: сотрудник отдела продаж и сотрудник склада. Для первого класса начисление происходит аналогично заданию 1, а для второго – в зависимости от количества отработанных дней"
      ],
      "metadata": {
        "id": "89qK1BvCWBmJ"
      }
    },
    {
      "cell_type": "code",
      "source": [
        "from abc import ABC, abstractmethod\n",
        "\n",
        "class Employee(ABC):\n",
        "  @abstractmethod\n",
        "  def calculate_salary(self):\n",
        "    pass\n",
        "class SalesEmployee(Employee):\n",
        "    def __init__(self, fullname, base_salary, sales_value):\n",
        "      self.__fullname = fullname\n",
        "      self.__base_salary = base_salary\n",
        "      self.__sales_value = sales_value\n",
        "    def priskazka(self):\n",
        "      print('Сотрудник: {} \\n Начальная заработная плата: {} \\n Количество выполненных задач: {}'.format(self.__fullname, self.__base_salary, self.__sales_value))\n",
        "    def calculate_salary(self):\n",
        "      t = self.__base_salary + self.__sales_value * 0.1\n",
        "      print('Итог: ', t)\n",
        "    def __del__(self):\n",
        "      print('Process deleted.')\n",
        "\n",
        "class WarehouseEmployee(Employee):\n",
        "    def __init__(self, fullname, base_salary, days_worked):\n",
        "      self.__fullname = fullname\n",
        "      self.__base_salary = base_salary\n",
        "      self.__days_worked = days_worked\n",
        "    def priskazka(self):\n",
        "      print('Сотрудник: {} \\n Начальная заработная плата: {} \\n Количество отработанных дней: {}'.format(self.__fullname, self.__base_salary, self.__days_worked))\n",
        "    def calculate_salary(self):\n",
        "      t = self.__base_salary * self.__days_worked / 30\n",
        "      print('Итог: ', round(t, 1))\n",
        "    def __del__(self):\n",
        "      print('Process deleted.')  "
      ],
      "metadata": {
        "id": "eV9fTtgOWQGQ"
      },
      "execution_count": 23,
      "outputs": []
    },
    {
      "cell_type": "code",
      "source": [
        "sales_employee = SalesEmployee(\"Иванов Иван\", 70000, 25000)\n",
        "warehouse_employee = WarehouseEmployee(\"Петров Петр\", 50000, 23)\n",
        "\n",
        "sales_employee.priskazka()\n",
        "sales_employee.calculate_salary() \n",
        "\n",
        "warehouse_employee.priskazka()\n",
        "warehouse_employee.calculate_salary() "
      ],
      "metadata": {
        "colab": {
          "base_uri": "https://localhost:8080/"
        },
        "id": "7it-EiFv7piQ",
        "outputId": "88cd1ae5-0c42-4449-fcda-e85a8376f53f"
      },
      "execution_count": 24,
      "outputs": [
        {
          "output_type": "stream",
          "name": "stdout",
          "text": [
            "Сотрудник: Иванов Иван \n",
            " Начальная заработная плата: 70000 \n",
            " Количество выполненных задач: 25000\n",
            "Итог:  72500.0\n",
            "Сотрудник: Петров Петр \n",
            " Начальная заработная плата: 50000 \n",
            " Количество отработанных дней: 23\n",
            "Итог:  38333.3\n",
            "Process deleted.\n",
            "Process deleted.\n"
          ]
        }
      ]
    },
    {
      "cell_type": "markdown",
      "source": [
        "### №4 \n",
        "####Решите предыдущую задачу, используя декоратор Sabstractmethod. Имеется класс «мебель». Создайте класс «корпусная мебель», «мягкая мебель» и «кухонная мебель». Определите атрибуты и методы родительского класса и классов-наследников. "
      ],
      "metadata": {
        "id": "3CkE53FCWaWv"
      }
    },
    {
      "cell_type": "code",
      "source": [],
      "metadata": {
        "id": "0HLfJ-fcWklt"
      },
      "execution_count": 13,
      "outputs": []
    },
    {
      "cell_type": "markdown",
      "source": [
        "### №5 \n",
        "####Имеется класс «мебель». Создайте класс «корпусная мебель», «мягкая мебель» и «кухонная мебель». Определите атрибуты и методы родительского класса и классов-наследников. "
      ],
      "metadata": {
        "id": "8udYjgTpWluT"
      }
    },
    {
      "cell_type": "code",
      "source": [
        "class Mebel():\n",
        "  def __init__(self, tip, material, color):\n",
        "    self.tip = tip\n",
        "    self.material = material\n",
        "    self.color = color\n",
        "  def pokupka(self):\n",
        "    print('Вы желаете приобрести мебель? \\n Какой тип мебели вам нужен? \\n {} \\n Какой материал предпочетаете? \\n {} \\n А оттенок какой предпочетаете? \\n {}'.format(self.tip, self.material, self.color))\n",
        "\n",
        "class Korp_M(Mebel):\n",
        "  def __init__(self, height, width, depth):\n",
        "    self.height = height\n",
        "    self.width = width\n",
        "    self.depth = depth\n",
        "  def pokupka_kor(self):\n",
        "    print('Какие размеры должно иметь ваше будущее пополнение ассортимента мебели? \\n Так-так-так! Давайте по порядку! А то я могу и перепутать \":). \\n Высота: {} \\n Ширина: {} \\n Глубина: {}'.format(self.height, self.width, self.depth))\n",
        "\n",
        "class Miagk_M(Korp_M):\n",
        "  def __init__(self, cover_material, filling_material):\n",
        "    self.cover_material = cover_material\n",
        "    self.filling_material = filling_material\n",
        "  def pokupka_miagk(self):\n",
        "    print('Раз уж это мягкая мебель, давайте выберем материал обивки. \\n Выбрали? Хорошо, какая? \\n {} \\n Вот эта? хорошо, учтем! А чем будет набит атрибут квартиры? \\n {} \\n Хорошо!'.format(self.cover_material, self.filling_material))\n",
        "\n",
        "class Kuh_M(Korp_M):\n",
        "  def __init__(self, number_of_drawers, number_of_doors, has_sink):\n",
        "    self.number_of_drawers = number_of_drawers\n",
        "    self.number_of_doors = number_of_doors\n",
        "    self.has_sink = has_sink\n",
        "  def pokupka_kuh(self):\n",
        "    print('Давайте решим вопрос с количеством ящиков и створок на мебели! \\n {} {} \\n Хорошо! Будет ли в одном из ящиков распологаться раковина? {}'.format(self.number_of_drawers, self.number_of_doors, self.has_sink))"
      ],
      "metadata": {
        "id": "XonU5FKSWssN"
      },
      "execution_count": null,
      "outputs": []
    },
    {
      "cell_type": "code",
      "source": [
        "x = Mebel('рабочий стол', 'дерево', 'коричневый')\n",
        "x.pokupka()\n",
        "korp = Korp_M('0.8', '1.5', '1.0')\n",
        "korp.pokupka_kor()\n",
        "\n",
        "y = Mebel('диван', 'дерматин', 'бежевый')\n",
        "y.pokupka()\n",
        "miagk = Miagk_M('дермантин', 'паралон')\n",
        "miagk.pokupka_miagk()\n",
        "korp_miagk = Korp_M('0.3', '2.0', '2.0')\n",
        "korp_miagk.pokupka_kor()\n",
        "\n",
        "z = Mebel('шкаф', 'дерево', 'каштановый')\n",
        "z.pokupka()\n",
        "kuh = Kuh_M('3', '2', 'Да')\n",
        "kuh.pokupka_kuh()\n",
        "korp_kuh = Korp_M('1.1', '2.2', '1.2')\n",
        "korp_kuh.pokupka_kor()\n"
      ],
      "metadata": {
        "colab": {
          "base_uri": "https://localhost:8080/"
        },
        "id": "_dudyOUpAKLS",
        "outputId": "d147a128-000c-4e65-9c17-3f62560a71c1"
      },
      "execution_count": null,
      "outputs": [
        {
          "output_type": "stream",
          "name": "stdout",
          "text": [
            "Вы желаете приобрести мебель? \n",
            " Какой тип мебели вам нужен? \n",
            " рабочий стол \n",
            " Какой материал предпочетаете? \n",
            " дерево \n",
            " А оттенок какой предпочетаете? \n",
            " коричневый\n",
            "Какие размеры должно иметь ваше будущее пополнение ассортимента мебели? \n",
            " Так-так-так! Давайте по порядку! А то я могу и перепутать \":). \n",
            " Высота: 0.8 \n",
            " Ширина: 1.5 \n",
            " Глубина: 1.0\n",
            "Вы желаете приобрести мебель? \n",
            " Какой тип мебели вам нужен? \n",
            " диван \n",
            " Какой материал предпочетаете? \n",
            " дерматин \n",
            " А оттенок какой предпочетаете? \n",
            " бежевый\n",
            "Раз уж это мягкая мебель, давайте выберем материал обивки. \n",
            " Выбрали? Хорошо, какая? \n",
            " дермантин \n",
            " Вот эта? хорошо, учтем! А чем будет набит атрибут квартиры? \n",
            " паралон \n",
            " Хорошо!\n",
            "Какие размеры должно иметь ваше будущее пополнение ассортимента мебели? \n",
            " Так-так-так! Давайте по порядку! А то я могу и перепутать \":). \n",
            " Высота: 0.3 \n",
            " Ширина: 2.0 \n",
            " Глубина: 2.0\n",
            "Вы желаете приобрести мебель? \n",
            " Какой тип мебели вам нужен? \n",
            " шкаф \n",
            " Какой материал предпочетаете? \n",
            " дерево \n",
            " А оттенок какой предпочетаете? \n",
            " каштановый\n",
            "Давайте решим вопрос с количеством ящиков и створок на мебели! \n",
            " 3 2 \n",
            " Хорошо! Будет ли в одном из ящиков распологаться раковина? Да\n",
            "Какие размеры должно иметь ваше будущее пополнение ассортимента мебели? \n",
            " Так-так-так! Давайте по порядку! А то я могу и перепутать \":). \n",
            " Высота: 1.1 \n",
            " Ширина: 2.2 \n",
            " Глубина: 1.2\n"
          ]
        }
      ]
    },
    {
      "cell_type": "markdown",
      "source": [
        "### №6 \n",
        "####Создайте приложение, в котором необходимо разработать базовый класс man. Объекты этого класса содержат справочную информацию о конкретном человеке (фамилию, инициалы, телефон, адрес, возраст). Создайте два производных от него класса: manager и secretary. Объекты класса manager дополнительно включают номер отдела и количество подчиненных. Объекты класса manager дополнительно включают номер отдела и количество подчиненных. Объекты класса secretary дополнительно включают фамилию начальника. Данные о менеджерах и секретарях введите с клавиатуры и выведите на экран дисплея"
      ],
      "metadata": {
        "id": "2kOp5X-bWtAd"
      }
    },
    {
      "cell_type": "code",
      "source": [
        "class Man:\n",
        "  def __init__(self, surname, initials, phone, address, age):\n",
        "    self.surname = surname\n",
        "    self.initials = initials\n",
        "    self.phone = phone\n",
        "    self.address = address\n",
        "    self.age = age\n",
        "  def info(self):\n",
        "    print('Фамилия: {} \\n Инициалы: {} \\n Телефон: {} \\n Адрес: {} \\n Возраст: {}'.format(self.surname, self.initials, self.phone, self.address, self.age))\n",
        "class Manager(Man):\n",
        "  def __init__(self, surname, initials, phone, address, age, number_otdel, kol_podchin):\n",
        "    super().__init__(surname, initials, phone, address, age)\n",
        "    self.number_otdel = number_otdel\n",
        "    self.kol_podchin = kol_podchin\n",
        "  def info(self):\n",
        "    super().info()\n",
        "    print('Номер отдела: {} \\n Количество подчиненных: {}'.format(self.number_otdel, self.kol_podchin))\n",
        "class Secretary(Man):\n",
        "  def __init__(self, surname, initials, phone, address, age, surname_boss):\n",
        "     super().__init__(surname, initials, phone, address, age)\n",
        "     self.surname_boss = surname_boss\n",
        "  def info(self):\n",
        "    print('Фамилия начальника: {}'.format(self.surname_boss))"
      ],
      "metadata": {
        "id": "xnSAghhsW34X"
      },
      "execution_count": 1,
      "outputs": []
    },
    {
      "cell_type": "code",
      "source": [
        "surname = input(\"Введите фамилию: \")\n",
        "initials = input(\"Введите инициалы: \")\n",
        "phone = input(\"Введите номер телефона: \")\n",
        "address = input(\"Введите адрес: \")\n",
        "age = input(\"Введите возраст: \")\n",
        "man = Man(surname, initials, phone, address, age)\n",
        "man.info()\n",
        "\n",
        "surname = input(\"Введите фамилию: \")\n",
        "initials = input(\"Введите инициалы: \")\n",
        "phone = input(\"Введите номер телефона: \")\n",
        "address = input(\"Введите адрес: \")\n",
        "age = input(\"Введите возраст: \")\n",
        "number_otdel = input(\"Введите номер отдела: \")\n",
        "kol_podchin = input(\"Введите количество подчиненных: \")\n",
        "manager = Manager(surname, initials, phone, address, age, number_otdel, kol_podchin)\n",
        "manager.info()\n",
        "\n",
        "surname = input(\"Введите фамилию: \")\n",
        "initials = input(\"Введите инициалы: \")\n",
        "phone = input(\"Введите номер телефона: \")\n",
        "address = input(\"Введите адрес: \")\n",
        "age = input(\"Введите возраст: \")\n",
        "surname_boss = input(\"Введите фамилию начальника: \")\n",
        "secretary = Secretary(surname, initials, phone, address, age, surname_boss)\n",
        "secretary.info()\n"
      ],
      "metadata": {
        "colab": {
          "base_uri": "https://localhost:8080/"
        },
        "id": "SX_XiM2jL9x-",
        "outputId": "ce9d70c8-e861-4675-9eff-a591c436d0ba"
      },
      "execution_count": 7,
      "outputs": [
        {
          "output_type": "stream",
          "name": "stdout",
          "text": [
            "Введите фамилию: Тяпкина\n",
            "Введите инициалы: П.А.\n",
            "Введите номер телефона: 8 9хх ххх хх хх\n",
            "Введите адрес: г. Москва\n",
            "Введите возраст: 19\n",
            "Фамилия: Тяпкина \n",
            " Инициалы: П.А. \n",
            " Телефон: 8 9хх ххх хх хх \n",
            " Адрес: г. Москва \n",
            " Возраст: 19\n",
            "Введите фамилию: Черенков\n",
            "Введите инициалы: И.Р.\n",
            "Введите номер телефона: 8 9хх ххх хх хх\n",
            "Введите адрес: г. Москва\n",
            "Введите возраст: 18\n",
            "Введите номер отдела: АДЭУ-221\n",
            "Введите количество подчиненных: 21\n",
            "Фамилия: Черенков \n",
            " Инициалы: И.Р. \n",
            " Телефон: 8 9хх ххх хх хх \n",
            " Адрес: г. Москва \n",
            " Возраст: 18\n",
            "Номер отдела: АДЭУ-221 \n",
            " Количество подчиненных: 21\n",
            "Введите фамилию: Босенко\n",
            "Введите инициалы: Т.М.\n",
            "Введите номер телефона: 8 9хх ххх хх хх\n",
            "Введите адрес: г.Москва\n",
            "Введите возраст: -\n",
            "Введите фамилию начальника: Путин В.В.\n",
            "Фамилия начальника: Путин В.В.\n"
          ]
        }
      ]
    },
    {
      "cell_type": "markdown",
      "source": [
        "### №7 \n",
        "####Разработайте приложение, в котором опишите базовый класс building. Он хранит этаж, число комнат в квартире, общую площадь квартиры. Три производных класса house-k, house-p, house-m наследуют класс building. Каждый из них хранит надбавку к цене квадратного метра площади, зависящую от материала дома. Производный класс office наследует производные классы house￾k, house-p, house-m и хранит наличие лоджии и надбавку, связанную с районом города. Вывести на экран стоимость конкретной квартиры."
      ],
      "metadata": {
        "id": "KjUIwKiAW4RO"
      }
    },
    {
      "cell_type": "code",
      "source": [],
      "metadata": {
        "id": "Uv12X1dkJ1_I"
      },
      "execution_count": 13,
      "outputs": []
    },
    {
      "cell_type": "markdown",
      "source": [
        "### №8 \n",
        "####В программе рассчитываются площади треугольника и прямоугольника. С этой целью создается абстрактный класс area, в котором сохраняются две размерности фигуры. В производных классах задайте вид конкретных фигур и возвратите их площади"
      ],
      "metadata": {
        "id": "vnlf0-FAXBDd"
      }
    },
    {
      "cell_type": "code",
      "source": [
        "from abc import ABC, abstractmethod\n",
        "class Area(ABC):\n",
        "    def __init__(self, razmer1, razmer2):\n",
        "        self.razmer1 = razmer1\n",
        "        self.razmer2 = razmer2\n",
        "    @abstractmethod\n",
        "    def get_area(self):\n",
        "        pass\n",
        "\n",
        "class Triangle(Area):\n",
        "    def __init__(self, base, height):\n",
        "        super().__init__(base, height)\n",
        "    def get_area(self):\n",
        "        return round((self.razmer1 * self.razmer2) / 2)\n",
        "\n",
        "class Rectangle(Area):\n",
        "    def __init__(self, length, width):\n",
        "        super().__init__(length, width)\n",
        "    def get_area(self):\n",
        "        return self.razmer1 * self.razmer2\n",
        "\n",
        "triangle = Triangle(4, 5)\n",
        "print(triangle.get_area())\n",
        "\n",
        "rectangle = Rectangle(4, 3)\n",
        "print(rectangle.get_area())"
      ],
      "metadata": {
        "id": "k6ZNqT4kXLSu",
        "colab": {
          "base_uri": "https://localhost:8080/"
        },
        "outputId": "ed9e8f57-73e9-4f3f-a7ca-50e9d7b8d0b2"
      },
      "execution_count": 16,
      "outputs": [
        {
          "output_type": "stream",
          "name": "stdout",
          "text": [
            "10\n",
            "12\n"
          ]
        }
      ]
    }
  ]
}