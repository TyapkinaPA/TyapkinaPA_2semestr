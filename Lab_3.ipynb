{
  "nbformat": 4,
  "nbformat_minor": 0,
  "metadata": {
    "colab": {
      "provenance": [],
      "authorship_tag": "ABX9TyMqfHUh/iAqUiibHg6RgQWB",
      "include_colab_link": true
    },
    "kernelspec": {
      "name": "python3",
      "display_name": "Python 3"
    },
    "language_info": {
      "name": "python"
    }
  },
  "cells": [
    {
      "cell_type": "markdown",
      "metadata": {
        "id": "view-in-github",
        "colab_type": "text"
      },
      "source": [
        "<a href=\"https://colab.research.google.com/github/TyapkinaPA/TyapkinaPA_2semestr/blob/main/Lab_3.ipynb\" target=\"_parent\"><img src=\"https://colab.research.google.com/assets/colab-badge.svg\" alt=\"Open In Colab\"/></a>"
      ]
    },
    {
      "cell_type": "markdown",
      "source": [
        "# Лабораторная №3\n",
        "## Упражнения для самостоятельного выполнения по теме «Инкапсуляция» \n",
        "### Вариант №19\n",
        "#### Описать класс «процессор», содержащий сведения о марке, тактовой частоте, объеме кэша и стоимости. Предусмотреть инициализацию с проверкой допустимости значений полей. В случае недопустимых значений полей выбрасываются исключения. Описать свойства для получения состояния объекта. Описать класс «материнская плата», включающий класс «процессор» и объем установленной оперативной памяти. Предусмотреть инициализацию с проверкой допустимости значений поля объема памяти. В случае недопустимых значений поля выбрасывается исключение. Описать свойства для получения состояния объекта. Написать программу, демонстрирующую все разработанные элементы классов. \n"
      ],
      "metadata": {
        "id": "rtS7IbnHB2K_"
      }
    },
    {
      "cell_type": "code",
      "source": [
        "class Processor:\n",
        "    def __init__(self, brand, frequency, cache1, cache2, cache3, price):\n",
        "        if frequency <= 0 or cache1 <=0 or cache2 <= 0 or cache3 <= 0 or price <= 0:\n",
        "            raise ValueError('Значения частоты, кэша и цены должны быть больше нуля')\n",
        "        self.brand = brand\n",
        "        self.frequency = frequency\n",
        "        self.cache1 = cache1\n",
        "        self.cache2 = cache2\n",
        "        self.cache3 = cache3\n",
        "        self.price = price\n",
        "    def get_brand(self):\n",
        "        return self.brand\n",
        "    def get_frequency(self):\n",
        "        return self.frequency\n",
        "    def get_cache1(self):\n",
        "        return self.cache1\n",
        "    def get_cache2(self):\n",
        "        return self.cache2\n",
        "    def get_cache3(self):\n",
        "        return self.cache3\n",
        "    def get_price(self):\n",
        "        return self.price"
      ],
      "metadata": {
        "id": "Mg5upZ5-minQ"
      },
      "execution_count": 5,
      "outputs": []
    },
    {
      "cell_type": "code",
      "source": [
        "class Motherboard:\n",
        "    def __init__(self, processor, memory_size):\n",
        "        if memory_size <= 0:\n",
        "            raise ValueError('Объем памяти должен быть больше нуля')\n",
        "        self.processor = processor\n",
        "        self.memory_size = memory_size\n",
        "    def get_processor(self):\n",
        "        return self.processor\n",
        "    def get_memory_size(self):\n",
        "        return self.memory_size"
      ],
      "metadata": {
        "id": "tJyVlDSOoAy6"
      },
      "execution_count": 3,
      "outputs": []
    },
    {
      "cell_type": "code",
      "source": [
        "processor = Processor('Intel', 2.6, 384, 1.5, 12, 30000)\n",
        "motherboard = Motherboard(processor, 128)\n",
        "\n",
        "print('Марка: ', processor.get_brand())\n",
        "print('Объём кэша L1: ', motherboard.get_processor().get_cache1(), 'КБ')\n",
        "print('Объём кэша L2: ', motherboard.get_processor().get_cache2(), 'МБ')\n",
        "print('Объём кэша L3: ', motherboard.get_processor().get_cache3(), 'МБ')\n",
        "print('Объём оперативной памяти:', motherboard.get_memory_size(), \"ГБ\")\n",
        "print('Тактовая чсатота: ', processor.get_frequency(), 'МГц')\n",
        "print('Стоимость: ', processor.get_price(), 'Руб')"
      ],
      "metadata": {
        "colab": {
          "base_uri": "https://localhost:8080/"
        },
        "id": "ltOdsIOEoIUi",
        "outputId": "78690cd4-b63a-42f6-93d9-732f6994f430"
      },
      "execution_count": 6,
      "outputs": [
        {
          "output_type": "stream",
          "name": "stdout",
          "text": [
            "Марка:  Intel\n",
            "Объём кэша L1:  384 КБ\n",
            "Объём кэша L2:  1.5 МБ\n",
            "Объём кэша L3:  12 МБ\n",
            "Объём оперативной памяти: 128 ГБ\n",
            "Тактовая чсатота:  2.6 МГц\n",
            "Стоимость:  30000 Руб\n"
          ]
        }
      ]
    }
  ]
}