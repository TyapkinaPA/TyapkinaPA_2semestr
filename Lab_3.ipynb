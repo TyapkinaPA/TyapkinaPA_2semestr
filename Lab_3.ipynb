{
  "nbformat": 4,
  "nbformat_minor": 0,
  "metadata": {
    "colab": {
      "provenance": [],
      "authorship_tag": "ABX9TyODZuiM1sxXTpJWEkHCRzG3",
      "include_colab_link": true
    },
    "kernelspec": {
      "name": "python3",
      "display_name": "Python 3"
    },
    "language_info": {
      "name": "python"
    }
  },
  "cells": [
    {
      "cell_type": "markdown",
      "metadata": {
        "id": "view-in-github",
        "colab_type": "text"
      },
      "source": [
        "<a href=\"https://colab.research.google.com/github/TyapkinaPA/TyapkinaPA_2semestr/blob/main/Lab_3.ipynb\" target=\"_parent\"><img src=\"https://colab.research.google.com/assets/colab-badge.svg\" alt=\"Open In Colab\"/></a>"
      ]
    },
    {
      "cell_type": "markdown",
      "source": [
        "# Лабораторная №3\n",
        "## Упражнения для самостоятельного выполнения по теме «Инкапсуляция» \n",
        "### Вариант №19\n",
        "#### Описать класс «процессор», содержащий сведения о марке, тактовой частоте, объеме кэша и стоимости. Предусмотреть инициализацию с проверкой допустимости значений полей. В случае недопустимых значений полей выбрасываются исключения. Описать свойства для получения состояния объекта. Описать класс «материнская плата», включающий класс «процессор» и объем установленной оперативной памяти. Предусмотреть инициализацию с проверкой допустимости значений поля объема памяти. В случае недопустимых значений поля выбрасывается исключение. Описать свойства для получения состояния объекта. Написать программу, демонстрирующую все разработанные элементы классов. \n"
      ],
      "metadata": {
        "id": "rtS7IbnHB2K_"
      }
    },
    {
      "cell_type": "code",
      "source": [
        "class Processor:\n",
        "    def __init__(self, brand, frequency, cache, price):\n",
        "        if frequency <= 0 or cache <= 0 or price <= 0:\n",
        "            raise ValueError('Значения частоты, кэша и цены должны быть больше нуля')\n",
        "        self.brand = brand\n",
        "        self.frequency = frequency\n",
        "        self.cache = cache\n",
        "        self.price = price\n",
        "    def get_brand(self):\n",
        "        return self.brand\n",
        "    def get_frequency(self):\n",
        "        return self.frequency\n",
        "    def get_cache(self):\n",
        "        return self.cache\n",
        "    def get_price(self):\n",
        "        return self.price"
      ],
      "metadata": {
        "id": "Mg5upZ5-minQ"
      },
      "execution_count": 16,
      "outputs": []
    },
    {
      "cell_type": "code",
      "source": [
        "class Motherboard:\n",
        "    def __init__(self, processor, memory_size):\n",
        "        if memory_size <= 0:\n",
        "            raise ValueError('Объем памяти должен быть больше нуля')\n",
        "        self.processor = processor\n",
        "        self.memory_size = memory_size\n",
        "    def get_processor(self):\n",
        "        return self.processor\n",
        "    def get_memory_size(self):\n",
        "        return self.memory_size"
      ],
      "metadata": {
        "id": "tJyVlDSOoAy6"
      },
      "execution_count": 17,
      "outputs": []
    },
    {
      "cell_type": "code",
      "source": [
        "processor = Processor('Intel', 2.6, 6, 10000)\n",
        "motherboard = Motherboard(processor, 8)\n",
        "\n",
        "print('Марка: ', processor.get_brand())\n",
        "print('Объём кэша: ', motherboard.get_processor().get_cache())\n",
        "print('Объём памяти:', motherboard.get_memory_size())\n",
        "print('Тактовая чсатота: ', processor.get_frequency())\n",
        "print('Стоимость: ', processor.get_price())"
      ],
      "metadata": {
        "colab": {
          "base_uri": "https://localhost:8080/"
        },
        "id": "ltOdsIOEoIUi",
        "outputId": "eae9df80-b805-4e34-f2be-cdea9a506b59"
      },
      "execution_count": 20,
      "outputs": [
        {
          "output_type": "stream",
          "name": "stdout",
          "text": [
            "Марка:  Intel\n",
            "Объём кэша:  6\n",
            "Объём памяти: 8\n",
            "Тактовая чсатота:  2.6\n",
            "Стоимость:  10000\n"
          ]
        }
      ]
    }
  ]
}