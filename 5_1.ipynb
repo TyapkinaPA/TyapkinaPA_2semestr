{
  "nbformat": 4,
  "nbformat_minor": 0,
  "metadata": {
    "colab": {
      "provenance": [],
      "authorship_tag": "ABX9TyMZu6wH0Pggda9B15AQVL0U",
      "include_colab_link": true
    },
    "kernelspec": {
      "name": "python3",
      "display_name": "Python 3"
    },
    "language_info": {
      "name": "python"
    }
  },
  "cells": [
    {
      "cell_type": "markdown",
      "metadata": {
        "id": "view-in-github",
        "colab_type": "text"
      },
      "source": [
        "<a href=\"https://colab.research.google.com/github/TyapkinaPA/TyapkinaPA_2semestr/blob/main/5_1.ipynb\" target=\"_parent\"><img src=\"https://colab.research.google.com/assets/colab-badge.svg\" alt=\"Open In Colab\"/></a>"
      ]
    },
    {
      "cell_type": "markdown",
      "source": [
        "#ЗАДАЧА 1\n",
        "##Представьте себя ненадолго разработчиком комльютерной игры в стиле фэнтези. Вы будете прописывать систему эффектов, которые могут быть наложены на героя вашей игры. У вас есть герой, который обладает некоторым набором характеристик. Враги и союзники могут накладывать на героя положительные и отрицательные эффекты. Эти эффекты каким-то образом изменяют характеристики героя. На героя можно пакладывать бесконечно много эффектов, действие одинаковых эффектов суммируется. Игрок должен знать, какие положительные и какие отрицательные эффекты на него были наложены и в каком порядке."
      ],
      "metadata": {
        "id": "_i97BXj47dWW"
      }
    },
    {
      "cell_type": "code",
      "source": [
        "class Hero:\n",
        "    def __init__(self):\n",
        "        self.positive_effects = []\n",
        "        self.negative_effects = []            \n",
        "        self.stats = {\n",
        "            \"Здоровье\": 128,\n",
        "            \"Мана\": 42,\n",
        "            \"Навык\": 100,\n",
        "            \"Сила\": 15,\n",
        "            \"Восприятие\": 4,\n",
        "            \"Выносливость\": 8,\n",
        "            \"Харизма\": 2,\n",
        "            \"Интеллект\": 3,\n",
        "            \"Проворство\": 8,\n",
        "            \"Удача\": 1\n",
        "        } \n",
        "        \n",
        "    def get_positive_effects(self):\n",
        "        return self.positive_effects.copy()\n",
        "    \n",
        "    def get_negative_effects(self):\n",
        "        return self.negative_effects.copy()\n",
        "    \n",
        "    def get_stats(self):\n",
        "        return self.stats.copy()"
      ],
      "metadata": {
        "id": "0SzcS13I9CNU"
      },
      "execution_count": 57,
      "outputs": []
    },
    {
      "cell_type": "code",
      "source": [
        "from abc import ABC, abstractmethod\n",
        "class AbstractEffect(Hero, ABC):\n",
        "    def __init__(self, base):\n",
        "        self.base = base\n",
        "\n",
        "    @abstractmethod\n",
        "    def get_positive_effects(self):\n",
        "        return self.positive_effects\n",
        "\n",
        "    @abstractmethod\n",
        "    def get_negative_effects(self):\n",
        "        return self.negative_effects\n",
        "\n",
        "    @abstractmethod\n",
        "    def get_stats(self):\n",
        "        pass"
      ],
      "metadata": {
        "id": "xCVacXv1Vosg"
      },
      "execution_count": 58,
      "outputs": []
    },
    {
      "cell_type": "code",
      "source": [
        "class AbstractPositive(AbstractEffect):\n",
        "    def get_negative_effects(self):\n",
        "        return self.base.get_negative_effects()"
      ],
      "metadata": {
        "id": "xsjP9NWw3QBI"
      },
      "execution_count": 59,
      "outputs": []
    },
    {
      "cell_type": "code",
      "source": [
        "class AbstractNegative(AbstractEffect):    \n",
        "    def get_positive_effects(self):\n",
        "        return self.base.get_positive_effects()"
      ],
      "metadata": {
        "id": "t6X9lzv83Y5C"
      },
      "execution_count": 60,
      "outputs": []
    },
    {
      "cell_type": "code",
      "source": [
        "class Berserk(AbstractPositive):    \n",
        "    def get_stats(self):\n",
        "        stats = self.base.get_stats()\n",
        "        stats[\"Здоровье\"] += 50\n",
        "        stats[\"Сила\"] += 7\n",
        "        stats[\"Выносливость\"] += 7\n",
        "        stats[\"Проворство\"] += 7\n",
        "        stats[\"Удача\"] += 7\n",
        "        stats[\"Восприятие\"] -= 3\n",
        "        stats[\"Харизма\"] -= 3\n",
        "        stats[\"Интеллект\"] -= 3\n",
        "        return stats\n",
        "\n",
        "    def get_positive_effects(self):\n",
        "        return self.base.get_positive_effects() + [\"Берсерк\"]"
      ],
      "metadata": {
        "id": "5UDJdwDU3gBw"
      },
      "execution_count": 61,
      "outputs": []
    },
    {
      "cell_type": "code",
      "source": [
        "class Blessing(AbstractPositive):    \n",
        "    def get_stats(self):\n",
        "        stats = self.base.get_stats()\n",
        "        stats[\"Сила\"] += 2\n",
        "        stats[\"Выносливость\"] += 2\n",
        "        stats[\"Проворство\"] += 2\n",
        "        stats[\"Удача\"] += 2\n",
        "        stats[\"Восприятие\"] += 2\n",
        "        stats[\"Харизма\"] += 2\n",
        "        stats[\"Интеллект\"] += 2\n",
        "        return stats\n",
        "\n",
        "    def get_positive_effects(self):\n",
        "        return self.base.get_positive_effects() + [\"Благословение\"]"
      ],
      "metadata": {
        "id": "mBwdpBYg3r0B"
      },
      "execution_count": 62,
      "outputs": []
    },
    {
      "cell_type": "code",
      "source": [
        "class Weakness(AbstractNegative):    \n",
        "    def get_stats(self):\n",
        "        stats = self.base.get_stats()\n",
        "        stats[\"Сила\"] -= 4\n",
        "        stats[\"Выносливость\"] -= 4\n",
        "        stats[\"Проворство\"] -= 4\n",
        "        return stats\n",
        "\n",
        "    def get_negative_effects(self):\n",
        "        return self.base.get_negative_effects() + [\"Слабость\"]"
      ],
      "metadata": {
        "id": "BQC53Oc13wVu"
      },
      "execution_count": 63,
      "outputs": []
    },
    {
      "cell_type": "code",
      "source": [
        "class Curse(AbstractNegative):\n",
        "    def get_stats(self):\n",
        "        stats = self.base.get_stats()\n",
        "        stats[\"Сила\"] -= 2\n",
        "        stats[\"Выносливость\"] -= 2\n",
        "        stats[\"Проворство\"] -= 2\n",
        "        stats[\"Удача\"] -= 2\n",
        "        stats[\"Восприятие\"] -= 2\n",
        "        stats[\"Харизма\"] -= 2\n",
        "        stats[\"Интеллект\"] -= 2\n",
        "        return stats\n",
        "\n",
        "    def get_negative_effects(self):\n",
        "        return self.base.get_negative_effects() + [\"Проклятье\"]"
      ],
      "metadata": {
        "id": "NAzFd8ak31-a"
      },
      "execution_count": 64,
      "outputs": []
    },
    {
      "cell_type": "code",
      "source": [
        "class EvilEye(AbstractNegative):\n",
        "    def get_stats(self):\n",
        "        stats = self.base.get_stats()\n",
        "        stats[\"Удача\"] -= 10\n",
        "        print('Порча на поноооос~~~~')\n",
        "        return stats\n",
        "\n",
        "    def get_negative_effects(self):\n",
        "        return self.base.get_negative_effects() + [\"Сглаз\"]"
      ],
      "metadata": {
        "id": "JVu8ZSVX3-xP"
      },
      "execution_count": 65,
      "outputs": []
    },
    {
      "cell_type": "code",
      "source": [
        "hero = Hero()\n",
        "hero.get_stats()"
      ],
      "metadata": {
        "colab": {
          "base_uri": "https://localhost:8080/"
        },
        "id": "-B3AtJup1qAV",
        "outputId": "4a069ceb-0140-4472-f38b-f1d1d5b0c5ae"
      },
      "execution_count": 67,
      "outputs": [
        {
          "output_type": "execute_result",
          "data": {
            "text/plain": [
              "{'Здоровье': 128,\n",
              " 'Мана': 42,\n",
              " 'Навык': 100,\n",
              " 'Сила': 15,\n",
              " 'Восприятие': 4,\n",
              " 'Выносливость': 8,\n",
              " 'Харизма': 2,\n",
              " 'Интеллект': 3,\n",
              " 'Проворство': 8,\n",
              " 'Удача': 1}"
            ]
          },
          "metadata": {},
          "execution_count": 67
        }
      ]
    },
    {
      "cell_type": "code",
      "source": [
        "hero.stats"
      ],
      "metadata": {
        "colab": {
          "base_uri": "https://localhost:8080/"
        },
        "id": "wE5_xbhW2TC8",
        "outputId": "cc8a93ef-8608-4b64-b889-925b99b63da7"
      },
      "execution_count": 68,
      "outputs": [
        {
          "output_type": "execute_result",
          "data": {
            "text/plain": [
              "{'Здоровье': 128,\n",
              " 'Мана': 42,\n",
              " 'Навык': 100,\n",
              " 'Сила': 15,\n",
              " 'Восприятие': 4,\n",
              " 'Выносливость': 8,\n",
              " 'Харизма': 2,\n",
              " 'Интеллект': 3,\n",
              " 'Проворство': 8,\n",
              " 'Удача': 1}"
            ]
          },
          "metadata": {},
          "execution_count": 68
        }
      ]
    },
    {
      "cell_type": "code",
      "source": [
        "hero.get_negative_effects()"
      ],
      "metadata": {
        "colab": {
          "base_uri": "https://localhost:8080/"
        },
        "id": "dp14YNZdrYoL",
        "outputId": "0e89cf91-8a80-43b6-f749-812586d31f01"
      },
      "execution_count": 69,
      "outputs": [
        {
          "output_type": "execute_result",
          "data": {
            "text/plain": [
              "[]"
            ]
          },
          "metadata": {},
          "execution_count": 69
        }
      ]
    },
    {
      "cell_type": "code",
      "source": [
        "hero.get_positive_effects()"
      ],
      "metadata": {
        "colab": {
          "base_uri": "https://localhost:8080/"
        },
        "id": "WgjflWDW2r_A",
        "outputId": "100ec43e-707f-4c17-857d-01d27602a943"
      },
      "execution_count": 70,
      "outputs": [
        {
          "output_type": "execute_result",
          "data": {
            "text/plain": [
              "[]"
            ]
          },
          "metadata": {},
          "execution_count": 70
        }
      ]
    },
    {
      "cell_type": "code",
      "source": [
        "berserk = Berserk(hero)\n",
        "berserk.get_stats()"
      ],
      "metadata": {
        "colab": {
          "base_uri": "https://localhost:8080/"
        },
        "id": "6TIyMstw4TnX",
        "outputId": "81d3b9fb-71ce-4e75-eaf1-7b25c7864405"
      },
      "execution_count": 71,
      "outputs": [
        {
          "output_type": "execute_result",
          "data": {
            "text/plain": [
              "{'Здоровье': 178,\n",
              " 'Мана': 42,\n",
              " 'Навык': 100,\n",
              " 'Сила': 22,\n",
              " 'Восприятие': 1,\n",
              " 'Выносливость': 15,\n",
              " 'Харизма': -1,\n",
              " 'Интеллект': 0,\n",
              " 'Проворство': 15,\n",
              " 'Удача': 8}"
            ]
          },
          "metadata": {},
          "execution_count": 71
        }
      ]
    },
    {
      "cell_type": "code",
      "source": [
        "berserk.get_negative_effects()"
      ],
      "metadata": {
        "colab": {
          "base_uri": "https://localhost:8080/"
        },
        "id": "A4XTEc4n4is8",
        "outputId": "af64c131-69d4-4444-d92d-4829c509eadf"
      },
      "execution_count": 72,
      "outputs": [
        {
          "output_type": "execute_result",
          "data": {
            "text/plain": [
              "[]"
            ]
          },
          "metadata": {},
          "execution_count": 72
        }
      ]
    },
    {
      "cell_type": "code",
      "source": [
        "berserk.get_positive_effects()"
      ],
      "metadata": {
        "colab": {
          "base_uri": "https://localhost:8080/"
        },
        "id": "7JGe3VVBreSa",
        "outputId": "110cafba-bd6e-4a64-8b7a-c58f02c9f1a8"
      },
      "execution_count": 73,
      "outputs": [
        {
          "output_type": "execute_result",
          "data": {
            "text/plain": [
              "['Берсерк']"
            ]
          },
          "metadata": {},
          "execution_count": 73
        }
      ]
    },
    {
      "cell_type": "code",
      "source": [
        "berserk2 = Berserk(berserk)\n",
        "curse = Curse(berserk2)\n",
        "curse.get_stats()"
      ],
      "metadata": {
        "colab": {
          "base_uri": "https://localhost:8080/"
        },
        "id": "5tuC7oLq4kb5",
        "outputId": "0f4505ac-dfba-4b32-81dd-664cb81c7692"
      },
      "execution_count": 74,
      "outputs": [
        {
          "output_type": "execute_result",
          "data": {
            "text/plain": [
              "{'Здоровье': 228,\n",
              " 'Мана': 42,\n",
              " 'Навык': 100,\n",
              " 'Сила': 27,\n",
              " 'Восприятие': -4,\n",
              " 'Выносливость': 20,\n",
              " 'Харизма': -6,\n",
              " 'Интеллект': -5,\n",
              " 'Проворство': 20,\n",
              " 'Удача': 13}"
            ]
          },
          "metadata": {},
          "execution_count": 74
        }
      ]
    },
    {
      "cell_type": "code",
      "source": [
        "curse.get_positive_effects()"
      ],
      "metadata": {
        "colab": {
          "base_uri": "https://localhost:8080/"
        },
        "id": "2FZmo0go5IPk",
        "outputId": "0e73b905-3e7d-4d79-a510-bb0680571e56"
      },
      "execution_count": 75,
      "outputs": [
        {
          "output_type": "execute_result",
          "data": {
            "text/plain": [
              "['Берсерк', 'Берсерк']"
            ]
          },
          "metadata": {},
          "execution_count": 75
        }
      ]
    },
    {
      "cell_type": "code",
      "source": [
        "curse.get_negative_effects()"
      ],
      "metadata": {
        "colab": {
          "base_uri": "https://localhost:8080/"
        },
        "id": "ouzgN-vy5ShZ",
        "outputId": "d86aedcb-da9b-451b-9cb8-1b5c7e5e7738"
      },
      "execution_count": 76,
      "outputs": [
        {
          "output_type": "execute_result",
          "data": {
            "text/plain": [
              "['Проклятье']"
            ]
          },
          "metadata": {},
          "execution_count": 76
        }
      ]
    },
    {
      "cell_type": "code",
      "source": [
        "curse.base = berserk\n",
        "curse.get_stats()"
      ],
      "metadata": {
        "colab": {
          "base_uri": "https://localhost:8080/"
        },
        "id": "1c7Wqzv35XbY",
        "outputId": "dc8c2776-c2a2-44c4-8847-e8e04d747222"
      },
      "execution_count": 176,
      "outputs": [
        {
          "output_type": "execute_result",
          "data": {
            "text/plain": [
              "{'Здоровье': 178,\n",
              " 'Мана': 42,\n",
              " 'Навык': 100,\n",
              " 'Сила': 20,\n",
              " 'Восприятие': -1,\n",
              " 'Выносливость': 13,\n",
              " 'Харизма': -3,\n",
              " 'Интеллект': -2,\n",
              " 'Проворство': 13,\n",
              " 'Удача': 6}"
            ]
          },
          "metadata": {},
          "execution_count": 176
        }
      ]
    },
    {
      "cell_type": "code",
      "source": [
        "curse.get_positive_effects()"
      ],
      "metadata": {
        "colab": {
          "base_uri": "https://localhost:8080/"
        },
        "id": "RC01Zhzy5rZo",
        "outputId": "a91aed00-83e9-4aa7-b934-1685552af4f4"
      },
      "execution_count": 177,
      "outputs": [
        {
          "output_type": "execute_result",
          "data": {
            "text/plain": [
              "['Берсерк']"
            ]
          },
          "metadata": {},
          "execution_count": 177
        }
      ]
    },
    {
      "cell_type": "code",
      "source": [
        "curse.get_negative_effects()"
      ],
      "metadata": {
        "colab": {
          "base_uri": "https://localhost:8080/"
        },
        "id": "kZt0Il1g5vb2",
        "outputId": "19d07fc9-f8a1-4bf6-94ce-5d49fe5fec5d"
      },
      "execution_count": 178,
      "outputs": [
        {
          "output_type": "execute_result",
          "data": {
            "text/plain": [
              "['Проклятье']"
            ]
          },
          "metadata": {},
          "execution_count": 178
        }
      ]
    },
    {
      "cell_type": "code",
      "source": [
        "blessing = Blessing(curse)\n",
        "blessing.get_stats()"
      ],
      "metadata": {
        "colab": {
          "base_uri": "https://localhost:8080/"
        },
        "id": "yS8mxjNW576x",
        "outputId": "f48ca4e4-9416-48d6-96d8-9a016a99846b"
      },
      "execution_count": 179,
      "outputs": [
        {
          "output_type": "execute_result",
          "data": {
            "text/plain": [
              "{'Здоровье': 178,\n",
              " 'Мана': 42,\n",
              " 'Навык': 100,\n",
              " 'Сила': 22,\n",
              " 'Восприятие': 1,\n",
              " 'Выносливость': 15,\n",
              " 'Харизма': -1,\n",
              " 'Интеллект': 0,\n",
              " 'Проворство': 15,\n",
              " 'Удача': 8}"
            ]
          },
          "metadata": {},
          "execution_count": 179
        }
      ]
    },
    {
      "cell_type": "code",
      "source": [
        "blessing.get_positive_effects()"
      ],
      "metadata": {
        "colab": {
          "base_uri": "https://localhost:8080/"
        },
        "outputId": "f0b0e065-5f48-4653-c0d2-112558695bdb",
        "id": "9hzlWBdutKEQ"
      },
      "execution_count": 180,
      "outputs": [
        {
          "output_type": "execute_result",
          "data": {
            "text/plain": [
              "['Берсерк', 'Благословение']"
            ]
          },
          "metadata": {},
          "execution_count": 180
        }
      ]
    },
    {
      "cell_type": "code",
      "source": [
        "blessing.get_negative_effects()"
      ],
      "metadata": {
        "colab": {
          "base_uri": "https://localhost:8080/"
        },
        "outputId": "c1444d40-3269-4778-c8b9-7a027f6ec50a",
        "id": "q3JjuNpktMGo"
      },
      "execution_count": 181,
      "outputs": [
        {
          "output_type": "execute_result",
          "data": {
            "text/plain": [
              "['Проклятье']"
            ]
          },
          "metadata": {},
          "execution_count": 181
        }
      ]
    },
    {
      "cell_type": "code",
      "source": [
        "blessing.base = berserk\n",
        "blessing.get_stats()"
      ],
      "metadata": {
        "colab": {
          "base_uri": "https://localhost:8080/"
        },
        "id": "jv0_yKvhsiXW",
        "outputId": "6caece56-95ab-47a8-b3d6-40fb17c5f1d2"
      },
      "execution_count": 185,
      "outputs": [
        {
          "output_type": "execute_result",
          "data": {
            "text/plain": [
              "{'Здоровье': 178,\n",
              " 'Мана': 42,\n",
              " 'Навык': 100,\n",
              " 'Сила': 24,\n",
              " 'Восприятие': 3,\n",
              " 'Выносливость': 17,\n",
              " 'Харизма': 1,\n",
              " 'Интеллект': 2,\n",
              " 'Проворство': 17,\n",
              " 'Удача': 10}"
            ]
          },
          "metadata": {},
          "execution_count": 185
        }
      ]
    },
    {
      "cell_type": "code",
      "source": [
        "blessing.get_positive_effects()"
      ],
      "metadata": {
        "colab": {
          "base_uri": "https://localhost:8080/"
        },
        "outputId": "c63f8603-4e7a-4950-ea0c-257e19cf1002",
        "id": "o0zd7ukkwGuW"
      },
      "execution_count": 186,
      "outputs": [
        {
          "output_type": "execute_result",
          "data": {
            "text/plain": [
              "['Берсерк', 'Благословение']"
            ]
          },
          "metadata": {},
          "execution_count": 186
        }
      ]
    },
    {
      "cell_type": "code",
      "source": [
        "blessing.get_negative_effects()"
      ],
      "metadata": {
        "colab": {
          "base_uri": "https://localhost:8080/"
        },
        "outputId": "7236e04f-5960-467d-d5cd-87e8a8d84584",
        "id": "u16BTyGjwICR"
      },
      "execution_count": 187,
      "outputs": [
        {
          "output_type": "execute_result",
          "data": {
            "text/plain": [
              "[]"
            ]
          },
          "metadata": {},
          "execution_count": 187
        }
      ]
    },
    {
      "cell_type": "code",
      "source": [
        "weakness = Weakness(blessing)\n",
        "weakness.get_stats()"
      ],
      "metadata": {
        "colab": {
          "base_uri": "https://localhost:8080/"
        },
        "id": "rTqyWvaI8iOD",
        "outputId": "acc7fd9b-c3a2-48a7-b179-47a0003d9074"
      },
      "execution_count": 211,
      "outputs": [
        {
          "output_type": "execute_result",
          "data": {
            "text/plain": [
              "{'Здоровье': 178,\n",
              " 'Мана': 42,\n",
              " 'Навык': 100,\n",
              " 'Сила': 20,\n",
              " 'Восприятие': 3,\n",
              " 'Выносливость': 13,\n",
              " 'Харизма': 1,\n",
              " 'Интеллект': 2,\n",
              " 'Проворство': 13,\n",
              " 'Удача': 10}"
            ]
          },
          "metadata": {},
          "execution_count": 211
        }
      ]
    },
    {
      "cell_type": "code",
      "source": [
        "weakness.get_positive_effects()"
      ],
      "metadata": {
        "colab": {
          "base_uri": "https://localhost:8080/"
        },
        "id": "hkaaV4Bc8slG",
        "outputId": "853c41d6-e6c7-4af6-9ee3-a9d516cfa2cf"
      },
      "execution_count": 212,
      "outputs": [
        {
          "output_type": "execute_result",
          "data": {
            "text/plain": [
              "['Берсерк', 'Благословение']"
            ]
          },
          "metadata": {},
          "execution_count": 212
        }
      ]
    },
    {
      "cell_type": "code",
      "source": [
        "weakness.get_negative_effects()"
      ],
      "metadata": {
        "colab": {
          "base_uri": "https://localhost:8080/"
        },
        "id": "kqYjbmjW8w_q",
        "outputId": "67bf142c-f510-49f4-e86f-82b18d800c95"
      },
      "execution_count": 213,
      "outputs": [
        {
          "output_type": "execute_result",
          "data": {
            "text/plain": [
              "['Слабость']"
            ]
          },
          "metadata": {},
          "execution_count": 213
        }
      ]
    },
    {
      "cell_type": "code",
      "source": [
        "weakness.base = berserk\n",
        "weakness.get_stats()"
      ],
      "metadata": {
        "colab": {
          "base_uri": "https://localhost:8080/"
        },
        "outputId": "b4f68f3d-740a-4d43-ad22-1e4d1e9c7955",
        "id": "gDjRyLWctayw"
      },
      "execution_count": 214,
      "outputs": [
        {
          "output_type": "execute_result",
          "data": {
            "text/plain": [
              "{'Здоровье': 178,\n",
              " 'Мана': 42,\n",
              " 'Навык': 100,\n",
              " 'Сила': 18,\n",
              " 'Восприятие': 1,\n",
              " 'Выносливость': 11,\n",
              " 'Харизма': -1,\n",
              " 'Интеллект': 0,\n",
              " 'Проворство': 11,\n",
              " 'Удача': 8}"
            ]
          },
          "metadata": {},
          "execution_count": 214
        }
      ]
    },
    {
      "cell_type": "code",
      "source": [
        "weakness.get_positive_effects()"
      ],
      "metadata": {
        "colab": {
          "base_uri": "https://localhost:8080/"
        },
        "outputId": "5abb12ab-6704-4070-c07f-d1e6c24eb95c",
        "id": "aLm7Zy-WtnUW"
      },
      "execution_count": 215,
      "outputs": [
        {
          "output_type": "execute_result",
          "data": {
            "text/plain": [
              "['Берсерк']"
            ]
          },
          "metadata": {},
          "execution_count": 215
        }
      ]
    },
    {
      "cell_type": "code",
      "source": [
        "weakness.get_negative_effects()"
      ],
      "metadata": {
        "colab": {
          "base_uri": "https://localhost:8080/"
        },
        "outputId": "7898d5df-7db2-4a30-e5c7-259c8e3f41d9",
        "id": "KzecL5mrtslR"
      },
      "execution_count": 216,
      "outputs": [
        {
          "output_type": "execute_result",
          "data": {
            "text/plain": [
              "['Слабость']"
            ]
          },
          "metadata": {},
          "execution_count": 216
        }
      ]
    },
    {
      "cell_type": "code",
      "source": [
        "evileye = EvilEye(weakness)\n",
        "evileye.get_stats()"
      ],
      "metadata": {
        "colab": {
          "base_uri": "https://localhost:8080/"
        },
        "id": "B9Ma8w_yvs1-",
        "outputId": "9711fbd5-aba1-461d-e053-4798bb066f2e"
      },
      "execution_count": 217,
      "outputs": [
        {
          "output_type": "stream",
          "name": "stdout",
          "text": [
            "Порча на поноооос~~~~\n"
          ]
        },
        {
          "output_type": "execute_result",
          "data": {
            "text/plain": [
              "{'Здоровье': 178,\n",
              " 'Мана': 42,\n",
              " 'Навык': 100,\n",
              " 'Сила': 18,\n",
              " 'Восприятие': 1,\n",
              " 'Выносливость': 11,\n",
              " 'Харизма': -1,\n",
              " 'Интеллект': 0,\n",
              " 'Проворство': 11,\n",
              " 'Удача': -2}"
            ]
          },
          "metadata": {},
          "execution_count": 217
        }
      ]
    },
    {
      "cell_type": "code",
      "source": [
        "evileye.get_positive_effects()"
      ],
      "metadata": {
        "colab": {
          "base_uri": "https://localhost:8080/"
        },
        "id": "1gFFXZlJ8Wr5",
        "outputId": "6ce20e0f-67a9-466e-f9c8-16f1cb526a5b"
      },
      "execution_count": 218,
      "outputs": [
        {
          "output_type": "execute_result",
          "data": {
            "text/plain": [
              "['Берсерк']"
            ]
          },
          "metadata": {},
          "execution_count": 218
        }
      ]
    },
    {
      "cell_type": "code",
      "source": [
        "evileye.get_negative_effects()"
      ],
      "metadata": {
        "colab": {
          "base_uri": "https://localhost:8080/"
        },
        "id": "ZG4PYXFV8ayS",
        "outputId": "fcbffa59-20d5-423a-dbff-d6189453032d"
      },
      "execution_count": 219,
      "outputs": [
        {
          "output_type": "execute_result",
          "data": {
            "text/plain": [
              "['Слабость', 'Сглаз']"
            ]
          },
          "metadata": {},
          "execution_count": 219
        }
      ]
    }
  ]
}