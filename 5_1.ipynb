{
  "nbformat": 4,
  "nbformat_minor": 0,
  "metadata": {
    "colab": {
      "provenance": [],
      "authorship_tag": "ABX9TyObpnPJulSD35sdjtmNkIq9",
      "include_colab_link": true
    },
    "kernelspec": {
      "name": "python3",
      "display_name": "Python 3"
    },
    "language_info": {
      "name": "python"
    }
  },
  "cells": [
    {
      "cell_type": "markdown",
      "metadata": {
        "id": "view-in-github",
        "colab_type": "text"
      },
      "source": [
        "<a href=\"https://colab.research.google.com/github/TyapkinaPA/TyapkinaPA_2semestr/blob/main/5_1.ipynb\" target=\"_parent\"><img src=\"https://colab.research.google.com/assets/colab-badge.svg\" alt=\"Open In Colab\"/></a>"
      ]
    },
    {
      "cell_type": "markdown",
      "source": [
        "#ЗАДАЧА 1\n",
        "##Представьте себя ненадолго разработчиком комльютерной игры в стиле фэнтези. Вы будете прописывать систему эффектов, которые могут быть наложены на героя вашей игры. У вас есть герой, который обладает некоторым набором характеристик. Враги и союзники могут накладывать на героя положительные и отрицательные эффекты. Эти эффекты каким-то образом изменяют характеристики героя. На героя можно пакладывать бесконечно много эффектов, действие одинаковых эффектов суммируется. Игрок должен знать, какие положительные и какие отрицательные эффекты на него были наложены и в каком порядке."
      ],
      "metadata": {
        "id": "_i97BXj47dWW"
      }
    },
    {
      "cell_type": "code",
      "source": [
        "class Hero:\n",
        "    def __init__(self):\n",
        "        self.positive_effects = []\n",
        "        self.negative_effects = []            \n",
        "        self.stats = {\n",
        "            \"Здоровье\": 128,\n",
        "            \"Мана\": 42,\n",
        "            \"Навык\": 100,\n",
        "            \"Сила\": 15,\n",
        "            \"Восприятие\": 4,\n",
        "            \"Выносливость\": 8,\n",
        "            \"Харизма\": 2,\n",
        "            \"Интеллект\": 3,\n",
        "            \"Проворство\": 8,\n",
        "            \"Удача\": 1\n",
        "        } \n",
        "        \n",
        "    def get_positive_effects(self):\n",
        "        return self.positive_effects.copy()\n",
        "    \n",
        "    def get_negative_effects(self):\n",
        "        return self.negative_effects.copy()\n",
        "    \n",
        "    def get_stats(self):\n",
        "        return self.stats.copy()"
      ],
      "metadata": {
        "id": "0SzcS13I9CNU"
      },
      "execution_count": 57,
      "outputs": []
    },
    {
      "cell_type": "code",
      "source": [
        "from abc import ABC, abstractmethod\n",
        "class AbstractEffect(Hero, ABC):\n",
        "    def __init__(self, base):\n",
        "        self.base = base\n",
        "\n",
        "    @abstractmethod\n",
        "    def get_positive_effects(self):\n",
        "        return self.positive_effects\n",
        "\n",
        "    @abstractmethod\n",
        "    def get_negative_effects(self):\n",
        "        return self.negative_effects\n",
        "\n",
        "    @abstractmethod\n",
        "    def get_stats(self):\n",
        "        pass"
      ],
      "metadata": {
        "id": "xCVacXv1Vosg"
      },
      "execution_count": 58,
      "outputs": []
    },
    {
      "cell_type": "code",
      "source": [
        "class AbstractPositive(AbstractEffect):\n",
        "    def get_negative_effects(self):\n",
        "        return self.base.get_negative_effects()"
      ],
      "metadata": {
        "id": "xsjP9NWw3QBI"
      },
      "execution_count": 59,
      "outputs": []
    },
    {
      "cell_type": "code",
      "source": [
        "class AbstractNegative(AbstractEffect):    \n",
        "    def get_positive_effects(self):\n",
        "        return self.base.get_positive_effects()"
      ],
      "metadata": {
        "id": "t6X9lzv83Y5C"
      },
      "execution_count": 60,
      "outputs": []
    },
    {
      "cell_type": "code",
      "source": [
        "class Berserk(AbstractPositive):    \n",
        "    def get_stats(self):\n",
        "        stats = self.base.get_stats()\n",
        "        stats[\"Здоровье\"] += 50\n",
        "        stats[\"Сила\"] += 7\n",
        "        stats[\"Выносливость\"] += 7\n",
        "        stats[\"Проворство\"] += 7\n",
        "        stats[\"Удача\"] += 7\n",
        "        stats[\"Восприятие\"] -= 3\n",
        "        stats[\"Харизма\"] -= 3\n",
        "        stats[\"Интеллект\"] -= 3\n",
        "        return stats\n",
        "\n",
        "    def get_positive_effects(self):\n",
        "        return self.base.get_positive_effects() + [\"Берсерк\"]"
      ],
      "metadata": {
        "id": "5UDJdwDU3gBw"
      },
      "execution_count": 61,
      "outputs": []
    },
    {
      "cell_type": "code",
      "source": [
        "class Blessing(AbstractPositive):    \n",
        "    def get_stats(self):\n",
        "        stats = self.base.get_stats()\n",
        "        stats[\"Сила\"] += 2\n",
        "        stats[\"Выносливость\"] += 2\n",
        "        stats[\"Проворство\"] += 2\n",
        "        stats[\"Удача\"] += 2\n",
        "        stats[\"Восприятие\"] += 2\n",
        "        stats[\"Харизма\"] += 2\n",
        "        stats[\"Интеллект\"] += 2\n",
        "        return stats\n",
        "\n",
        "    def get_positive_effects(self):\n",
        "        return self.base.get_positive_effects() + [\"Благословение\"]"
      ],
      "metadata": {
        "id": "mBwdpBYg3r0B"
      },
      "execution_count": 62,
      "outputs": []
    },
    {
      "cell_type": "code",
      "source": [
        "class Weakness(AbstractNegative):    \n",
        "    def get_stats(self):\n",
        "        stats = self.base.get_stats()\n",
        "        stats[\"Сила\"] -= 4\n",
        "        stats[\"Выносливость\"] -= 4\n",
        "        stats[\"Проворство\"] -= 4\n",
        "        return stats\n",
        "\n",
        "    def get_negative_effects(self):\n",
        "        return self.base.get_negative_effects() + [\"Слабость\"]"
      ],
      "metadata": {
        "id": "BQC53Oc13wVu"
      },
      "execution_count": 63,
      "outputs": []
    },
    {
      "cell_type": "code",
      "source": [
        "class Curse(AbstractNegative):\n",
        "    def get_stats(self):\n",
        "        stats = self.base.get_stats()\n",
        "        stats[\"Сила\"] -= 2\n",
        "        stats[\"Выносливость\"] -= 2\n",
        "        stats[\"Проворство\"] -= 2\n",
        "        stats[\"Удача\"] -= 2\n",
        "        stats[\"Восприятие\"] -= 2\n",
        "        stats[\"Харизма\"] -= 2\n",
        "        stats[\"Интеллект\"] -= 2\n",
        "        return stats\n",
        "\n",
        "    def get_negative_effects(self):\n",
        "        return self.base.get_negative_effects() + [\"Проклятье\"]"
      ],
      "metadata": {
        "id": "NAzFd8ak31-a"
      },
      "execution_count": 64,
      "outputs": []
    },
    {
      "cell_type": "code",
      "source": [
        "class EvilEye(AbstractNegative):\n",
        "    def get_stats(self):\n",
        "        stats = self.base.get_stats()\n",
        "        stats[\"Удача\"] -= 10\n",
        "        return stats\n",
        "\n",
        "    def get_negative_effects(self):\n",
        "        return self.base.get_negative_effects() + [\"Сглаз\"]"
      ],
      "metadata": {
        "id": "JVu8ZSVX3-xP"
      },
      "execution_count": 220,
      "outputs": []
    },
    {
      "cell_type": "code",
      "source": [
        "hero = Hero()\n",
        "hero.get_stats()"
      ],
      "metadata": {
        "colab": {
          "base_uri": "https://localhost:8080/"
        },
        "id": "-B3AtJup1qAV",
        "outputId": "da8baa80-a798-4e46-d845-182a20b75ee0"
      },
      "execution_count": 221,
      "outputs": [
        {
          "output_type": "execute_result",
          "data": {
            "text/plain": [
              "{'Здоровье': 128,\n",
              " 'Мана': 42,\n",
              " 'Навык': 100,\n",
              " 'Сила': 15,\n",
              " 'Восприятие': 4,\n",
              " 'Выносливость': 8,\n",
              " 'Харизма': 2,\n",
              " 'Интеллект': 3,\n",
              " 'Проворство': 8,\n",
              " 'Удача': 1}"
            ]
          },
          "metadata": {},
          "execution_count": 221
        }
      ]
    },
    {
      "cell_type": "code",
      "source": [
        "hero.stats"
      ],
      "metadata": {
        "colab": {
          "base_uri": "https://localhost:8080/"
        },
        "id": "wE5_xbhW2TC8",
        "outputId": "09457867-efbe-49a9-fc15-381faf0b688c"
      },
      "execution_count": 222,
      "outputs": [
        {
          "output_type": "execute_result",
          "data": {
            "text/plain": [
              "{'Здоровье': 128,\n",
              " 'Мана': 42,\n",
              " 'Навык': 100,\n",
              " 'Сила': 15,\n",
              " 'Восприятие': 4,\n",
              " 'Выносливость': 8,\n",
              " 'Харизма': 2,\n",
              " 'Интеллект': 3,\n",
              " 'Проворство': 8,\n",
              " 'Удача': 1}"
            ]
          },
          "metadata": {},
          "execution_count": 222
        }
      ]
    },
    {
      "cell_type": "code",
      "source": [
        "hero.get_negative_effects()"
      ],
      "metadata": {
        "colab": {
          "base_uri": "https://localhost:8080/"
        },
        "id": "dp14YNZdrYoL",
        "outputId": "4d24a6bc-88db-4670-c075-f4a766415d27"
      },
      "execution_count": 223,
      "outputs": [
        {
          "output_type": "execute_result",
          "data": {
            "text/plain": [
              "[]"
            ]
          },
          "metadata": {},
          "execution_count": 223
        }
      ]
    },
    {
      "cell_type": "code",
      "source": [
        "hero.get_positive_effects()"
      ],
      "metadata": {
        "colab": {
          "base_uri": "https://localhost:8080/"
        },
        "id": "WgjflWDW2r_A",
        "outputId": "39fa37d2-4094-44b9-d665-74e680616fa4"
      },
      "execution_count": 224,
      "outputs": [
        {
          "output_type": "execute_result",
          "data": {
            "text/plain": [
              "[]"
            ]
          },
          "metadata": {},
          "execution_count": 224
        }
      ]
    },
    {
      "cell_type": "code",
      "source": [
        "berserk = Berserk(hero)\n",
        "berserk.get_stats()"
      ],
      "metadata": {
        "colab": {
          "base_uri": "https://localhost:8080/"
        },
        "id": "6TIyMstw4TnX",
        "outputId": "d3839724-532c-4a9b-e266-c2a90153000d"
      },
      "execution_count": 225,
      "outputs": [
        {
          "output_type": "execute_result",
          "data": {
            "text/plain": [
              "{'Здоровье': 178,\n",
              " 'Мана': 42,\n",
              " 'Навык': 100,\n",
              " 'Сила': 22,\n",
              " 'Восприятие': 1,\n",
              " 'Выносливость': 15,\n",
              " 'Харизма': -1,\n",
              " 'Интеллект': 0,\n",
              " 'Проворство': 15,\n",
              " 'Удача': 8}"
            ]
          },
          "metadata": {},
          "execution_count": 225
        }
      ]
    },
    {
      "cell_type": "code",
      "source": [
        "berserk.get_negative_effects()"
      ],
      "metadata": {
        "colab": {
          "base_uri": "https://localhost:8080/"
        },
        "id": "A4XTEc4n4is8",
        "outputId": "5717ea1d-59c3-478b-dcfe-f2ca38fa966a"
      },
      "execution_count": 226,
      "outputs": [
        {
          "output_type": "execute_result",
          "data": {
            "text/plain": [
              "[]"
            ]
          },
          "metadata": {},
          "execution_count": 226
        }
      ]
    },
    {
      "cell_type": "code",
      "source": [
        "berserk.get_positive_effects()"
      ],
      "metadata": {
        "colab": {
          "base_uri": "https://localhost:8080/"
        },
        "id": "7JGe3VVBreSa",
        "outputId": "cd5c8e36-f04b-4046-fb3f-02da7b665987"
      },
      "execution_count": 227,
      "outputs": [
        {
          "output_type": "execute_result",
          "data": {
            "text/plain": [
              "['Берсерк']"
            ]
          },
          "metadata": {},
          "execution_count": 227
        }
      ]
    },
    {
      "cell_type": "code",
      "source": [
        "berserk2 = Berserk(berserk)\n",
        "curse = Curse(berserk2)\n",
        "curse.get_stats()"
      ],
      "metadata": {
        "colab": {
          "base_uri": "https://localhost:8080/"
        },
        "id": "5tuC7oLq4kb5",
        "outputId": "9d7d8eae-1a10-42dc-8d03-e54f1239dfa2"
      },
      "execution_count": 228,
      "outputs": [
        {
          "output_type": "execute_result",
          "data": {
            "text/plain": [
              "{'Здоровье': 228,\n",
              " 'Мана': 42,\n",
              " 'Навык': 100,\n",
              " 'Сила': 27,\n",
              " 'Восприятие': -4,\n",
              " 'Выносливость': 20,\n",
              " 'Харизма': -6,\n",
              " 'Интеллект': -5,\n",
              " 'Проворство': 20,\n",
              " 'Удача': 13}"
            ]
          },
          "metadata": {},
          "execution_count": 228
        }
      ]
    },
    {
      "cell_type": "code",
      "source": [
        "curse.get_positive_effects()"
      ],
      "metadata": {
        "colab": {
          "base_uri": "https://localhost:8080/"
        },
        "id": "2FZmo0go5IPk",
        "outputId": "6f4caf73-5b72-49bf-a997-46c2421931a7"
      },
      "execution_count": 229,
      "outputs": [
        {
          "output_type": "execute_result",
          "data": {
            "text/plain": [
              "['Берсерк', 'Берсерк']"
            ]
          },
          "metadata": {},
          "execution_count": 229
        }
      ]
    },
    {
      "cell_type": "code",
      "source": [
        "curse.get_negative_effects()"
      ],
      "metadata": {
        "colab": {
          "base_uri": "https://localhost:8080/"
        },
        "id": "ouzgN-vy5ShZ",
        "outputId": "077cbaf7-759e-4ce9-813f-a0a1ace37a9e"
      },
      "execution_count": 230,
      "outputs": [
        {
          "output_type": "execute_result",
          "data": {
            "text/plain": [
              "['Проклятье']"
            ]
          },
          "metadata": {},
          "execution_count": 230
        }
      ]
    },
    {
      "cell_type": "code",
      "source": [
        "curse.base = berserk\n",
        "curse.get_stats()"
      ],
      "metadata": {
        "colab": {
          "base_uri": "https://localhost:8080/"
        },
        "id": "1c7Wqzv35XbY",
        "outputId": "d002b410-c82a-45cd-d40f-123d82fc74f2"
      },
      "execution_count": 231,
      "outputs": [
        {
          "output_type": "execute_result",
          "data": {
            "text/plain": [
              "{'Здоровье': 178,\n",
              " 'Мана': 42,\n",
              " 'Навык': 100,\n",
              " 'Сила': 20,\n",
              " 'Восприятие': -1,\n",
              " 'Выносливость': 13,\n",
              " 'Харизма': -3,\n",
              " 'Интеллект': -2,\n",
              " 'Проворство': 13,\n",
              " 'Удача': 6}"
            ]
          },
          "metadata": {},
          "execution_count": 231
        }
      ]
    },
    {
      "cell_type": "code",
      "source": [
        "curse.get_positive_effects()"
      ],
      "metadata": {
        "colab": {
          "base_uri": "https://localhost:8080/"
        },
        "id": "RC01Zhzy5rZo",
        "outputId": "d71a8a09-27f1-4d52-c905-7996c90fd061"
      },
      "execution_count": 232,
      "outputs": [
        {
          "output_type": "execute_result",
          "data": {
            "text/plain": [
              "['Берсерк']"
            ]
          },
          "metadata": {},
          "execution_count": 232
        }
      ]
    },
    {
      "cell_type": "code",
      "source": [
        "curse.get_negative_effects()"
      ],
      "metadata": {
        "colab": {
          "base_uri": "https://localhost:8080/"
        },
        "id": "kZt0Il1g5vb2",
        "outputId": "cf1f25bd-b1d6-4c7e-c66c-5b1460952e94"
      },
      "execution_count": 233,
      "outputs": [
        {
          "output_type": "execute_result",
          "data": {
            "text/plain": [
              "['Проклятье']"
            ]
          },
          "metadata": {},
          "execution_count": 233
        }
      ]
    },
    {
      "cell_type": "code",
      "source": [
        "blessing = Blessing(curse)\n",
        "blessing.get_stats()"
      ],
      "metadata": {
        "colab": {
          "base_uri": "https://localhost:8080/"
        },
        "id": "yS8mxjNW576x",
        "outputId": "82fc1d4c-c96a-46ee-f157-3ed4cf02b4db"
      },
      "execution_count": 234,
      "outputs": [
        {
          "output_type": "execute_result",
          "data": {
            "text/plain": [
              "{'Здоровье': 178,\n",
              " 'Мана': 42,\n",
              " 'Навык': 100,\n",
              " 'Сила': 22,\n",
              " 'Восприятие': 1,\n",
              " 'Выносливость': 15,\n",
              " 'Харизма': -1,\n",
              " 'Интеллект': 0,\n",
              " 'Проворство': 15,\n",
              " 'Удача': 8}"
            ]
          },
          "metadata": {},
          "execution_count": 234
        }
      ]
    },
    {
      "cell_type": "code",
      "source": [
        "blessing.get_positive_effects()"
      ],
      "metadata": {
        "colab": {
          "base_uri": "https://localhost:8080/"
        },
        "outputId": "e2c4f691-98dc-4745-ec07-a63a8488192f",
        "id": "9hzlWBdutKEQ"
      },
      "execution_count": 235,
      "outputs": [
        {
          "output_type": "execute_result",
          "data": {
            "text/plain": [
              "['Берсерк', 'Благословение']"
            ]
          },
          "metadata": {},
          "execution_count": 235
        }
      ]
    },
    {
      "cell_type": "code",
      "source": [
        "blessing.get_negative_effects()"
      ],
      "metadata": {
        "colab": {
          "base_uri": "https://localhost:8080/"
        },
        "outputId": "95d054ce-33c8-421f-8db5-23431e909f3b",
        "id": "q3JjuNpktMGo"
      },
      "execution_count": 236,
      "outputs": [
        {
          "output_type": "execute_result",
          "data": {
            "text/plain": [
              "['Проклятье']"
            ]
          },
          "metadata": {},
          "execution_count": 236
        }
      ]
    },
    {
      "cell_type": "code",
      "source": [
        "blessing.base = berserk\n",
        "blessing.get_stats()"
      ],
      "metadata": {
        "colab": {
          "base_uri": "https://localhost:8080/"
        },
        "id": "jv0_yKvhsiXW",
        "outputId": "ce64ac5c-56f9-4bf5-cc05-10ee487a4fac"
      },
      "execution_count": 237,
      "outputs": [
        {
          "output_type": "execute_result",
          "data": {
            "text/plain": [
              "{'Здоровье': 178,\n",
              " 'Мана': 42,\n",
              " 'Навык': 100,\n",
              " 'Сила': 24,\n",
              " 'Восприятие': 3,\n",
              " 'Выносливость': 17,\n",
              " 'Харизма': 1,\n",
              " 'Интеллект': 2,\n",
              " 'Проворство': 17,\n",
              " 'Удача': 10}"
            ]
          },
          "metadata": {},
          "execution_count": 237
        }
      ]
    },
    {
      "cell_type": "code",
      "source": [
        "blessing.get_positive_effects()"
      ],
      "metadata": {
        "colab": {
          "base_uri": "https://localhost:8080/"
        },
        "outputId": "a5a050ac-e96e-4e6b-8299-b774475fd194",
        "id": "o0zd7ukkwGuW"
      },
      "execution_count": 238,
      "outputs": [
        {
          "output_type": "execute_result",
          "data": {
            "text/plain": [
              "['Берсерк', 'Благословение']"
            ]
          },
          "metadata": {},
          "execution_count": 238
        }
      ]
    },
    {
      "cell_type": "code",
      "source": [
        "blessing.get_negative_effects()"
      ],
      "metadata": {
        "colab": {
          "base_uri": "https://localhost:8080/"
        },
        "outputId": "72398e05-03a5-45e0-a66e-8bea1e24e935",
        "id": "u16BTyGjwICR"
      },
      "execution_count": 239,
      "outputs": [
        {
          "output_type": "execute_result",
          "data": {
            "text/plain": [
              "[]"
            ]
          },
          "metadata": {},
          "execution_count": 239
        }
      ]
    },
    {
      "cell_type": "code",
      "source": [
        "weakness = Weakness(blessing)\n",
        "weakness.get_stats()"
      ],
      "metadata": {
        "colab": {
          "base_uri": "https://localhost:8080/"
        },
        "id": "rTqyWvaI8iOD",
        "outputId": "0e701a21-8378-42dd-d372-c53deb0cc021"
      },
      "execution_count": 240,
      "outputs": [
        {
          "output_type": "execute_result",
          "data": {
            "text/plain": [
              "{'Здоровье': 178,\n",
              " 'Мана': 42,\n",
              " 'Навык': 100,\n",
              " 'Сила': 20,\n",
              " 'Восприятие': 3,\n",
              " 'Выносливость': 13,\n",
              " 'Харизма': 1,\n",
              " 'Интеллект': 2,\n",
              " 'Проворство': 13,\n",
              " 'Удача': 10}"
            ]
          },
          "metadata": {},
          "execution_count": 240
        }
      ]
    },
    {
      "cell_type": "code",
      "source": [
        "weakness.get_positive_effects()"
      ],
      "metadata": {
        "colab": {
          "base_uri": "https://localhost:8080/"
        },
        "id": "hkaaV4Bc8slG",
        "outputId": "2512dc10-aeb4-4a1b-dfd0-7167a56d6f69"
      },
      "execution_count": 241,
      "outputs": [
        {
          "output_type": "execute_result",
          "data": {
            "text/plain": [
              "['Берсерк', 'Благословение']"
            ]
          },
          "metadata": {},
          "execution_count": 241
        }
      ]
    },
    {
      "cell_type": "code",
      "source": [
        "weakness.get_negative_effects()"
      ],
      "metadata": {
        "colab": {
          "base_uri": "https://localhost:8080/"
        },
        "id": "kqYjbmjW8w_q",
        "outputId": "179eb526-5440-4b61-d13f-3dfe622c6432"
      },
      "execution_count": 242,
      "outputs": [
        {
          "output_type": "execute_result",
          "data": {
            "text/plain": [
              "['Слабость']"
            ]
          },
          "metadata": {},
          "execution_count": 242
        }
      ]
    },
    {
      "cell_type": "code",
      "source": [
        "weakness.base = berserk\n",
        "weakness.get_stats()"
      ],
      "metadata": {
        "colab": {
          "base_uri": "https://localhost:8080/"
        },
        "outputId": "f7922a55-53f9-4d49-be51-7d3b380a1076",
        "id": "gDjRyLWctayw"
      },
      "execution_count": 247,
      "outputs": [
        {
          "output_type": "execute_result",
          "data": {
            "text/plain": [
              "{'Здоровье': 178,\n",
              " 'Мана': 42,\n",
              " 'Навык': 100,\n",
              " 'Сила': 18,\n",
              " 'Восприятие': 1,\n",
              " 'Выносливость': 11,\n",
              " 'Харизма': -1,\n",
              " 'Интеллект': 0,\n",
              " 'Проворство': 11,\n",
              " 'Удача': 8}"
            ]
          },
          "metadata": {},
          "execution_count": 247
        }
      ]
    },
    {
      "cell_type": "code",
      "source": [
        "weakness.get_positive_effects()"
      ],
      "metadata": {
        "colab": {
          "base_uri": "https://localhost:8080/"
        },
        "outputId": "601b8e23-9c8d-4f0c-f4a4-966eac628898",
        "id": "aLm7Zy-WtnUW"
      },
      "execution_count": 248,
      "outputs": [
        {
          "output_type": "execute_result",
          "data": {
            "text/plain": [
              "['Берсерк']"
            ]
          },
          "metadata": {},
          "execution_count": 248
        }
      ]
    },
    {
      "cell_type": "code",
      "source": [
        "weakness.get_negative_effects()"
      ],
      "metadata": {
        "colab": {
          "base_uri": "https://localhost:8080/"
        },
        "outputId": "2fae557f-38ec-4393-b166-9c4f0d50f125",
        "id": "KzecL5mrtslR"
      },
      "execution_count": 249,
      "outputs": [
        {
          "output_type": "execute_result",
          "data": {
            "text/plain": [
              "['Слабость']"
            ]
          },
          "metadata": {},
          "execution_count": 249
        }
      ]
    },
    {
      "cell_type": "code",
      "source": [
        "evileye = EvilEye(weakness)\n",
        "evileye.get_stats()"
      ],
      "metadata": {
        "colab": {
          "base_uri": "https://localhost:8080/"
        },
        "id": "B9Ma8w_yvs1-",
        "outputId": "749cd4f3-e958-4814-c5e9-8d0d0875b919"
      },
      "execution_count": 250,
      "outputs": [
        {
          "output_type": "execute_result",
          "data": {
            "text/plain": [
              "{'Здоровье': 178,\n",
              " 'Мана': 42,\n",
              " 'Навык': 100,\n",
              " 'Сила': 18,\n",
              " 'Восприятие': 1,\n",
              " 'Выносливость': 11,\n",
              " 'Харизма': -1,\n",
              " 'Интеллект': 0,\n",
              " 'Проворство': 11,\n",
              " 'Удача': -2}"
            ]
          },
          "metadata": {},
          "execution_count": 250
        }
      ]
    },
    {
      "cell_type": "code",
      "source": [
        "evileye.get_positive_effects()"
      ],
      "metadata": {
        "colab": {
          "base_uri": "https://localhost:8080/"
        },
        "id": "1gFFXZlJ8Wr5",
        "outputId": "323556d6-558c-462a-95a1-86245426eadb"
      },
      "execution_count": 251,
      "outputs": [
        {
          "output_type": "execute_result",
          "data": {
            "text/plain": [
              "['Берсерк']"
            ]
          },
          "metadata": {},
          "execution_count": 251
        }
      ]
    },
    {
      "cell_type": "code",
      "source": [
        "evileye.get_negative_effects()"
      ],
      "metadata": {
        "colab": {
          "base_uri": "https://localhost:8080/"
        },
        "id": "ZG4PYXFV8ayS",
        "outputId": "c90dd902-f71f-440a-bd6f-6cb797188f27"
      },
      "execution_count": 252,
      "outputs": [
        {
          "output_type": "execute_result",
          "data": {
            "text/plain": [
              "['Слабость', 'Сглаз']"
            ]
          },
          "metadata": {},
          "execution_count": 252
        }
      ]
    }
  ]
}