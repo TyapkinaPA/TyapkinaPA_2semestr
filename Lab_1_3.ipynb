{
  "nbformat": 4,
  "nbformat_minor": 0,
  "metadata": {
    "colab": {
      "provenance": [],
      "authorship_tag": "ABX9TyM0Mhq92TczVO19pRKs557V",
      "include_colab_link": true
    },
    "kernelspec": {
      "name": "python3",
      "display_name": "Python 3"
    },
    "language_info": {
      "name": "python"
    }
  },
  "cells": [
    {
      "cell_type": "markdown",
      "metadata": {
        "id": "view-in-github",
        "colab_type": "text"
      },
      "source": [
        "<a href=\"https://colab.research.google.com/github/TyapkinaPA/TyapkinaPA_2semestr/blob/main/Lab_1_3.ipynb\" target=\"_parent\"><img src=\"https://colab.research.google.com/assets/colab-badge.svg\" alt=\"Open In Colab\"/></a>"
      ]
    },
    {
      "cell_type": "markdown",
      "source": [
        "# № 1.3.1\n",
        "### Создайте для класса «студент» функцию, которая считает средний балл по трем дисциплинам, оценки по которым вводятся пользователям. Реализуйте программу двумя способами: без использования конструктора__init__и с ним. "
      ],
      "metadata": {
        "id": "OLJ9aK4oynE_"
      }
    },
    {
      "cell_type": "code",
      "execution_count": null,
      "metadata": {
        "id": "z5Q0stuHl12l",
        "colab": {
          "base_uri": "https://localhost:8080/"
        },
        "outputId": "83a72d32-de3d-46e3-81e0-1600885aa018"
      },
      "outputs": [
        {
          "name": "stdout",
          "output_type": "stream",
          "text": [
            "Введите оценки: 3 4 5\n"
          ]
        },
        {
          "output_type": "execute_result",
          "data": {
            "text/plain": [
              "4.0"
            ]
          },
          "metadata": {},
          "execution_count": 4
        }
      ],
      "source": [
        "class Student:\n",
        "  def __init__(self, task1, task2, task3):\n",
        "    self.task1 = task1\n",
        "    self.task2 = task2\n",
        "    self.task3 = task3\n",
        "\n",
        "  def val(self):\n",
        "    return round((self.task1 + self.task2 + self.task3)/3, 2)\n",
        "\n",
        "f, s, t = map(int, input('Введите оценки: ').split())\n",
        "d = Student(f, s, t)\n",
        "d.val()"
      ]
    },
    {
      "cell_type": "markdown",
      "source": [
        "# № 1.3.2\n",
        "### Создайте функцию, которая считает и выводит в файл заработную плату сотрудника склада в зависимости от количества отработанных дней в месяце. Оклад является защищаемым атрибутом класса «сотрудник». \n",
        "# № 1.3.3\n",
        "### Используя результат предыдущего задания, создайте функцию начисления премии сотруднику, вычисляемую как 1% от уровня заработной платы."
      ],
      "metadata": {
        "id": "0P37Vuy0zUdi"
      }
    },
    {
      "cell_type": "code",
      "source": [
        "class ZP:\n",
        "  __oklad = float(input('Введите ЗП за месяц: '))\n",
        "  c_w_d = int(input('Введите количество рабочих дней: '))\n",
        "  o_w_d = int(input('Введите количество отработанных дней: '))\n",
        "  r = 0\n",
        "\n",
        "  def act_zp(self):\n",
        "    self.r = (self.__oklad / self.c_w_d * self.o_w_d)\n",
        "    print(\"ЗП составляет: \", self.r)\n",
        "    d = open('zp_1_3_2', 'w')\n",
        "    d.write('zp = ' + str(self.r) + '\\n')\n",
        "    d.close()\n",
        "    print('Не грусти! Код работает и файл сохранен!')\n",
        "    \n",
        "\n",
        "  def premiya(self):\n",
        "    i = self.act_zp()\n",
        "    self.r += (self.r * 0.01)\n",
        "    print('С учетом премии ЗП составляет: ', self.r)\n",
        "    d = open('zp_1_3_2', 'a')\n",
        "    d.write('zp + premiya= ' + str(self.r) + '\\n')\n",
        "    d.close()\n",
        "    return self.r\n",
        " \n",
        "  def __del__(self):\n",
        "    print('Процесс удален')\n",
        "\n",
        "if __name__ == '__main__':\n",
        "  c = ZP()\n",
        "  c.premiya()\n",
        "  del c"
      ],
      "metadata": {
        "colab": {
          "base_uri": "https://localhost:8080/"
        },
        "id": "AeVntuSzzvzy",
        "outputId": "455f41d3-53a1-42b1-d238-1a649e3be3ba"
      },
      "execution_count": null,
      "outputs": [
        {
          "output_type": "stream",
          "name": "stdout",
          "text": [
            "Введите ЗП за месяц: 60000\n",
            "Введите количество рабочих дней: 30\n",
            "Введите количество отработанных дней: 27\n",
            "ЗП составляет:  54000.0\n",
            "Не грусти! Код работает и файл сохранен!\n",
            "С учетом премии ЗП составляет:  54540.0\n",
            "Процесс удален\n"
          ]
        }
      ]
    },
    {
      "cell_type": "markdown",
      "source": [
        "# № 1.3.4\n",
        "###Модифицируйте предыдущую программу, позволяющую вычислять заработную плату, премию для сотрудников и определять величину общего фонда заработной платы как сумму заработной платы и премий, деленную на коэффициент 0,7.\n",
        "\n",
        "### Данные о сотрудниках вводятся через цикл while и записываются в соответствующий файл .txt или .xlsx."
      ],
      "metadata": {
        "id": "X2aXSJln8XIJ"
      }
    },
    {
      "cell_type": "markdown",
      "source": [
        "# № 1.3.5\n",
        "###Используя технологию перегрузки операторов, измените truediv(деление) так, чтобы числителем был знаменатель и наоборот. Аналогичные процедуры осуществите для операторов floordiv(целочисленное деление), mod(остаток от деления). Числа вводят пользователи. Предусмотрите отработку исключений."
      ],
      "metadata": {
        "id": "aGuOCOUB8iPn"
      }
    },
    {
      "cell_type": "code",
      "source": [
        "class Delenie():\n",
        "  def __init__(self, x):\n",
        "    self.d = float(x)\n",
        "  def __truediv__(self, y):\n",
        "    print('Необычный процесс деления...')\n",
        "    return y / self.d\n",
        "  def __floordiv__(self, z):\n",
        "    print('Необычный процесс деления без остатка...')\n",
        "    return int(z // self.d)\n",
        "  def __mod__(self, s):\n",
        "    print('Необычный процесс деления на остаток...')\n",
        "    return int(s % self.d)\n",
        "a = Delenie(8)\n",
        "print(a / 4)\n",
        "print(a // 17)\n",
        "print(a % 13)"
      ],
      "metadata": {
        "colab": {
          "base_uri": "https://localhost:8080/"
        },
        "id": "pLo0qBl18qpX",
        "outputId": "5207254a-f817-405e-8cf0-fec372d5314c"
      },
      "execution_count": 1,
      "outputs": [
        {
          "output_type": "stream",
          "name": "stdout",
          "text": [
            "Необычный процесс деления...\n",
            "0.5\n",
            "Необычный процесс деления без остатка...\n",
            "2\n",
            "Необычный процесс деления на остаток...\n",
            "5\n"
          ]
        }
      ]
    }
  ]
}