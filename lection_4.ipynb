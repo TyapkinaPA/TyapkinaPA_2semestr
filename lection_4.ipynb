{
  "nbformat": 4,
  "nbformat_minor": 0,
  "metadata": {
    "colab": {
      "provenance": [],
      "authorship_tag": "ABX9TyM3DMhTgrM5MpqdnKjTsfgr",
      "include_colab_link": true
    },
    "kernelspec": {
      "name": "python3",
      "display_name": "Python 3"
    },
    "language_info": {
      "name": "python"
    }
  },
  "cells": [
    {
      "cell_type": "markdown",
      "metadata": {
        "id": "view-in-github",
        "colab_type": "text"
      },
      "source": [
        "<a href=\"https://colab.research.google.com/github/TyapkinaPA/TyapkinaPA_2semestr/blob/main/lection_4.ipynb\" target=\"_parent\"><img src=\"https://colab.research.google.com/assets/colab-badge.svg\" alt=\"Open In Colab\"/></a>"
      ]
    },
    {
      "cell_type": "markdown",
      "source": [
        "# Занятие №4. Парадигмы ООП. Полиморфизм.\n",
        "## Полиморфизм в объектно-ориентированном программировании – это возможность обработки разных типов данных, т. е. принадлежащих к разным классам, с помощью «одно и той же» функции, или метода. На самом деле одинаковым является только имя метода, его исходный код зависит от класса. Кроме того, результаты работы одноименных методов могут существенно различаться. Поэтому в данном контексте под полиморфизмом понимается множество форм одного и того же слова – имени метода. \n",
        "\n",
        "  Например, два разных класса содержат метод total, однако инструкции каждого предусматривают совершенно разные операции. Так в классе T1 – это прибавление 10 к аргументу, в T2 – подсчет длины строки символов. В зависимости от того, к объекту какого класса применяется метод total, выполняются те или иные инструкции. "
      ],
      "metadata": {
        "id": "uzXBLrm8W0lC"
      }
    },
    {
      "cell_type": "code",
      "execution_count": null,
      "metadata": {
        "colab": {
          "base_uri": "https://localhost:8080/"
        },
        "id": "sAprMafiWQ1m",
        "outputId": "ded30974-e700-475a-dab2-4a11f7eff916"
      },
      "outputs": [
        {
          "output_type": "stream",
          "name": "stdout",
          "text": [
            "55\n",
            "2\n"
          ]
        }
      ],
      "source": [
        "class T1: \n",
        "  n=10 \n",
        "  def total(self, N): \n",
        "    self.total = int(self.n) + int(N) \n",
        " \n",
        "class T2: \n",
        "  def total(self,s): \n",
        "    self.total = len(str(s)) \n",
        " \n",
        "t1 = T1() \n",
        "t2 = T2() \n",
        "t1.total(45) \n",
        "t2.total(45) \n",
        "print(t1.total) # Вывод: 55 \n",
        "print(t2.total) # Вывод: 2 "
      ]
    },
    {
      "cell_type": "markdown",
      "source": [
        "## Полиморфизм дает возможность реализовывать так называемые единые интерфейсы для объектов различных классов. Например, разные классы могут предусматривать различный способ вывода той или иной информации объектов. Однако одинаковое название метода вывода позволит не запутать программу, сделать код более ясным. В Python среди прочего полиморфизм находит отражение в методах перегрузки операторов ( __ init__() и __ del__()), которые вызываются при создании объекта и его удалении. Полиморфизм у методов перегрузки операторов проявляется в том, что независимо от типа объекта, его участие в определенной операции, вызывает метод с конкретным именем. В случае __ init()__ операцией является создание объекта. Рассмотрим пример полиморфизма на еще одном методе, который перегружает функцию print()."
      ],
      "metadata": {
        "id": "kDTn0icfXvgy"
      }
    },
    {
      "cell_type": "code",
      "source": [
        "class A:\n",
        "  def __init__(self, v1, v2):\n",
        "    self.field1 = v1\n",
        "    self.field2 = v2\n",
        "\n",
        "a = A(3,4)\n",
        "print(a)"
      ],
      "metadata": {
        "colab": {
          "base_uri": "https://localhost:8080/"
        },
        "id": "hl3pomksYt6Q",
        "outputId": "03833fd0-1c6e-4bcf-cefb-1feb41afa305"
      },
      "execution_count": null,
      "outputs": [
        {
          "output_type": "stream",
          "name": "stdout",
          "text": [
            "<__main__.A object at 0x7fa59704b160>\n"
          ]
        }
      ]
    },
    {
      "cell_type": "markdown",
      "source": [
        "## Парадигма полиморфизма позволяет вместо объекта базового типа использовать его потомка, при этом не указывая это явно. "
      ],
      "metadata": {
        "id": "xAt64aj_Zc_1"
      }
    },
    {
      "cell_type": "code",
      "source": [
        "class Parent: \n",
        "  def some_method(self): \n",
        "    print(\"This is Parent object\") \n",
        "\n",
        "class Child1(Parent): \n",
        "  def some_method(self): \n",
        "    print(\"This is Child1 object\") \n",
        "\n",
        "class Child2(Parent): \n",
        "  def some_method(self): \n",
        "    print(\"This is Child2 object\") \n",
        "  def who_am_i(obj): \n",
        "    obj.some_method() \n",
        "\n",
        "p = Parent() \n",
        "c1 = Child1() \n",
        "c2 = Child2() \n",
        "\n",
        "who_am_i(p) \n",
        "who_am_i(c1) \n",
        "who_am_i(c2) \n",
        "\n",
        "print(answer(who_am_i)(p))\n",
        "print(answer(who_am_i)(c1))\n",
        "print(answer(who_am_i)(c2))"
      ],
      "metadata": {
        "id": "nsq9N3dNZcyz",
        "colab": {
          "base_uri": "https://localhost:8080/"
        },
        "outputId": "d7f9da08-19e9-4fd1-b133-c2eebaa240bc"
      },
      "execution_count": 10,
      "outputs": [
        {
          "output_type": "stream",
          "name": "stdout",
          "text": [
            "This is Parent object\n",
            "This is Child1 object\n",
            "This is Child2 object\n",
            "This is Parent object\n",
            "Результат функции: None\n",
            "This is Child1 object\n",
            "Результат функции: None\n",
            "This is Child2 object\n",
            "Результат функции: None\n"
          ]
        }
      ]
    }
  ]
}