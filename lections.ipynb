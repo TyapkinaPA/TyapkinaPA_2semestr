{
  "nbformat": 4,
  "nbformat_minor": 0,
  "metadata": {
    "colab": {
      "provenance": [],
      "authorship_tag": "ABX9TyNbLeHSoD/o86v5oXf9AWot",
      "include_colab_link": true
    },
    "kernelspec": {
      "name": "python3",
      "display_name": "Python 3"
    },
    "language_info": {
      "name": "python"
    }
  },
  "cells": [
    {
      "cell_type": "markdown",
      "metadata": {
        "id": "view-in-github",
        "colab_type": "text"
      },
      "source": [
        "<a href=\"https://colab.research.google.com/github/TyapkinaPA/TyapkinaPA_2semestr/blob/main/lections.ipynb\" target=\"_parent\"><img src=\"https://colab.research.google.com/assets/colab-badge.svg\" alt=\"Open In Colab\"/></a>"
      ]
    },
    {
      "cell_type": "markdown",
      "source": [
        "## 1.1 Введение в объектно-ориентированное программирование.\n",
        "\n",
        "### объектно-ориентированное программирование - методология программирования, основанная на представлении программы в виде совокупности объектов, каждый из которых является экземпляром определенного класса, а классы образуют иерархию наследования.\n",
        "\n",
        "## 1.2 Python и ООП.\n",
        "\n",
        "### Python - прагматичный язык, который сочетает в себе объектно-ориентированный и процедурный стили, а не придерживается рамок одного подхода.\n",
        "\n",
        "## 1.3 Объекты.\n",
        "\n",
        "### В Python объект - набор данных и инструкций, хранящикся в памяти компъютера."
      ],
      "metadata": {
        "id": "zSFq3e9xo2Lg"
      }
    },
    {
      "cell_type": "markdown",
      "source": [
        "### 1.3.1 Тип"
      ],
      "metadata": {
        "id": "XccpwGsbq0D4"
      }
    },
    {
      "cell_type": "code",
      "execution_count": null,
      "metadata": {
        "colab": {
          "base_uri": "https://localhost:8080/"
        },
        "id": "xgErLRMdosTR",
        "outputId": "ce0e7ca5-eb5b-4a49-9165-ab6ef74ef454"
      },
      "outputs": [
        {
          "output_type": "execute_result",
          "data": {
            "text/plain": [
              "str"
            ]
          },
          "metadata": {},
          "execution_count": 1
        }
      ],
      "source": [
        "s = 'Это строка'\n",
        "type(s)"
      ]
    },
    {
      "cell_type": "code",
      "source": [
        "x = 42   # создание целочисленной переменной\n",
        "type(x)"
      ],
      "metadata": {
        "colab": {
          "base_uri": "https://localhost:8080/"
        },
        "id": "2_0zzER3rd_I",
        "outputId": "ce18b51d-2da2-4a3a-da83-d625c5ef5c84"
      },
      "execution_count": null,
      "outputs": [
        {
          "output_type": "execute_result",
          "data": {
            "text/plain": [
              "int"
            ]
          },
          "metadata": {},
          "execution_count": 2
        }
      ]
    },
    {
      "cell_type": "code",
      "source": [
        "'300' + 'cc'"
      ],
      "metadata": {
        "colab": {
          "base_uri": "https://localhost:8080/",
          "height": 36
        },
        "id": "XBo0YaOhr0mx",
        "outputId": "bbe04bfe-328d-45e3-9144-6b8ecad91c6e"
      },
      "execution_count": null,
      "outputs": [
        {
          "output_type": "execute_result",
          "data": {
            "text/plain": [
              "'300cc'"
            ],
            "application/vnd.google.colaboratory.intrinsic+json": {
              "type": "string"
            }
          },
          "metadata": {},
          "execution_count": 3
        }
      ]
    },
    {
      "cell_type": "code",
      "source": [
        "int('300') + 400"
      ],
      "metadata": {
        "colab": {
          "base_uri": "https://localhost:8080/"
        },
        "id": "iBtQv0J9r7IT",
        "outputId": "899cdf51-30c6-4cb1-d33e-876d34991863"
      },
      "execution_count": null,
      "outputs": [
        {
          "output_type": "execute_result",
          "data": {
            "text/plain": [
              "700"
            ]
          },
          "metadata": {},
          "execution_count": 4
        }
      ]
    },
    {
      "cell_type": "markdown",
      "source": [
        "### 1.3.2 Уникальный идентификатор"
      ],
      "metadata": {
        "id": "o_TqruEzsLPi"
      }
    },
    {
      "cell_type": "code",
      "source": [
        "y = 2.5\n",
        "z = 2.5\n",
        "print(id(y))\n",
        "print(id(z))"
      ],
      "metadata": {
        "colab": {
          "base_uri": "https://localhost:8080/"
        },
        "id": "uTrnRRpesWsw",
        "outputId": "442cb972-750c-48e7-dc45-dda12d911c5b"
      },
      "execution_count": null,
      "outputs": [
        {
          "output_type": "stream",
          "name": "stdout",
          "text": [
            "139675695684592\n",
            "139675695682736\n"
          ]
        }
      ]
    },
    {
      "cell_type": "markdown",
      "source": [
        "### 1.3.3 Содержимое объекта: данные и атрибуты"
      ],
      "metadata": {
        "id": "hKV9eiXgspwI"
      }
    },
    {
      "cell_type": "code",
      "source": [
        "x = 42\n",
        "x\n",
        "print(x.imag)\n",
        "print(x.__class__)"
      ],
      "metadata": {
        "colab": {
          "base_uri": "https://localhost:8080/"
        },
        "id": "Vm97ZNFEs5Sy",
        "outputId": "dd293e99-f556-4370-cf40-8143793d0118"
      },
      "execution_count": null,
      "outputs": [
        {
          "output_type": "stream",
          "name": "stdout",
          "text": [
            "0\n",
            "<class 'int'>\n"
          ]
        }
      ]
    },
    {
      "cell_type": "markdown",
      "source": [
        "### 1.3.4 Методы"
      ],
      "metadata": {
        "id": "3HbQsRjxtPtc"
      }
    },
    {
      "cell_type": "code",
      "source": [
        "x = ['foo', 'bar']\n",
        "print(callable(x.append))\n",
        "print(callable(x.__doc__))"
      ],
      "metadata": {
        "colab": {
          "base_uri": "https://localhost:8080/"
        },
        "id": "SNCGFozntZL5",
        "outputId": "de43fe80-ea06-411c-8f12-4aa4c8e08cac"
      },
      "execution_count": null,
      "outputs": [
        {
          "output_type": "stream",
          "name": "stdout",
          "text": [
            "True\n",
            "False\n"
          ]
        }
      ]
    },
    {
      "cell_type": "code",
      "source": [
        "x = ['a', 'b']\n",
        "x.append('c')\n",
        "print(x)\n",
        "\n",
        "s = 'This is a string'\n",
        "print(s.upper())\n",
        "print(s.lower())\n",
        "\n",
        "s.replace('This', 'That')\n",
        "print(s)"
      ],
      "metadata": {
        "colab": {
          "base_uri": "https://localhost:8080/"
        },
        "id": "Z7yPWlBet0Qv",
        "outputId": "95206ffe-1eac-4aa3-804f-22b2279dd55c"
      },
      "execution_count": null,
      "outputs": [
        {
          "output_type": "stream",
          "name": "stdout",
          "text": [
            "['a', 'b', 'c']\n",
            "THIS IS A STRING\n",
            "this is a string\n",
            "This is a string\n"
          ]
        }
      ]
    },
    {
      "cell_type": "code",
      "source": [
        "x = ['a', 'b']\n",
        "x.__setitem__(0, 'aa')\n",
        "print(x)\n",
        "\n",
        "y = ['a', 'b']\n",
        "y[0] = 'aa'\n",
        "# Присвоение элемента с помощью обозначения квадратных скобок\n",
        "print(y)"
      ],
      "metadata": {
        "colab": {
          "base_uri": "https://localhost:8080/"
        },
        "id": "nPbYuwVLvMMs",
        "outputId": "b95c2b0e-c44e-41bc-8c4d-bcc23512f1ba"
      },
      "execution_count": null,
      "outputs": [
        {
          "output_type": "stream",
          "name": "stdout",
          "text": [
            "['aa', 'b']\n",
            "['aa', 'b']\n"
          ]
        }
      ]
    },
    {
      "cell_type": "markdown",
      "source": [
        "## 1.4 Определение собственных классов и объектов в Python.\n",
        "### Классы на языке Python - абстрактные классы, которые описывают сущности предметной области, содержат атрибуты, методы и придназначенны для создания экземпляров класса.\n",
        "\n",
        "### Синтаксис:\n",
        "    class rec:\n",
        "        def omen(datsion):\n",
        "            pass"
      ],
      "metadata": {
        "id": "Fk5Vv47lv67Q"
      }
    },
    {
      "cell_type": "code",
      "source": [
        "class Car:\n",
        "    pass"
      ],
      "metadata": {
        "id": "wjkcXV2xxQFB"
      },
      "execution_count": null,
      "outputs": []
    },
    {
      "cell_type": "markdown",
      "source": [
        "### 1.4.1 Определение собственных объектов\n",
        "\n",
        "#### <имя_объекта> = <имя_класса>() \n",
        "#### И в качестве примера создадим объект класса Car: \n",
        "####car_object = Car()"
      ],
      "metadata": {
        "id": "L8HjiAemxvwg"
      }
    },
    {
      "cell_type": "code",
      "source": [
        "car_object = Car()\n",
        "type(car_object)"
      ],
      "metadata": {
        "colab": {
          "base_uri": "https://localhost:8080/"
        },
        "id": "6G2HfKIGyPfo",
        "outputId": "ed65c6fe-0038-464e-ec14-71fc056030e6"
      },
      "execution_count": null,
      "outputs": [
        {
          "output_type": "execute_result",
          "data": {
            "text/plain": [
              "__main__.Car"
            ]
          },
          "metadata": {},
          "execution_count": 16
        }
      ]
    },
    {
      "cell_type": "markdown",
      "source": [
        "### 1.4.2 Атрибуты классы в Python\n",
        "#### Атрибутом класс/объекта называется любой элемент класса/объекта, на которую можно сослаться через символ точки. Напрример:\n",
        "#### MyClass.<атрибут> / my_object.<атрибут>\n",
        "#### Все атрибуты можно разделить на 2 группы:\n",
        "\n",
        "*   встроенные (служебные) атрибуты\n",
        "*   пользовательские атрибуты\n",
        "\n"
      ],
      "metadata": {
        "id": "j6IQumA4zrll"
      }
    },
    {
      "cell_type": "markdown",
      "source": [
        "#### 1.4.2.1 Встроенные атрибуты\n",
        "##### Все классы, начиная с 3-й версии Python, имеют один большой родительский класс - object.\n",
        "##### Встроееные атрибуты в Python:\n",
        "\n",
        "*   __new __(cls[,...]) Конструктор. Создает экземпляр (объект) класса. Сам класс передается в качестве аргумента.\n",
        "*   __init __(self[,...]) Инициализатор. Принимает объект класса из конструктора.\n",
        "*   __del __(self) Деструктор. Вызывается при удалении объекта сборщиком мусора.\n",
        "*   __str __(self) Возвращаетстроковое представление объекта.\n",
        "*   __hash __(self) Возвращает хэш-сумму объекта.\n",
        "*   __setattr __(self, attr, val) Создает новый атрибут для объекта класса с именем attr и значением val.\n",
        "*   __doc __ Документация класса.\n",
        "*   __dict __ Словарь, в котором хранится пространство имен класса.\n",
        "##### В теории ООП конструктор класса – это специальный блок инструкций, который вызывается при создании объекта. При написании кода считается, что метод __init__(self) – это и есть конструктор, но это не совсем так. \n",
        "##### При создании объекта в Python вызывается метод __new__(cls, *args, **kwargs) – он является конструктором класса. Метод __init__() является инициализатором класса. "
      ],
      "metadata": {
        "id": "kJvMdvb-1PTN"
      }
    },
    {
      "cell_type": "markdown",
      "source": [
        "#### 1.4.2.2 Пользовательские атрибуты.\n",
        "##### Это атрибуты, которые непосредственно составляют основной функционал класса. Если служебные атрибуты наследуются от базового класса object, то пользовательские – пишутся программистом во время реализации класса."
      ],
      "metadata": {
        "id": "QuMEf62Q6JRN"
      }
    },
    {
      "cell_type": "code",
      "source": [
        "class Car:\n",
        "  color = 'Grey'\n",
        "  def drive(self):\n",
        "    pass\n",
        "  def price(self):\n",
        "    pass"
      ],
      "metadata": {
        "id": "Wh_GArbqx5Ly"
      },
      "execution_count": null,
      "outputs": []
    },
    {
      "cell_type": "code",
      "source": [
        "car_object = Car()\n",
        "dir(car_object)\n",
        "['__claas__',\n",
        " '__delattr',\n",
        " '__dict__',\n",
        " '__dir__',\n",
        " '__doc__',\n",
        " '__init__',\n",
        " '__init_subclass__',\n",
        " 'color',\n",
        " 'drive',\n",
        " 'price']"
      ],
      "metadata": {
        "colab": {
          "base_uri": "https://localhost:8080/"
        },
        "id": "5Q5cJPtS698F",
        "outputId": "5b15843b-a4f5-4448-b6d6-a86a6dbd5873"
      },
      "execution_count": null,
      "outputs": [
        {
          "output_type": "execute_result",
          "data": {
            "text/plain": [
              "['__claas__',\n",
              " '__delattr',\n",
              " '__dict__',\n",
              " '__dir__',\n",
              " '__doc__',\n",
              " '__init__',\n",
              " '__init_subclass__',\n",
              " 'color',\n",
              " 'drive',\n",
              " 'price']"
            ]
          },
          "metadata": {},
          "execution_count": 18
        }
      ]
    },
    {
      "cell_type": "markdown",
      "source": [
        "### 1.4.3 Поля (свойства) класса в Python\n",
        "#### Поля(свойства или переменные) делятся на две основные группы: \n",
        "*   статические поля; \n",
        "*   динамические поля. "
      ],
      "metadata": {
        "id": "_7AGjK4t7oIx"
      }
    },
    {
      "cell_type": "markdown",
      "source": [
        "#### 1.4.3.1 Статические поля(переменные или свойства класса)\n",
        "##### Это переменные, которые объявляются внутри тела класса и создаются тогда, когда создается класс. Создали класса – создалась переменная. "
      ],
      "metadata": {
        "id": "Eeg6dZAB8Erz"
      }
    },
    {
      "cell_type": "code",
      "source": [
        "class Car:\n",
        "# Статические поля (переменные класса)\n",
        "  default_color = 'Grey'\n",
        "  default_model = 'BMW'\n",
        "  def drive(self):\n",
        "    pass\n",
        "  def price(self):\n",
        "    pass\n",
        "\n",
        "a = Car()\n",
        "a.default_model\n",
        "a.default_color"
      ],
      "metadata": {
        "colab": {
          "base_uri": "https://localhost:8080/",
          "height": 36
        },
        "id": "M_4XfNUJ8Yb4",
        "outputId": "158c10a3-1885-42d5-bf0b-2ce871bf6a78"
      },
      "execution_count": null,
      "outputs": [
        {
          "output_type": "execute_result",
          "data": {
            "text/plain": [
              "'Grey'"
            ],
            "application/vnd.google.colaboratory.intrinsic+json": {
              "type": "string"
            }
          },
          "metadata": {},
          "execution_count": 23
        }
      ]
    },
    {
      "cell_type": "markdown",
      "source": [
        "#### 1.4.3.2 Динамические поля (переменные или свойства экземпляра класса)\n",
        "##### Это переменные, которые создаются на уровне экземпляра класса. Нет экземпляра - нет его переменных. Для создания динамического свойства необходимо обратиться к self внутри метода."
      ],
      "metadata": {
        "id": "bQvcaTxr90Po"
      }
    },
    {
      "cell_type": "code",
      "source": [
        "class Car:\n",
        "# Статические поля (переменные класса)\n",
        "  default_color = 'Grey'\n",
        "  default_model = 'BMW'\n",
        "  def __init__(self, color, model):\n",
        "# Динамические поля (переменные объекта)\n",
        "    self.color = color\n",
        "    self.model = model\n",
        "\n",
        "d = Car('Red', 'BMW')\n",
        "print(d.color)\n",
        "print(d.model)"
      ],
      "metadata": {
        "colab": {
          "base_uri": "https://localhost:8080/"
        },
        "id": "NzSme04FAF13",
        "outputId": "70efd749-9ad2-4ca6-a68c-b5c248533185"
      },
      "execution_count": null,
      "outputs": [
        {
          "output_type": "stream",
          "name": "stdout",
          "text": [
            "Red\n",
            "BMW\n"
          ]
        }
      ]
    },
    {
      "cell_type": "markdown",
      "source": [
        "### 1.4.4 Методы класса.\n",
        "#### Функции внутри класса называются методами. Определяют три основных группы:\n",
        "*  методы экземпляра класса; \n",
        "*  статические методы; \n",
        "*  методы класса"
      ],
      "metadata": {
        "id": "4Eq6mkarBryb"
      }
    },
    {
      "cell_type": "markdown",
      "source": [
        "#### 1.4.4.1 Методы экземпляра класса.\n",
        "##### Это группа методов, которые становятся доступны только после создания экземпляра класса, то есть чтобы вызвать такой метод, надо обратиться к экземпляру. Как следствие – первым параметром такого метода является слово self. С помощью данного параметра в метод передается ссылка на объект класса, для которого он был вызван. "
      ],
      "metadata": {
        "id": "t48lO4IiCSDv"
      }
    },
    {
      "cell_type": "code",
      "source": [
        "class Car:\n",
        "  def __init__(self, color, model):\n",
        "    self.color = color\n",
        "    self.model = model\n",
        "\n",
        "# Методы экземпляра класса \n",
        "# Первый параметр метода - self \n",
        "  def check_sim(self, country):\n",
        "    if self.model == 'BMW' and country == 'Germany':\n",
        "      print('Your car is good')\n",
        "    else:\n",
        "      print('Your car not as good, as it possible')\n",
        "\n",
        "a = Car('Red', 'BMW')\n",
        "a.check_sim('Germany')"
      ],
      "metadata": {
        "colab": {
          "base_uri": "https://localhost:8080/"
        },
        "id": "NA1xEOZ_Cpno",
        "outputId": "e94e209c-3fb3-4abc-b231-d07c970a2a69"
      },
      "execution_count": null,
      "outputs": [
        {
          "output_type": "stream",
          "name": "stdout",
          "text": [
            "Your car is good\n"
          ]
        }
      ]
    },
    {
      "cell_type": "markdown",
      "source": [
        "#### 1.4.4.2 Статистические методы.\n",
        "##### Статические методы – это функции, которые помещены в класс и располагаются в области видимости этого класса. Особенность заключается в том, что данные методы можно вызывать посредством обращения к имени класса, создавать объект класса при этом не обязательно. В таких методах не используется self – этому методу не важна информация об объектах класса. Чтобы создать статический метод в Python, необходимо воспользоваться специальным декоратором - @staticmethod."
      ],
      "metadata": {
        "id": "fgSYrN4UD7r7"
      }
    },
    {
      "cell_type": "code",
      "source": [
        "import hashlib\n",
        "class Car:\n",
        "# Статический метод справочного характера \n",
        "# Возвращает хэш по номеру модели \n",
        "# self внутри метода отсутствует\n",
        "  @staticmethod\n",
        "  def model_hash(model):\n",
        "    if model == 'BMW':\n",
        "      return 'the machine series is not defined in'\n",
        "    elif model == 'BMW X6':\n",
        "      return hash(model)\n",
        "    else:\n",
        "      return 'The manufacturer is not defined'\n",
        "  def check_model(self, model):\n",
        "    pass\n",
        "\n",
        "a = Car()\n",
        "print(a.check_model('X6'))\n",
        "print(a.model_hash('BMW X6'))"
      ],
      "metadata": {
        "colab": {
          "base_uri": "https://localhost:8080/"
        },
        "id": "JE4TFvxGEOpH",
        "outputId": "a678b48c-8d94-4fbc-dc0e-82d092a7cda0"
      },
      "execution_count": null,
      "outputs": [
        {
          "output_type": "stream",
          "name": "stdout",
          "text": [
            "None\n",
            "4288876981992206467\n"
          ]
        }
      ]
    },
    {
      "cell_type": "markdown",
      "source": [
        "#### 1.4.4.3 Методы класса\n",
        "##### Методы класса являются средним между обычными методами (привязаны к объекту) и статическими методами (привязаны только к области видимости). Такие методы могут менять состояние самого класса, что в свою очередь отражается на ВСЕХ экземплярах данного класса. При этом менять конкретный объект класса они не могут (этим занимаются методы экземпляра класса). Чтобы создать метод класса, необходимо воспользоваться соответствующим декоратором - @ assmethod. При этом в качестве первого параметра такого метода передается служебное слово cls, которое в отличие от self является ссылкой на сам класс (а не на объект). "
      ],
      "metadata": {
        "id": "bw7PeQCQF_-H"
      }
    },
    {
      "cell_type": "code",
      "source": [
        "class Car:\n",
        "  def __init__(self, color, model):\n",
        "    self.color = color\n",
        "    self.model = model\n",
        "    self.price = price\n",
        "# Метод класса \n",
        "# Принимает 1) ссылку на класс Car и 2) цвет в качестве параметров \n",
        "# Создает специфический объект класса Car(особенность объекта в том,\n",
        "# что это модель от завода изготовителя) \n",
        "# При этом вызывается инициализатор класса Car \n",
        "# которому в качестве аргументов передается цвет и модель, \n",
        "# соответствующую оригинальной машины \n",
        "  @classmethod \n",
        "  def origin_car(cls, color): \n",
        "    origin_car = cls(color, 'Origin Car from Germany', None) \n",
        "    return origin_car \n",
        "\n",
        "# Статический метод \n",
        "  @staticmethod\n",
        "  def model_hash(model): \n",
        "    if model == 'BMW': \n",
        "      return 'the machine series is not defined in' \n",
        "    elif model == 'BMW X6': \n",
        "      return hash(model) \n",
        "    else: \n",
        "      return 'The manufacturer is not defined' \n",
        "\n",
        "# Обычный метод \n",
        "  def check_model(self, model): \n",
        "    pass \n"
      ],
      "metadata": {
        "id": "P95tyTpVGgN0"
      },
      "execution_count": null,
      "outputs": []
    },
    {
      "cell_type": "markdown",
      "source": [
        "### 1.4.5 Метод __init __().\n",
        "#### Метод класса __init __() – специальный метод, который при создании экземпляра класса автоматически создает ему атрибуты (указывается два нижних подчеркивания слева и справа). Синтаксис: \n",
        "    def __init __(self [, список передаваемых аргументов]):\n",
        "      self.имя_аргумента=передаваемый аргумент(значение) \n",
        "#### При этом некоторые аргументы можно задать по умолчанию. Тогда в случае отсутствия значения аргумента его значение будет установлено по умолчанию. \n",
        "#### Использование ссылки на экземпляр класса позволяет на основе уже существующего экземпляра создать новый экземпляр класса простым присвоением. "
      ],
      "metadata": {
        "id": "JVjXHOnSItwj"
      }
    },
    {
      "cell_type": "code",
      "source": [
        "class student: \n",
        "  def __init__(self, kurs, idl): \n",
        "    self.kurs = kurs \n",
        "    self.id =idl\n",
        "\n",
        "idl = input(' Введите идентификатор студента: ') \n",
        "kurs = input(' Введите курс студента : ') \n",
        "studentl = student ( kurs, idl ) # создание экземпляра \n",
        "print ('Курс :', studentl.kurs, studentl.id, sep = ' ') \n",
        "student2 = studentl \n",
        "idl = input(' В ведите идентификатор 2-го студента: ') \n",
        "student2.id =idl \n",
        "print('Курс: 1', studentl.kurs, studentl.id, sep = ' ') \n",
        "kurs=input( 'Введите новый курс студентов: ') \n",
        "studentl.kurs = kurs \n",
        "print('Новый курс : ', studentl.kurs , 'Идентификатор:', studentl.id, sep = ' ') \n",
        "print('Новый курс : ', student2.kurs, 'Идентификато2р:', student2.id, sep = ' ') "
      ],
      "metadata": {
        "colab": {
          "base_uri": "https://localhost:8080/"
        },
        "id": "xzxMJ4JWJK8y",
        "outputId": "c12a7cab-5985-4b9f-abc6-e7d8e7fdf280"
      },
      "execution_count": null,
      "outputs": [
        {
          "output_type": "stream",
          "name": "stdout",
          "text": [
            " Введите идентификатор студента: 1\n",
            " Введите курс студента : 1\n",
            "Курс : 1 1\n",
            " В ведите идентификатор 2-го студента: 2\n",
            "Курс: 1 1 2\n",
            "Введите новый курс студентов: 2\n",
            "Новый курс :  2 Идентификатор: 2\n",
            "Новый курс :  2 Идентификато2р: 2\n"
          ]
        }
      ]
    },
    {
      "cell_type": "markdown",
      "source": [
        "#### Пример Класс Consumer \n",
        "##### Создать класс Потребитель (Customer). с атрибутом достатка, в котором хранится текущее материальное состояние (данные) потребителя, метод заработка, где метод заработка (y) увеличивает достаток потребителя на y, метод расходов, где трата (x) либо уменьшает достаток на x, либо возвращается значение ошибка, если недостаточно средств."
      ],
      "metadata": {
        "id": "wrkhTPQ3KNtQ"
      }
    },
    {
      "cell_type": "code",
      "source": [
        "def earn(w, y): \n",
        "  \"Потребитель с первоначальным достатком w зарабатывает y\" \n",
        "  return w+y \n",
        "def spend(w, x): \n",
        "  \" Потребитель с начальным достатком w тратит x \" \n",
        "  new_wealth = w -x \n",
        "  if new_wealth < 0: \n",
        "    print(\"Insufficient funds\") \n",
        "  else: \n",
        "    return new_wealth"
      ],
      "metadata": {
        "id": "UhZzDxZ4KdNa"
      },
      "execution_count": null,
      "outputs": []
    },
    {
      "cell_type": "markdown",
      "source": [
        "##### Функция earn берет текущий достаток потребителя w и добавляет к нему его текущий заработок y. Функция spend берет текущий достаток потребителя w и вычитает из него его текущие расходы x. Эти функции позволяют отслеживать достаток потребителя, когда он зарабатывает и тратит. "
      ],
      "metadata": {
        "id": "GAbNBhy-LOIt"
      }
    },
    {
      "cell_type": "code",
      "source": [
        "w0=100\n",
        "w1=earn(w0,10)\n",
        "w2=spend(w1,20)\n",
        "w3=earn(w2,10)\n",
        "w4=spend(w3,20)\n",
        "print(\"w0,w1,w2,w3,w4 = \", w0,w1,w2,w3,w4) \n",
        "\n",
        "w5 = spend(w4, 90)\n",
        "     "
      ],
      "metadata": {
        "colab": {
          "base_uri": "https://localhost:8080/"
        },
        "id": "i_btN73ZKvsh",
        "outputId": "96a1a3ab-13a0-46f9-d947-f1f14c0d7a73"
      },
      "execution_count": null,
      "outputs": [
        {
          "output_type": "stream",
          "name": "stdout",
          "text": [
            "w0,w1,w2,w3,w4 =  100 110 90 100 80\n",
            "Insufficient funds\n"
          ]
        }
      ]
    },
    {
      "cell_type": "markdown",
      "source": [
        "  ##### Класс объединяет набор данных, привязанных к конкретному экземпляру, вместе с набором функций, которые работают с данными. В примере экземпляром будет имя конкретного человека, чьи данные экземпляра состоят исключительно из его достатка. (В других примерах данные экземпляра будут состоять из вектора данных). В данном примере к текущим данным экземпляра можно применить две функции: earn и spend. В совокупности данные экземпляра и функции называются методами. К ним можно легко получить доступ способами, которые мы сейчас опишем. \n",
        "  ##### Класс Consumer создается с целью помочь усвоить специфический синтаксис при создании классов на языке Python."
      ],
      "metadata": {
        "id": "jJzEATf_LfEc"
      }
    },
    {
      "cell_type": "code",
      "source": [
        "class Consumer: \n",
        "  def __init__(self, w): \n",
        "    \"Initialize consumer with w dollars of wealth\" \n",
        "    self.wealth = w \n",
        "  def earn(self, y): \n",
        "    \"The consumer earns y dollars\" \n",
        "    self.wealth += y \n",
        "  def spend(self, x): \n",
        "    \"The consumer spends x dollars if feasible\" \n",
        "    new_wealth = self.wealth - x \n",
        "    if new_wealth < 0:\n",
        "      print(\"Insufficent funds\") \n",
        "    else: \n",
        "      self.wealth = new_wealth "
      ],
      "metadata": {
        "id": "hXsGZD2qL9l6"
      },
      "execution_count": null,
      "outputs": []
    },
    {
      "cell_type": "markdown",
      "source": [
        "##### Достаток – это данные экземпляра, потому что каждый созданный потребитель (каждый экземпляр класса Consumer) будет иметь свои собственные данные о достатке. Методы earn и spend реализовывают функции, которые описаны ранее, и которые потенциально могут быть применены к данным экземпляра достатка. Метод __init__ является методом конструктора. Всякий раз, когда создается экземпляр класса, метод __init_ будет вызываться автоматически. Вызов __init__ устанавливает \"пространство имен\" для хранения данных экземпляра. Рассмотрим использование класса Consumer для создания экземпляра потребителя, которого назовем c1. После того, как создан потребитель c1 и присвоен ему начальный условный достаток 10, применяется метод earn."
      ],
      "metadata": {
        "id": "d48dMK6BNuIC"
      }
    },
    {
      "cell_type": "code",
      "source": [
        "c1 = Consumer(10) # Create instance with initial wealth \n",
        "10 \n",
        "c1.spend(5) \n",
        "print(\"c1 = \", c1.wealth) \n",
        "c1.earn(15) \n",
        "print(\"c1 = \", c1.wealth) \n",
        "c1.spend(100) \n",
        "print(\"c1 = \", c1.wealth) \n",
        "c1 = Consumer(10) \n",
        "c2 = Consumer(12) \n",
        "c2.spend(4) \n",
        "print(\"c1 = \", c1.wealth) \n",
        "c2.wealth \n",
        "print(\"c2 = \", c2.wealth) \n",
        "c1.__dict__ \n",
        "c2.__dict__ \n",
        "\n",
        "print(c1.__dict__)\n",
        "print(c2.__dict__)"
      ],
      "metadata": {
        "colab": {
          "base_uri": "https://localhost:8080/"
        },
        "id": "709i1whBMj2-",
        "outputId": "2572faa5-4788-4097-dca0-c05dc4ef4a8c"
      },
      "execution_count": null,
      "outputs": [
        {
          "output_type": "stream",
          "name": "stdout",
          "text": [
            "c1 =  5\n",
            "c1 =  20\n",
            "Insufficent funds\n",
            "c1 =  20\n",
            "c1 =  10\n",
            "c2 =  8\n",
            "{'wealth': 10}\n",
            "{'wealth': 8}\n"
          ]
        }
      ]
    },
    {
      "cell_type": "markdown",
      "source": [
        "### Правила использования self при создании класса:\n",
        "#### Когда идет обращение к атрибутам или установка новых, на самом деле просто изменяется словарь, поддерживаемый экземпляром.Если посмотреть на определение класса Consumer, увидим слово self в коде. Правила использования self при создании класса: \n",
        "*  любые данные экземпляра должны начинаться с обращения к служебному \n",
        "слову self. Например, метод wealth использует self.wealth, а не просто wealth; \n",
        "*  метод, определенный в коде, определяющем класс, должен иметь self в \n",
        "качестве первого аргумента, например, defear(self,y), а не просто defear(y); \n",
        "*  любой метод, на который ссылается класс, должен вызываться как \n",
        "self.method_name. \n",
        "#### Методы определяют сам класс и находятся внутри объекта класса, сформированного, когда интерпретатор читает определение класса. Эможно увидеть выполнив следующий фрагмент кода: \n",
        "    print(Consumer.__dict__) "
      ],
      "metadata": {
        "id": "dKsmPQ9FO-_i"
      }
    },
    {
      "cell_type": "code",
      "source": [
        "c1 = Consumer(10) \n",
        "c1.earn(10) \n",
        "c1.wealth \n",
        "c1.__dict__"
      ],
      "metadata": {
        "colab": {
          "base_uri": "https://localhost:8080/"
        },
        "id": "pNg0NNjDP_cG",
        "outputId": "f0816c01-0bbb-4261-ec45-6ee53066e248"
      },
      "execution_count": null,
      "outputs": [
        {
          "output_type": "execute_result",
          "data": {
            "text/plain": [
              "{'wealth': 20}"
            ]
          },
          "metadata": {},
          "execution_count": 38
        }
      ]
    },
    {
      "cell_type": "code",
      "source": [
        "c1.earn(10) \n",
        "Consumer.earn(c1, 10)"
      ],
      "metadata": {
        "id": "g9bgTozLQStH"
      },
      "execution_count": null,
      "outputs": []
    },
    {
      "cell_type": "code",
      "source": [
        "def earn(self, y): \n",
        " \"The consumer earns y dollars\" \n",
        " self.wealth += y"
      ],
      "metadata": {
        "id": "vQsDJyaMQ3DC"
      },
      "execution_count": 39,
      "outputs": []
    },
    {
      "cell_type": "markdown",
      "source": [
        "### Пример Модель роста Солоу \n",
        "#### Модель роста Солоу [7], разработанная лауреатом Нобелевской премии экономистом Робертом Солоу, была первой неоклассической моделью роста и была построена на кейнсианской модели Харрода-Домара [8]. Модель Солоу является основой современной теории экономического роста. Определим простой класс для реализации модели роста Солоу. Модель роста Солоу – это неоклассическая модель роста, в которой основной капитал на душу населения k_t изменяется по правилу: \n",
        "k_{t+1} = [(s z k^α_t) + (1 - δ)k_t] /(1 + n) . (1.1) \n",
        "s – заданная норма сбережений, \n",
        "z – параметр производительности, \n",
        "\\alpha – доля капитала в доходе, \n",
        "n – темпы роста населения, \n",
        "\\delta – норма амортизации. \n",
        "#### Стационарное состояние модели – это k, которое имеет решения при условии: k_{t+1} = k_t = k. "
      ],
      "metadata": {
        "id": "ovazeOpzRHj4"
      }
    },
    {
      "cell_type": "code",
      "source": [
        "class Solow: \n",
        " #\"\"\" \n",
        " #Реализует модель роста Солоу с правилом обновления \n",
        " # k_{t+1} = [(s z k^α_t) + (1 - δ)k_t] /(1 + n) \n",
        " \n",
        "  def __init__(self, n=0.05, # темпы прироста населения \n",
        "                     s=0.25, # норма сбережений \n",
        "                     δ=0.1, # норма амортизации \n",
        "                     α=0.3, # доля рабочей силы \n",
        "                     z=2.0, # производительность \n",
        "                     k=1.0): # текущий основной капитал \n",
        "    self.n, self.s, self.δ, self.α, self.z = n, s, δ, α, z \n",
        "    self.k = k \n",
        "  def h(self): \n",
        "    print(\" Оценка функции h\") \n",
        " # Распаковка параметров \n",
        " #(избавляемся от self для упрощения обозначения) \n",
        "    n, s, δ, α, z = self.n, self.s, self.δ, self.α, self.z \n",
        " # обновляем на выходе h \n",
        "    return (s * z * self.k**α + (1 - δ) * self.k) / (1 + n) \n",
        "  def update(self): \n",
        "    print(\" Обновляем состояние (основной капитал).\") \n",
        "    self.k = self.h() \n",
        "  def steady_state(self): \n",
        "    print(\" Вычисляем устойчивую стоимость капитала.\") \n",
        " #(избавляемся от self для упрощения обозначения) \n",
        "    n, s, δ, α, z = self.n, self.s, self.δ, self.α, self.z \n",
        " # Вычисление и возврат устойчивого состояния \n",
        "    return ((s * z) / (n + δ))**(1 / (1 - α)) \n",
        "  def generate_sequence(self, t): \n",
        "    print(\"Генерация и возврат временного ряда\") \n",
        "    path = [] \n",
        "    for i in range(t): \n",
        "      path.append(self.k) \n",
        "      self.update() \n",
        "    return path"
      ],
      "metadata": {
        "id": "Zxk6J8FkRh1O"
      },
      "execution_count": 41,
      "outputs": []
    },
    {
      "cell_type": "markdown",
      "source": [
        "####Экземпляр ведет запись своего текущего основного капитала в переменной self.k. Метод h реализует правую часть уравнения 1.1. Метод update использует h для обновления капитала в соответствии с уравнением k_{t+1} = k_t. Обратите внимание, что внутри update ссылка на локальный метод h – это self.h."
      ],
      "metadata": {
        "id": "yUX7xqDWTzeY"
      }
    },
    {
      "cell_type": "code",
      "source": [
        "import matplotlib.pyplot as plt\n",
        "\n",
        "s1 = Solow()\n",
        "s2 = Solow(k=8.0)\n",
        "T = 60\n",
        "fig, ax = plt.subplots(figsize=(9, 6))\n",
        "\n",
        "# Построение графика общей установившейся стоимости капитала\n",
        "ax.plot([s1.steady_state()]*T, 'k-', label='устойчивое состояние')\n",
        "\n",
        "# Построение временных рядов для каждой экономики\n",
        "for s in s1, s2:\n",
        "    lb = f' основной ряд от первоначального состояния {s.k}'\n",
        "    ax.plot(s.generate_sequence(T), 'o-', lw=2, alpha=0.6, label=lb)\n",
        "ax.set_xlabel('', fontsize=14)\n",
        "ax.set_ylabel('', fontsize=14)\n",
        "ax.legend()\n",
        "plt.show()"
      ],
      "metadata": {
        "colab": {
          "base_uri": "https://localhost:8080/",
          "height": 1000
        },
        "id": "jpyNpkNwS8Ed",
        "outputId": "e06f253f-7398-435d-b656-1f68dcc9d7e9"
      },
      "execution_count": 43,
      "outputs": [
        {
          "output_type": "stream",
          "name": "stdout",
          "text": [
            " Вычисляем устойчивую стоимость капитала.\n",
            "Генерация и возврат временного ряда\n",
            " Обновляем состояние (основной капитал).\n",
            " Оценка функции h\n",
            " Обновляем состояние (основной капитал).\n",
            " Оценка функции h\n",
            " Обновляем состояние (основной капитал).\n",
            " Оценка функции h\n",
            " Обновляем состояние (основной капитал).\n",
            " Оценка функции h\n",
            " Обновляем состояние (основной капитал).\n",
            " Оценка функции h\n",
            " Обновляем состояние (основной капитал).\n",
            " Оценка функции h\n",
            " Обновляем состояние (основной капитал).\n",
            " Оценка функции h\n",
            " Обновляем состояние (основной капитал).\n",
            " Оценка функции h\n",
            " Обновляем состояние (основной капитал).\n",
            " Оценка функции h\n",
            " Обновляем состояние (основной капитал).\n",
            " Оценка функции h\n",
            " Обновляем состояние (основной капитал).\n",
            " Оценка функции h\n",
            " Обновляем состояние (основной капитал).\n",
            " Оценка функции h\n",
            " Обновляем состояние (основной капитал).\n",
            " Оценка функции h\n",
            " Обновляем состояние (основной капитал).\n",
            " Оценка функции h\n",
            " Обновляем состояние (основной капитал).\n",
            " Оценка функции h\n",
            " Обновляем состояние (основной капитал).\n",
            " Оценка функции h\n",
            " Обновляем состояние (основной капитал).\n",
            " Оценка функции h\n",
            " Обновляем состояние (основной капитал).\n",
            " Оценка функции h\n",
            " Обновляем состояние (основной капитал).\n",
            " Оценка функции h\n",
            " Обновляем состояние (основной капитал).\n",
            " Оценка функции h\n",
            " Обновляем состояние (основной капитал).\n",
            " Оценка функции h\n",
            " Обновляем состояние (основной капитал).\n",
            " Оценка функции h\n",
            " Обновляем состояние (основной капитал).\n",
            " Оценка функции h\n",
            " Обновляем состояние (основной капитал).\n",
            " Оценка функции h\n",
            " Обновляем состояние (основной капитал).\n",
            " Оценка функции h\n",
            " Обновляем состояние (основной капитал).\n",
            " Оценка функции h\n",
            " Обновляем состояние (основной капитал).\n",
            " Оценка функции h\n",
            " Обновляем состояние (основной капитал).\n",
            " Оценка функции h\n",
            " Обновляем состояние (основной капитал).\n",
            " Оценка функции h\n",
            " Обновляем состояние (основной капитал).\n",
            " Оценка функции h\n",
            " Обновляем состояние (основной капитал).\n",
            " Оценка функции h\n",
            " Обновляем состояние (основной капитал).\n",
            " Оценка функции h\n",
            " Обновляем состояние (основной капитал).\n",
            " Оценка функции h\n",
            " Обновляем состояние (основной капитал).\n",
            " Оценка функции h\n",
            " Обновляем состояние (основной капитал).\n",
            " Оценка функции h\n",
            " Обновляем состояние (основной капитал).\n",
            " Оценка функции h\n",
            " Обновляем состояние (основной капитал).\n",
            " Оценка функции h\n",
            " Обновляем состояние (основной капитал).\n",
            " Оценка функции h\n",
            " Обновляем состояние (основной капитал).\n",
            " Оценка функции h\n",
            " Обновляем состояние (основной капитал).\n",
            " Оценка функции h\n",
            " Обновляем состояние (основной капитал).\n",
            " Оценка функции h\n",
            " Обновляем состояние (основной капитал).\n",
            " Оценка функции h\n",
            " Обновляем состояние (основной капитал).\n",
            " Оценка функции h\n",
            " Обновляем состояние (основной капитал).\n",
            " Оценка функции h\n",
            " Обновляем состояние (основной капитал).\n",
            " Оценка функции h\n",
            " Обновляем состояние (основной капитал).\n",
            " Оценка функции h\n",
            " Обновляем состояние (основной капитал).\n",
            " Оценка функции h\n",
            " Обновляем состояние (основной капитал).\n",
            " Оценка функции h\n",
            " Обновляем состояние (основной капитал).\n",
            " Оценка функции h\n",
            " Обновляем состояние (основной капитал).\n",
            " Оценка функции h\n",
            " Обновляем состояние (основной капитал).\n",
            " Оценка функции h\n",
            " Обновляем состояние (основной капитал).\n",
            " Оценка функции h\n",
            " Обновляем состояние (основной капитал).\n",
            " Оценка функции h\n",
            " Обновляем состояние (основной капитал).\n",
            " Оценка функции h\n",
            " Обновляем состояние (основной капитал).\n",
            " Оценка функции h\n",
            " Обновляем состояние (основной капитал).\n",
            " Оценка функции h\n",
            " Обновляем состояние (основной капитал).\n",
            " Оценка функции h\n",
            " Обновляем состояние (основной капитал).\n",
            " Оценка функции h\n",
            " Обновляем состояние (основной капитал).\n",
            " Оценка функции h\n",
            " Обновляем состояние (основной капитал).\n",
            " Оценка функции h\n",
            "Генерация и возврат временного ряда\n",
            " Обновляем состояние (основной капитал).\n",
            " Оценка функции h\n",
            " Обновляем состояние (основной капитал).\n",
            " Оценка функции h\n",
            " Обновляем состояние (основной капитал).\n",
            " Оценка функции h\n",
            " Обновляем состояние (основной капитал).\n",
            " Оценка функции h\n",
            " Обновляем состояние (основной капитал).\n",
            " Оценка функции h\n",
            " Обновляем состояние (основной капитал).\n",
            " Оценка функции h\n",
            " Обновляем состояние (основной капитал).\n",
            " Оценка функции h\n",
            " Обновляем состояние (основной капитал).\n",
            " Оценка функции h\n",
            " Обновляем состояние (основной капитал).\n",
            " Оценка функции h\n",
            " Обновляем состояние (основной капитал).\n",
            " Оценка функции h\n",
            " Обновляем состояние (основной капитал).\n",
            " Оценка функции h\n",
            " Обновляем состояние (основной капитал).\n",
            " Оценка функции h\n",
            " Обновляем состояние (основной капитал).\n",
            " Оценка функции h\n",
            " Обновляем состояние (основной капитал).\n",
            " Оценка функции h\n",
            " Обновляем состояние (основной капитал).\n",
            " Оценка функции h\n",
            " Обновляем состояние (основной капитал).\n",
            " Оценка функции h\n",
            " Обновляем состояние (основной капитал).\n",
            " Оценка функции h\n",
            " Обновляем состояние (основной капитал).\n",
            " Оценка функции h\n",
            " Обновляем состояние (основной капитал).\n",
            " Оценка функции h\n",
            " Обновляем состояние (основной капитал).\n",
            " Оценка функции h\n",
            " Обновляем состояние (основной капитал).\n",
            " Оценка функции h\n",
            " Обновляем состояние (основной капитал).\n",
            " Оценка функции h\n",
            " Обновляем состояние (основной капитал).\n",
            " Оценка функции h\n",
            " Обновляем состояние (основной капитал).\n",
            " Оценка функции h\n",
            " Обновляем состояние (основной капитал).\n",
            " Оценка функции h\n",
            " Обновляем состояние (основной капитал).\n",
            " Оценка функции h\n",
            " Обновляем состояние (основной капитал).\n",
            " Оценка функции h\n",
            " Обновляем состояние (основной капитал).\n",
            " Оценка функции h\n",
            " Обновляем состояние (основной капитал).\n",
            " Оценка функции h\n",
            " Обновляем состояние (основной капитал).\n",
            " Оценка функции h\n",
            " Обновляем состояние (основной капитал).\n",
            " Оценка функции h\n",
            " Обновляем состояние (основной капитал).\n",
            " Оценка функции h\n",
            " Обновляем состояние (основной капитал).\n",
            " Оценка функции h\n",
            " Обновляем состояние (основной капитал).\n",
            " Оценка функции h\n",
            " Обновляем состояние (основной капитал).\n",
            " Оценка функции h\n",
            " Обновляем состояние (основной капитал).\n",
            " Оценка функции h\n",
            " Обновляем состояние (основной капитал).\n",
            " Оценка функции h\n",
            " Обновляем состояние (основной капитал).\n",
            " Оценка функции h\n",
            " Обновляем состояние (основной капитал).\n",
            " Оценка функции h\n",
            " Обновляем состояние (основной капитал).\n",
            " Оценка функции h\n",
            " Обновляем состояние (основной капитал).\n",
            " Оценка функции h\n",
            " Обновляем состояние (основной капитал).\n",
            " Оценка функции h\n",
            " Обновляем состояние (основной капитал).\n",
            " Оценка функции h\n",
            " Обновляем состояние (основной капитал).\n",
            " Оценка функции h\n",
            " Обновляем состояние (основной капитал).\n",
            " Оценка функции h\n",
            " Обновляем состояние (основной капитал).\n",
            " Оценка функции h\n",
            " Обновляем состояние (основной капитал).\n",
            " Оценка функции h\n",
            " Обновляем состояние (основной капитал).\n",
            " Оценка функции h\n",
            " Обновляем состояние (основной капитал).\n",
            " Оценка функции h\n",
            " Обновляем состояние (основной капитал).\n",
            " Оценка функции h\n",
            " Обновляем состояние (основной капитал).\n",
            " Оценка функции h\n",
            " Обновляем состояние (основной капитал).\n",
            " Оценка функции h\n",
            " Обновляем состояние (основной капитал).\n",
            " Оценка функции h\n",
            " Обновляем состояние (основной капитал).\n",
            " Оценка функции h\n",
            " Обновляем состояние (основной капитал).\n",
            " Оценка функции h\n",
            " Обновляем состояние (основной капитал).\n",
            " Оценка функции h\n",
            " Обновляем состояние (основной капитал).\n",
            " Оценка функции h\n",
            " Обновляем состояние (основной капитал).\n",
            " Оценка функции h\n",
            " Обновляем состояние (основной капитал).\n",
            " Оценка функции h\n",
            " Обновляем состояние (основной капитал).\n",
            " Оценка функции h\n"
          ]
        },
        {
          "output_type": "display_data",
          "data": {
            "text/plain": [
              "<Figure size 648x432 with 1 Axes>"
            ],
            "image/png": "[encoded data removed]"
          },
          "metadata": {
            "needs_background": "light"
          }
        }
      ]
    },
    {
      "cell_type": "markdown",
      "source": [
        "### Пример Класс Market \n",
        "#### Определим класс для конкурентного рынка Market, на котором и покупатели, и продавцы являются участниками влияния формирования расценок на товары (состязательность спроса и предложения). Рынок состоит из следующих объектов: \n",
        "*  Линейная кривая спроса Q = a_d - b_d p.\n",
        "*  Линейная кривая предложения Q = a_z + b_z (p - t)\n",
        "\n",
        "p – цена, уплачиваемая покупателем, \n",
        "Q – количество товара, \n",
        "t – налог на единицу товара. \n",
        "#### Другие символы являются параметрами спроса и предложения. Класс Market предоставляет методы для вычисления различных процентных значений, включая конкурентную равновесную цену и количество, собранные налоговые поступления, излишки потребителей и излишки производителей. "
      ],
      "metadata": {
        "id": "KyjdKfXCTcNW"
      }
    },
    {
      "cell_type": "code",
      "source": [
        "from scipy.integrate import quad \n",
        "class Market: \n",
        "  def __init__(self, ad, bd, az, bz, tax): \n",
        "    \"\"\" \n",
        "    Настройка параметров рынка. Все параметры являются скалярами. \n",
        "    \"\"\" \n",
        "    self.ad, self.bd, self.az, self.bz, self.tax = ad, bd, az, bz, tax \n",
        "    if ad < az: \n",
        "      raise ValueError(' Недостаточный спрос.') \n",
        "  def price(self): \n",
        "    \" Расчет равновесной цены\" \n",
        "    return (self.ad - self.az + self.bz * self.tax) / (self.bd + self.bz) \n",
        "  def quantity(self): \n",
        "    \" Расчет равновесного количества\" \n",
        "    return self.ad - self.bd * self.price() \n",
        "  def consumer_surp(self): \n",
        "    \" Расчет потребительского излишка \" \n",
        "# == Расчет площадь при обнаружении функции потребления == # \n",
        "    integrand = lambda x: (self.ad / self.bd) - (1 / self.bd) * x \n",
        "    area, error = quad(integrand, 0, self.quantity()) \n",
        "    return area - self.price() * self.quantity() \n",
        "  def producer_surp(self): \n",
        "    \" Расчет излишка у производителя \" \n",
        "# == Расчет площади над обратной кривой предложения, исключая налог == # \n",
        "    integrand = lambda x: -(self.az / self.bz) + (1 / self.bz) * x \n",
        "    area, error = quad(integrand, 0, self.quantity()) \n",
        "    return (self.price() - self.tax) * self.quantity() - area \n",
        "  def taxrev(self): \n",
        "    \" Расчет налоговых поступлений \" \n",
        "    return self.tax * self.quantity() \n",
        "  def inverse_demand(self, x):\n",
        "    \" Расчет обратного спроса \" \n",
        "    return self.ad / self.bd - (1 / self.bd)* x \n",
        "  def inverse_supply(self, x): \n",
        "    \" Расчет обратной кривой предложения \" \n",
        "    return -(self.az / self.bz) + (1 / self.bz) * x + self.tax \n",
        "  def inverse_supply_no_tax(self, x): \n",
        "    \"Расчет обратной кривой предложения без налога \" \n",
        "    return -(self.az / self.bz) + (1 / self.bz) * x \n"
      ],
      "metadata": {
        "id": "mGI1zZXDUihx"
      },
      "execution_count": 46,
      "outputs": []
    },
    {
      "cell_type": "code",
      "source": [
        "baseline_params = 15, .5, -2, .5, 3\n",
        "m = Market(*baseline_params)\n",
        "print(\"равновесная цена = \", m.price())"
      ],
      "metadata": {
        "colab": {
          "base_uri": "https://localhost:8080/"
        },
        "id": "-MKFmjJ5V-e5",
        "outputId": "1c5da342-0c7b-478f-9f84-4576e7ae22bf"
      },
      "execution_count": 45,
      "outputs": [
        {
          "output_type": "stream",
          "name": "stdout",
          "text": [
            "равновесная цена =  18.5\n"
          ]
        }
      ]
    },
    {
      "cell_type": "code",
      "source": [
        "print(\"потребительский излишек = \", m.consumer_surp())"
      ],
      "metadata": {
        "colab": {
          "base_uri": "https://localhost:8080/"
        },
        "id": "Qi1kHX0PWHGs",
        "outputId": "9c6534de-0a6c-433d-a94c-a88c3153b5e8"
      },
      "execution_count": 47,
      "outputs": [
        {
          "output_type": "stream",
          "name": "stdout",
          "text": [
            "потребительский излишек =  33.0625\n"
          ]
        }
      ]
    },
    {
      "cell_type": "code",
      "source": [
        "import numpy as np\n",
        "# Исходные значения ad, bd, az, bz, tax\n",
        "baseline_params = 15, .5, -2, .5, 3\n",
        "m = Market(*baseline_params)\n",
        "q_max = m.quantity() * 2\n",
        "q_grid = np.linspace(0.0, q_max, 100)\n",
        "pd = m.inverse_demand(q_grid)\n",
        "ps = m.inverse_supply(q_grid)\n",
        "psno = m.inverse_supply_no_tax(q_grid)\n",
        "fig, ax = plt.subplots()\n",
        "ax.plot(q_grid, pd, lw=2, alpha=0.6, label='спрос')\n",
        "ax.plot(q_grid, ps, lw=2, alpha=0.6, label='предложение')\n",
        "ax.plot(q_grid, psno, '--k', lw=2, alpha=0.6, label='предложение без налогов')\n",
        "ax.set_xlabel('количество', fontsize=14)\n",
        "ax.set_xlim(0, q_max)\n",
        "ax.set_ylabel('цена', fontsize=14)\n",
        "ax.legend(loc='lower right', frameon=False, fontsize=14)\n",
        "plt.show()     "
      ],
      "metadata": {
        "colab": {
          "base_uri": "https://localhost:8080/",
          "height": 283
        },
        "id": "TjcJ0d9nWI16",
        "outputId": "1dbc977a-0569-41ca-ef8e-7693859294c1"
      },
      "execution_count": 48,
      "outputs": [
        {
          "output_type": "display_data",
          "data": {
            "text/plain": [
              "<Figure size 432x288 with 1 Axes>"
            ],
            "image/png": "[encoded data removed]"
          },
          "metadata": {
            "needs_background": "light"
          }
        }
      ]
    },
    {
      "cell_type": "code",
      "source": [
        "def deadw(m):\n",
        "    \" Вычисление безвозвратные потери для рынка m.\"\n",
        "    # == Создание аналогичный рынок без налогов == #\n",
        "    m_no_tax = Market(m.ad, m.bd, m.az, m.bz, 0)\n",
        "    # == Сравнение излишков разницы в доходности == #\n",
        "    surp1 = m_no_tax.consumer_surp() + m_no_tax.producer_surp()\n",
        "    surp2 = m.consumer_surp() + m.producer_surp() + m.taxrev()\n",
        "    return surp1 - surp2 \n",
        "\n",
        "baseline_params = 15, .5, -2, .5, 3\n",
        "m = Market(*baseline_params)\n",
        "deadw(m) # Безвозвратные потери"
      ],
      "metadata": {
        "colab": {
          "base_uri": "https://localhost:8080/"
        },
        "id": "V8zXAlizWMnD",
        "outputId": "f26e533e-13e0-4127-f2fd-61bd100b3854"
      },
      "execution_count": 49,
      "outputs": [
        {
          "output_type": "execute_result",
          "data": {
            "text/plain": [
              "1.125"
            ]
          },
          "metadata": {},
          "execution_count": 49
        }
      ]
    },
    {
      "cell_type": "markdown",
      "source": [
        "#### Следующая программа предоставляет функцию, которая принимает экземпляр Market в качестве параметра и вычисляет безвозвратные потери от введения налога. "
      ],
      "metadata": {
        "id": "_vwz1BEoW0J7"
      }
    },
    {
      "cell_type": "markdown",
      "source": [],
      "metadata": {
        "id": "ToooGbtiYJhA"
      }
    },
    {
      "cell_type": "code",
      "source": [
        "def deadw(m): \n",
        "  \" Вычисление безвозвратные потери для рынка m.\" \n",
        "# == Создание аналогичный рынок без налогов == # \n",
        "  m_no_tax = Market(m.ad, m.bd, m.az, m.bz, 0) \n",
        "# == Сравнение излишков разницы в доходности == # \n",
        "  surp1 = m_no_tax.consumer_surp() + m_no_tax.producer_surp() \n",
        "  surp2 = m.consumer_surp() + m.producer_surp() + m.taxrev() \n",
        "  return surp1 - surp2 "
      ],
      "metadata": {
        "id": "RMO_qrmoWSZg"
      },
      "execution_count": 50,
      "outputs": []
    },
    {
      "cell_type": "code",
      "source": [
        "baseline_params = 15, .5, -2, .5, 3 \n",
        "m = Market(*baseline_params) \n",
        "deadw(m) # Безвозвратные потери"
      ],
      "metadata": {
        "colab": {
          "base_uri": "https://localhost:8080/"
        },
        "id": "wcNpvQK9W5UV",
        "outputId": "0780f2c1-8032-4505-bddd-d891633a2504"
      },
      "execution_count": 51,
      "outputs": [
        {
          "output_type": "execute_result",
          "data": {
            "text/plain": [
              "1.125"
            ]
          },
          "metadata": {},
          "execution_count": 51
        }
      ]
    },
    {
      "cell_type": "markdown",
      "source": [
        "### Выводы к первому занятию \n",
        "#### В процедурном подходе основой программы является функция. Функции вызывают друг друга и при необходимости передают данные. В программе функции живут отдельно, данные – отдельно. Основной недостаток процедурного подхода – сложность создания и поддержки больших программ. Наличие сотен функций в таких проектах очень часто приводит к ошибкам и спагетти-коду. В основе объектно-ориентированного программирования лежит понятие объекта. Объект совмещает в себе и функции и данные. Основное преимущество ООП перед процедурным программированием - изоляция кода на уровне классов, что позволяет писать более простой и лаконичный код. При правильном проектировании в объектно-ориентированных моделях нет такого понятия, как глобальные данные. По этой причине в объектно-ориентированных системах обеспечивается высокая степень целостности данных. "
      ],
      "metadata": {
        "id": "WcvYTAr2XGDy"
      }
    },
    {
      "cell_type": "markdown",
      "source": [
        "## Проектирование \"сверху-вних\""
      ],
      "metadata": {
        "id": "ZILCBmnwXnjs"
      }
    },
    {
      "cell_type": "markdown",
      "source": [
        "### Шаг №1: Предположим, что известен фрагмент кода программы:"
      ],
      "metadata": {
        "id": "S_FadoZbXtAS"
      }
    },
    {
      "cell_type": "code",
      "source": [
        "def main():\n",
        "    salary = calculate_salary()\n",
        "    print(salary)\n",
        "if __name__ == \"__main__\":\n",
        "    main()"
      ],
      "metadata": {
        "id": "H_lgN5cvX4yp"
      },
      "execution_count": null,
      "outputs": []
    },
    {
      "cell_type": "markdown",
      "source": [
        "### Шаг №2: Работать код *не будет*, так как функция calculate_salary отсутствует. Добавим метод."
      ],
      "metadata": {
        "id": "MtDZuRP3YMbc"
      }
    },
    {
      "cell_type": "code",
      "source": [
        "def main():\n",
        "    salary = calculate_salary()\n",
        "    print(salary)\n",
        "def calculate_salary():\n",
        "    \"\"\"\n",
        "    Функция считает зарплату сотрудника ДПС, считывая исходные\n",
        "    данные с клавиатуры. \n",
        "    :returns: Зарплата сотрудника\n",
        "    .. todo:: Реализовать функцию\n",
        "\n",
        "    \"\"\"\n",
        "    pass\n",
        "if __name__ == \"__main__\":\n",
        "    main() \n"
      ],
      "metadata": {
        "id": "AJWLKKaEYXk0"
      },
      "execution_count": null,
      "outputs": []
    },
    {
      "cell_type": "markdown",
      "source": [
        "### Теперь код будет успешно выполняться, но сейчас функция ничего не делает. В документации к функции явно указано, что ее надо реализовать. Такая функция называется заглушкой и широко используется в практике программирования.\n",
        "\n",
        "### Шаг №3. Опишем реализацию функции. Предположим, что известен фрагмент кода программы, где написаны все необходимые функции, и определим calculate_salary так:"
      ],
      "metadata": {
        "id": "wPfoTHm4Yb76"
      }
    },
    {
      "cell_type": "code",
      "source": [
        "#Зарплата сотрудника\n",
        "\n",
        "def calculate_salary():\n",
        "    \"\"\"\n",
        "    Функция считает зарплату сотрудника ДПС, считывая исходные данные с\n",
        "    клавиатуры. \n",
        "    \"\"\"\n",
        "    sum_of_fines = 0\n",
        "    speed_of_car, number_of_car = read_data()\n",
        "    while not detect_chief(number_of_car):\n",
        "        if speed_of_car > 60:\n",
        "            sum_of_fines += calculate_fine(number_of_car)\n",
        "            speed_of_car, number_of_car = read_data()\n",
        "    return sum_of_fines"
      ],
      "metadata": {
        "id": "2aQHQ5UmYaqi"
      },
      "execution_count": null,
      "outputs": []
    },
    {
      "cell_type": "code",
      "source": [
        "def main():\n",
        "    salary = calculate_salary()\n",
        "    print(salary)\n",
        "def calculate_salary():\n",
        "    \n",
        "    # Считает зарплату сотрудника ДПС,\n",
        "    # считывая исходные данные с клавиатуры.\n",
        "    # Зарплата сотрудника\n",
        "\n",
        "    sum_of_fines = 0\n",
        "    speed_of_car, number_of_car = read_data()\n",
        "    while not detect_chief(number_of_car):\n",
        "        if speed_of_car > 60:\n",
        "            sum_of_fines += calculate_fine(number_of_car)\n",
        "            speed_of_car, number_of_car = read_data()\n",
        "    return sum_of_fines\n",
        "\n",
        "def read_data():\n",
        "\n",
        "    # Считывает следущую строку данных.\n",
        "    # tuple(int, str) - скорость, номер машины\n",
        "\n",
        "    data = input().split()\n",
        "    return int(data[0]), data[1]\n",
        "\n",
        "def detect_chief(number_of_car):\n",
        "    # Проверяет, принадлежит ли данный номер начальнику.\n",
        "    # number_of_car: номер автомобиля\n",
        "    # True, если номер принадлежит начальнику, иначе\n",
        "    # False\n",
        "    return number_of_car == \"A999AA\"\n",
        "\n",
        "def calculate_fine(number_of_car):\n",
        "    # Считает штраф для автомобиля с конкретным номером.\n",
        "    # number_of_car: номер автомобиля\n",
        "    # Целое число, размер штрафа\n",
        "    if is_super_number(number_of_car):\n",
        "        return 1000\n",
        "    elif is_good_number(number_of_car):\n",
        "        return 500\n",
        "    else:\n",
        "        return 100\n",
        "\n",
        "def is_super_number(number_of_car):\n",
        "\n",
        "    # Проверяет, является ли номер «золотым» (совпадение трёх цифр)\n",
        "    # number_of_car: номер автомобиля\n",
        "    # True, если номер «золотой», иначе False\n",
        "    return number_of_car[1] == number_of_car[2] == number_of_car[3]\n",
        "\n",
        "def is_good_number(number_of_car):\n",
        "\n",
        "    # Проверяет, является ли номер «серебряный» (совпадение двух цифр)\n",
        "    # number_of_car: номер автомобиля\n",
        "    # True, если номер «серебряный», иначе False\n",
        "\n",
        "    return number_of_car[1] == number_of_car[2] or \\\n",
        "            number_of_car[1] == number_of_car[3] or \\\n",
        "            number_of_car[2] == number_of_car[3]\n",
        "\n",
        "if __name__ == \"__main__\":\n",
        "    main()"
      ],
      "metadata": {
        "id": "Ln4-aI1qYsqz"
      },
      "execution_count": null,
      "outputs": []
    }
  ]
}