{
  "nbformat": 4,
  "nbformat_minor": 0,
  "metadata": {
    "colab": {
      "provenance": [],
      "authorship_tag": "ABX9TyONMLFNqIe5OW4MGp//e8/D",
      "include_colab_link": true
    },
    "kernelspec": {
      "name": "python3",
      "display_name": "Python 3"
    },
    "language_info": {
      "name": "python"
    }
  },
  "cells": [
    {
      "cell_type": "markdown",
      "metadata": {
        "id": "view-in-github",
        "colab_type": "text"
      },
      "source": [
        "<a href=\"https://colab.research.google.com/github/TyapkinaPA/TyapkinaPA_2semestr/blob/main/%D0%9B%D0%B0%D0%B1%D0%BE%D1%80%D0%B0%D1%82%D0%BE%D1%80%D0%BD%D0%B0%D1%8F%20%D1%80%D0%B0%D0%B1%D0%BE%D1%82%D0%B0.ipynb\" target=\"_parent\"><img src=\"https://colab.research.google.com/assets/colab-badge.svg\" alt=\"Open In Colab\"/></a>"
      ]
    },
    {
      "cell_type": "code",
      "execution_count": 30,
      "metadata": {
        "colab": {
          "base_uri": "https://localhost:8080/"
        },
        "id": "TR9zlLrLXrqt",
        "outputId": "2e7e91a0-6465-49c1-925f-93dd2f0cdc42"
      },
      "outputs": [
        {
          "output_type": "stream",
          "name": "stdout",
          "text": [
            "Кряква накормлен(а)\\(ы)!\n",
            "Голос вида 'Уточка' по имени Кряква звучит как КРЯЯ!\n",
            "-------\n",
            "Серый и Белый накормлен(а)\\(ы)!\n",
            "Голос вида 'Гуси' по имени Серый и Белый звучит как Га!\n",
            "-------\n",
            "Манька накормлен(а)\\(ы)!\n",
            "Голос вида 'Коровка' по имени Манька звучит как МУУУУУ!\n",
            "-------\n",
            "Барашек и Кудрявый накормлен(а)\\(ы)!\n",
            "Голос вида 'Овечки' по имени Барашек и Кудрявый звучит как МЕееее!\n",
            "-------\n",
            "Ко-Ко и Кукареку накормлен(а)\\(ы)!\n",
            "Голос вида 'Куры' по имени Ко-Ко и Кукареку звучит как Кудахтахтах!\n",
            "-------\n",
            "Рога и Копыта накормлен(а)\\(ы)!\n",
            "Голос вида 'Козы' по имени Рога и Копыта звучит как БЕееее!\n",
            "-------\n",
            "Надоили 10 литра(ов) молока у Коровки Манька\n",
            "-------\n",
            "Надоили 2 литра(ов) молока у Коз Рога и Копыта\n",
            "-------\n",
            "Состригли 6 кг шерсти с Овец Барашек и Кудрявый\n",
            "-------\n"
          ]
        }
      ],
      "source": [
        "class Animals:\n",
        "  def __init__(self, voice, name, vid):\n",
        "    self.name = name    # имя\n",
        "    self.voice = voice  # голос\n",
        "    self.vid = vid      # вид \n",
        "  def food(self):\n",
        "    print('{} накормлен(а)\\(ы)!'.format(self.name))\n",
        "\n",
        "  def govorit(self):\n",
        "    print(\"Голос вида '{}' по имени {} звучит как {}!\".format(self.vid, self.name, self.voice))\n",
        "\n",
        "# гусь\\ Серый и Белый\n",
        "# корова\\ Манька\n",
        "# овечки\\ Барашек и Кудрявый\n",
        "# курицы\\ Ко-Ко и Кукареку\n",
        "# козы\\ Рога и Копыта\n",
        "# утка\\ Кряква\n",
        "a = Animals('КРЯЯ', 'Кряква', 'Уточка')\n",
        "a.food()\n",
        "a.govorit()\n",
        "print('-' * 7)\n",
        "b = Animals('Га', 'Серый и Белый', 'Гуси')\n",
        "b.food()\n",
        "b.govorit()\n",
        "print('-' * 7)\n",
        "c = Animals('МУУУУУ', 'Манька', 'Коровка')\n",
        "c.food()\n",
        "c.govorit()\n",
        "print('-' * 7)\n",
        "d = Animals('МЕееее', 'Барашек и Кудрявый', 'Овечки')\n",
        "d.food()\n",
        "d.govorit()\n",
        "print('-' * 7)\n",
        "e = Animals('Кудахтахтах', 'Ко-Ко и Кукареку', 'Куры')\n",
        "e.food()\n",
        "e.govorit()\n",
        "print('-' * 7)\n",
        "f = Animals('БЕееее', 'Рога и Копыта', 'Козы')\n",
        "f.food()\n",
        "f.govorit()\n",
        "print('-' * 7)\n",
        "class WorkWithParnokopitnie(Animals):\n",
        "    def __init__(self, voise, name, vid):\n",
        "        super().__init__(voise, vid, name)\n",
        "    def GetMilk(self):\n",
        "        if self.vid == 'Коровки':\n",
        "          milk = 10  \n",
        "          print('Надоили {} литра(ов) молока у {} {}'.format(milk, self.vid, self.name))\n",
        "        else:\n",
        "          milk = 2  \n",
        "          print('Надоили {} литра(ов) молока у {} {}'.format(milk, self.vid, self.name))\n",
        "\n",
        "    def sherstb(self):\n",
        "        massa = 6\n",
        "        print('Состригли {} кг шерсти с {} {}'.format(massa, self.vid, self.name))\n",
        "\n",
        "g = WorkWithParnokopitnie('МУУУУ', 'Коровки', 'Манька')\n",
        "g.GetMilk()\n",
        "print('-' * 7)\n",
        "h = WorkWithParnokopitnie('БЕееее', 'Коз', 'Рога и Копыта')\n",
        "h.GetMilk()\n",
        "print('-' * 7)\n",
        "h = WorkWithParnokopitnie('МЕееее', 'Овец', 'Барашек и Кудрявый')\n",
        "h.sherstb()\n",
        "print('-' * 7)\n"
      ]
    }
  ]
}