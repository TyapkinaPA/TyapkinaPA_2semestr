{
  "nbformat": 4,
  "nbformat_minor": 0,
  "metadata": {
    "colab": {
      "provenance": [],
      "authorship_tag": "ABX9TyP4jIgkDy/ZKK7EG+uhFlBn",
      "include_colab_link": true
    },
    "kernelspec": {
      "name": "python3",
      "display_name": "Python 3"
    },
    "language_info": {
      "name": "python"
    }
  },
  "cells": [
    {
      "cell_type": "markdown",
      "metadata": {
        "id": "view-in-github",
        "colab_type": "text"
      },
      "source": [
        "<a href=\"https://colab.research.google.com/github/TyapkinaPA/TyapkinaPA_2semestr/blob/main/%D0%90%D0%BF%D1%80%D0%B5%D0%BB%D1%8C_4_%D0%BB%D0%B5%D0%BA%D1%86%D0%B8%D1%8F.ipynb\" target=\"_parent\"><img src=\"https://colab.research.google.com/assets/colab-badge.svg\" alt=\"Open In Colab\"/></a>"
      ]
    },
    {
      "cell_type": "markdown",
      "source": [
        "#Композиция\n",
        "противовес наследованию\n",
        "особенностью ооп является возможность реализовывать так называемый композиционный подход.\n",
        "наследование предполагает приндалежность к какой-то общности, а композиция - формирование цеого из частей.\n",
        "наследуются атрибуты, т.е. возможности другого класса, при этом объекты непосредственно родительского класса не создается\n",
        "при композиции - класс-агрегатор создает обхекты других классов.\n",
        "1. наследованиее представляется с помощью унифицированного языка моделирования\n",
        "\n",
        "*   классы, к-е наследуются от другого, назыв. производными классами, подклассами или подтипами\n",
        "*   классы, от к-х происходят другие классы, назыв. базовыми классами или суперклассами\n",
        "*   говорят, что прозводный класс наследует, наследует или расширяет базовый класс.\n",
        "принцип замещения Лискова - в компъютерной программе, если s является подтипом т, тогда объекты типы т могут быть заменены объектами типа s без изменения каких-либо желаемых свойств программы.\n",
        "композиция представляет собой концепцию, к-я моделирует имеет отношения. это позволяет создавать сложные типы, комбинируя объекты других типов. это означает, что класс Composite может содержать объект другого класса Component. это отношение означает, что у Composite  есть Component.\n",
        "UML представляет собой композицию.\n",
        "композиция позволяет повторно использовать код, добавляя объекты к другим объектам, в отличие от наследования интерфейса и реализации других классов.\n",
        "наследует, если:\n",
        "*  оба класса из одной предметной области\n",
        "*  наследник является корректным подтипом предка\n",
        "*  код предка необходим либо хорошо подходит для наследника\n",
        "*  наследник в основном добавляет логику\n",
        "*  в случае моделирования высоуковневой логики из предметной области\n",
        "*  при разработке библиотек и расширений для них\n",
        "\n",
        "*  в композиции класс, известный как составной, содержит объект другого класса, известного как компонентю\n",
        "*  композиция позволяет составным классам повторно использовать реализацию компонентов, которы он содержит \n",
        "*  составной класс не следует интерфейс класса компонентов, но может использовать реализацию\n",
        "\n",
        "\n"
      ],
      "metadata": {
        "id": "wwvoUUOtowmw"
      }
    },
    {
      "cell_type": "code",
      "execution_count": null,
      "metadata": {
        "id": "iqvvzjnecCQm"
      },
      "outputs": [],
      "source": [
        "class Win_Door:\n",
        "  def __init__(self, x, y):\n",
        "    self.square = x * y\n",
        "\n",
        "class Room:\n",
        "  def __init__(self, x, y, z):\n",
        "    self.square = 2 * z * (x + y)\n",
        "    self.wd = []\n",
        "  def addWD(self, w, h):\n",
        "    self.wd.append(Win_Door(w, h))\n",
        "  def workSurface(self):\n",
        "    new_square = self.square\n",
        "    for i in self.wd:\n",
        "      new_square -= i.square\n",
        "    return new_square"
      ]
    },
    {
      "cell_type": "code",
      "source": [
        "r1 = Room(6, 3, 2.7)\n",
        "print(r1.square)\n",
        "r1.addWD(1, 1)\n",
        "r1.addWD(1, 1)\n",
        "r1.addWD(1, 2)\n",
        "print(r1.workSurface())\n",
        "def oboi(self, d, sh):\n",
        "   pok_oboi = r1.workSurface() / (d * sh)\n"
      ],
      "metadata": {
        "colab": {
          "base_uri": "https://localhost:8080/",
          "height": 235
        },
        "id": "o7w35rSB03iV",
        "outputId": "e423831a-f04e-4f7e-8f27-aee94c104c21"
      },
      "execution_count": null,
      "outputs": [
        {
          "output_type": "stream",
          "name": "stdout",
          "text": [
            "48.6\n",
            "44.6\n"
          ]
        },
        {
          "output_type": "error",
          "ename": "TypeError",
          "evalue": "ignored",
          "traceback": [
            "\u001b[0;31m---------------------------------------------------------------------------\u001b[0m",
            "\u001b[0;31mTypeError\u001b[0m                                 Traceback (most recent call last)",
            "\u001b[0;32m<ipython-input-13-4b0f5a4ba928>\u001b[0m in \u001b[0;36m<cell line: 9>\u001b[0;34m()\u001b[0m\n\u001b[1;32m      7\u001b[0m \u001b[0;32mdef\u001b[0m \u001b[0moboi\u001b[0m\u001b[0;34m(\u001b[0m\u001b[0mself\u001b[0m\u001b[0;34m,\u001b[0m \u001b[0md\u001b[0m\u001b[0;34m,\u001b[0m \u001b[0msh\u001b[0m\u001b[0;34m)\u001b[0m\u001b[0;34m:\u001b[0m\u001b[0;34m\u001b[0m\u001b[0;34m\u001b[0m\u001b[0m\n\u001b[1;32m      8\u001b[0m    \u001b[0mpok_oboi\u001b[0m \u001b[0;34m=\u001b[0m \u001b[0mr1\u001b[0m\u001b[0;34m.\u001b[0m\u001b[0mworkSurface\u001b[0m\u001b[0;34m(\u001b[0m\u001b[0;34m)\u001b[0m \u001b[0;34m/\u001b[0m \u001b[0;34m(\u001b[0m\u001b[0md\u001b[0m \u001b[0;34m*\u001b[0m \u001b[0msh\u001b[0m\u001b[0;34m)\u001b[0m\u001b[0;34m\u001b[0m\u001b[0;34m\u001b[0m\u001b[0m\n\u001b[0;32m----> 9\u001b[0;31m \u001b[0mprint\u001b[0m\u001b[0;34m(\u001b[0m\u001b[0moboi\u001b[0m\u001b[0;34m(\u001b[0m\u001b[0;36m25\u001b[0m\u001b[0;34m,\u001b[0m \u001b[0;36m1.06\u001b[0m\u001b[0;34m)\u001b[0m\u001b[0;34m)\u001b[0m\u001b[0;34m\u001b[0m\u001b[0;34m\u001b[0m\u001b[0m\n\u001b[0m",
            "\u001b[0;31mTypeError\u001b[0m: oboi() missing 1 required positional argument: 'sh'"
          ]
        }
      ]
    },
    {
      "cell_type": "code",
      "source": [
        "# обои\n",
        "# ширина 1.06, длина 25\n",
        "print(44.6 / 26.5 + (44.6 % 26.5))"
      ],
      "metadata": {
        "colab": {
          "base_uri": "https://localhost:8080/"
        },
        "id": "--yDn4mK2nua",
        "outputId": "37aafd5c-5ec6-4d67-97a8-95891c6a5698"
      },
      "execution_count": null,
      "outputs": [
        {
          "output_type": "stream",
          "name": "stdout",
          "text": [
            "19.78301886792453\n"
          ]
        }
      ]
    }
  ]
}