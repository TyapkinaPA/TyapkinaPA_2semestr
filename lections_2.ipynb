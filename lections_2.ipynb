{
  "nbformat": 4,
  "nbformat_minor": 0,
  "metadata": {
    "colab": {
      "provenance": [],
      "authorship_tag": "ABX9TyOgesYH1q3rG3ralZQbAa97",
      "include_colab_link": true
    },
    "kernelspec": {
      "name": "python3",
      "display_name": "Python 3"
    },
    "language_info": {
      "name": "python"
    }
  },
  "cells": [
    {
      "cell_type": "markdown",
      "metadata": {
        "id": "view-in-github",
        "colab_type": "text"
      },
      "source": [
        "<a href=\"https://colab.research.google.com/github/TyapkinaPA/TyapkinaPA_2semestr/blob/main/lections_2.ipynb\" target=\"_parent\"><img src=\"https://colab.research.google.com/assets/colab-badge.svg\" alt=\"Open In Colab\"/></a>"
      ]
    },
    {
      "cell_type": "markdown",
      "source": [
        "## Парадигмы ООП. Наследования.\n",
        "### Парадигма наследования позволяет создавать сложные системы классов, избежать дублирования кода, упростить поддержку программ. При наследовании обычно говорят о классах-родителях и классах-потомках. У одного родительского класса может быте несколько классов-потомков, расширяющих функционал родительского класса. "
      ],
      "metadata": {
        "id": "lQ85T7baz9Qk"
      }
    },
    {
      "cell_type": "code",
      "execution_count": null,
      "metadata": {
        "id": "ScgiNpqoOb-V",
        "colab": {
          "base_uri": "https://localhost:8080/"
        },
        "outputId": "76e8daa5-9b8f-456e-9e44-a00344133cc4"
      },
      "outputs": [
        {
          "output_type": "stream",
          "name": "stdout",
          "text": [
            "Петр говорит\n",
            "Человек без имени говорит\n",
            "Елена говорит\n"
          ]
        }
      ],
      "source": [
        "class Person: \n",
        "  def __init__(self, nаmе='Человек без имени'): \n",
        "    self.nаmе = nаmе \n",
        "    self.age = 0 \n",
        "  def say(self): \n",
        "    print(\"{0} говорит\".format(self.nаmе)) \n",
        "# Person - родительский класс \n",
        "class Employee(Person):\n",
        "  def set_job(self, job_title='Безработный'): \n",
        "    self.job_title = job_title \n",
        "  def get_job(self): \n",
        "    print(self.job_title) \n",
        "class Customer(Person): \n",
        "  def set_email(self, email='Heт почты'): \n",
        "    self.email = email \n",
        "  def get_email(self): \n",
        "    print(self.email) \n",
        "# создаем человека с именем 'Петр': \n",
        "person = Person('Петр') \n",
        "# просим человека что-нибудь сказать: \n",
        "person.say() \n",
        "# создаем работника без имени: \n",
        "emp = Employee() \n",
        "emp.say() # метод наследовался из класса Person \n",
        "# хотим, чтобы в момент создания Employee \n",
        "# заполнялась должность \n",
        "cust = Customer('Елена') \n",
        "cust.say() \n",
        "# метод наследовался из класса Person \n",
        "# хотим, чтобы в момент создания Customer \n",
        "# заполнялась почта"
      ]
    },
    {
      "cell_type": "code",
      "source": [
        "class Person: \n",
        "  def __init__(self, name='Человек без имени'): \n",
        "    self.name = name \n",
        "    self.age = 0 \n",
        " \n",
        "  def say(self): \n",
        "    print(\"{0} говорит\".format(self.name)) \n",
        "\n",
        "class Employee(Person): \n",
        "# переопределяем конструктор: \n",
        "  def __init__(self, name): \n",
        "# вызываем конструктор базового класса: \n",
        "    Person.__init__(self) \n",
        "# определяем атрибут по умолчанию: \n",
        "    self.job_title = 'Безработный' \n",
        "  def set_job(self, job_title='Безработный'): \n",
        "    self.job_title = job_title \n",
        "  def get_job(self): \n",
        "    print(self.name, self.job_title) \n",
        " \n",
        "class Customer(Person): \n",
        "  def __init__(self, name): \n",
        "    Person.__init__(self) \n",
        "    self.email = 'Нет почты' \n",
        "  def set_email(self, email='Нет почты'): \n",
        "    self.email = email \n",
        "  def get_email(self): \n",
        "    print(self.name, self.email)\n",
        "\n",
        "person = Person('Иван') \n",
        "person.say() \n",
        "emp = Employee('Игорь') \n",
        "emp.say() \n",
        "emp.get_job() \n",
        "cust = Customer('Петр') \n",
        "cust.say() \n",
        "cust.get_email()"
      ],
      "metadata": {
        "colab": {
          "base_uri": "https://localhost:8080/"
        },
        "id": "qmCuOf6805hj",
        "outputId": "82efc498-7824-4a7d-f29d-4a367db016a5"
      },
      "execution_count": null,
      "outputs": [
        {
          "output_type": "stream",
          "name": "stdout",
          "text": [
            "Иван говорит\n",
            "Человек без имени говорит\n",
            "Человек без имени Безработный\n",
            "Человек без имени говорит\n",
            "Человек без имени Нет почты\n"
          ]
        }
      ]
    },
    {
      "cell_type": "markdown",
      "source": [
        "### Если язык программирования поддерживает множественное наследование, то у одного класса-потомка, может быть, несколько родительских классов. Язык Python поддерживает множественное наследование. Поля родительского класса при наследовании переходят к классу-потомку. Кроме того, поля родительского класса могут переопределены у потомка. "
      ],
      "metadata": {
        "id": "lCFu_J502lt9"
      }
    },
    {
      "cell_type": "code",
      "source": [
        "class A: \n",
        "  def some_function(self): \n",
        "    print(\"First function\")\n",
        "  def other_function(self): \n",
        "    print(\"Second function\") \n",
        "class B: \n",
        "  def method_in_B(self): \n",
        "    print(\"Third function\") \n",
        "class C(A): \n",
        "  def other_function(self): \n",
        "    print(\"Replaced function\") \n",
        "class D(B, C): \n",
        "  pass \n",
        "# Посмотрим все атрибуты класса, не являющиеся служебными \n",
        "print(\"A:\\t\", list(filter(lambda x: \"__\" not in x, dir(A)))) \n",
        "print(\"B:\\t\", list(filter(lambda x: \"__\" not in x, dir(B)))) \n",
        "print(\"C(A):\\t\", list(filter(lambda x: \"__\" not in x, \n",
        "dir(C)))) \n",
        "print(\"D(B,C):\\t\", list(filter(lambda x: \"__\" not in x, \n",
        "dir(D)))) \n",
        "print() \n",
        "# Посмотрим на реализацию функции в D \n",
        "d = D() \n",
        "d.method_in_B() \n",
        "d.some_function() \n",
        "d.other_function() \n",
        "print() \n"
      ],
      "metadata": {
        "colab": {
          "base_uri": "https://localhost:8080/"
        },
        "id": "dfE5yl6X3U1u",
        "outputId": "1ba3581c-33c8-457c-8040-ae51c7110445"
      },
      "execution_count": null,
      "outputs": [
        {
          "output_type": "stream",
          "name": "stdout",
          "text": [
            "A:\t ['other_function', 'some_function']\n",
            "B:\t ['method_in_B']\n",
            "C(A):\t ['other_function', 'some_function']\n",
            "D(B,C):\t ['method_in_B', 'other_function', 'some_function']\n",
            "\n",
            "Third function\n",
            "First function\n",
            "Replaced function\n",
            "\n"
          ]
        }
      ]
    },
    {
      "cell_type": "markdown",
      "source": [
        "### Наследование – одна из самых важных и мощных парадигм ООП. При наследовании мы оперируем такими понятиями, как родительский класс и класс потомок. Класс-потомок наследует методы и переменные, определенные в родительском классе. Рассмотрим на примере ниже. "
      ],
      "metadata": {
        "id": "q-KVVcLY36ip"
      }
    },
    {
      "cell_type": "code",
      "source": [
        "class A: \n",
        "  var_A = 1 \n",
        "  def method_A(self): \n",
        "    print(\"A\") \n",
        "class B(A): \n",
        "  var_B = 2 \n",
        "  def method_B(self): \n",
        "    print(\"B\") \n",
        "class C(B): \n",
        "  var_C = 3 \n",
        "  def method_C(self): \n",
        "    print(\"C\")\n",
        "print(\"A:\\t\", list(filter(lambda x: \"__\" not in x, \n",
        "dir(A)))) \n",
        "print(\"B(A):\\t\", list(filter(lambda x: \"__\" not in x, \n",
        "dir(B)))) \n",
        "print(\"C(B):\\t\", list(filter(lambda x: \"__\" not in x, \n",
        "dir(C)))) \n",
        "print() "
      ],
      "metadata": {
        "colab": {
          "base_uri": "https://localhost:8080/"
        },
        "id": "zpjHN9654DIF",
        "outputId": "5b8c5dc6-8c64-441a-cdd7-95eb97b37597"
      },
      "execution_count": null,
      "outputs": [
        {
          "output_type": "stream",
          "name": "stdout",
          "text": [
            "A:\t ['method_A', 'var_A']\n",
            "B(A):\t ['method_A', 'method_B', 'var_A', 'var_B']\n",
            "C(B):\t ['method_A', 'method_B', 'method_C', 'var_A', 'var_B', 'var_C']\n",
            "\n"
          ]
        }
      ]
    },
    {
      "cell_type": "markdown",
      "source": [
        "### При наследовании класс-потомок может переопределять методы и переменные родительского класса: \n"
      ],
      "metadata": {
        "id": "sHsBPxX04ZKQ"
      }
    },
    {
      "cell_type": "code",
      "source": [
        "class A: \n",
        "  value = 13 \n",
        "  def some_method(self): \n",
        "    print(f\"Method in A, value = {self.value}\") \n",
        "class B(A): \n",
        "  def some_method(self): \n",
        "    print(f\"Method in B, value = {self.value}\") \n",
        "class C(B): \n",
        "  value = 6 \n",
        "  def some_method(self): \n",
        "    print(f\"Method in C, value = {self.value}\") \n",
        "A().some_method() \n",
        "B().some_method() \n",
        "C().some_method() \n",
        "print() "
      ],
      "metadata": {
        "colab": {
          "base_uri": "https://localhost:8080/"
        },
        "id": "PiJWjpQt4iap",
        "outputId": "3fe57fbf-f289-4952-8c9a-92734a04534b"
      },
      "execution_count": null,
      "outputs": [
        {
          "output_type": "stream",
          "name": "stdout",
          "text": [
            "Method in A, value = 13\n",
            "Method in B, value = 13\n",
            "Method in C, value = 6\n",
            "\n"
          ]
        }
      ]
    },
    {
      "cell_type": "markdown",
      "source": [
        "### Множественное наследование позволяет получить доступ к атрибутам нескольких родительских классов. На примере ниже это продемонстрируем. "
      ],
      "metadata": {
        "id": "DFY3osw84vVw"
      }
    },
    {
      "cell_type": "code",
      "source": [
        "class A: \n",
        "  def some_function(self): \n",
        "    print(\"First function\") \n",
        "  def other_function(self): \n",
        "    print(\"Second function\") \n",
        "class B: \n",
        "  def method_in_B(self): \n",
        "    print(\"Third function\") \n",
        "class С(A, B): \n",
        "  pass \n",
        "# Посмотрим все атрибуты класса, не являющиеся служебными \n",
        "print(\"A:\\t\", list(filter(lambda x: \"__\" not in x, \n",
        "dir(A)))) \n",
        "print(\"B:\\t\", list(filter(lambda x: \"__\" not in x, \n",
        "dir(B)))) \n",
        "print(\"С(A,B):\\t\", list(filter(lambda x: \"__\" not in x, \n",
        "dir(С)))) \n",
        "print() "
      ],
      "metadata": {
        "colab": {
          "base_uri": "https://localhost:8080/"
        },
        "id": "fibxzJk940Tm",
        "outputId": "27404355-d97e-4a93-a781-d4cf153e8ca9"
      },
      "execution_count": null,
      "outputs": [
        {
          "output_type": "stream",
          "name": "stdout",
          "text": [
            "A:\t ['other_function', 'some_function']\n",
            "B:\t ['method_in_B']\n",
            "С(A,B):\t ['method_in_B', 'other_function', 'some_function']\n",
            "\n"
          ]
        }
      ]
    },
    {
      "cell_type": "markdown",
      "source": [
        "### Одна из проблем множественного наследования – Ромб Смерти.При этом класс-наследник не знает, какую из реализаций некоторого метода следует выбрать. Эта проблема решается при помощи виртуального наследования. При этом вместо наследования реализации метода в класс потомок передается ссылка на метод родительского класса. Однако, если классы потомки первого уровня оба переопределяют некоторый метод, все еще остается вопрос, какая из реализаций должна передаваться потомку второго уровня. Для этого в Python версии 2.3 и выше применяется механизм С3-линеаризации. "
      ],
      "metadata": {
        "id": "4LaUBdSX45nE"
      }
    }
  ]
}