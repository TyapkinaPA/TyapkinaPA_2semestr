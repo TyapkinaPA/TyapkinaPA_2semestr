{
  "nbformat": 4,
  "nbformat_minor": 0,
  "metadata": {
    "colab": {
      "provenance": [],
      "authorship_tag": "ABX9TyOCqtZ2xRiWWd/ZfhrE7Eyf",
      "include_colab_link": true
    },
    "kernelspec": {
      "name": "python3",
      "display_name": "Python 3"
    },
    "language_info": {
      "name": "python"
    }
  },
  "cells": [
    {
      "cell_type": "markdown",
      "metadata": {
        "id": "view-in-github",
        "colab_type": "text"
      },
      "source": [
        "<a href=\"https://colab.research.google.com/github/TyapkinaPA/TyapkinaPA_2semestr/blob/main/Lab_4.ipynb\" target=\"_parent\"><img src=\"https://colab.research.google.com/assets/colab-badge.svg\" alt=\"Open In Colab\"/></a>"
      ]
    },
    {
      "cell_type": "markdown",
      "source": [
        "# Упражнения для самостоятельного выполнения по теме «Полиморфизм» \n",
        "##Построить класс 1-го уровня с указанными в задании полями и методами: \n",
        "- конструктор, \n",
        "- функция, которая определяет “качество” (Q ) по заданной формуле, \n",
        "- вывод информации об объекте. \n",
        "## Построить класс-потомок, который содержит дополнительное поле P и перекрывает функцию качества (Q ), выполняя вычисление по новой формуле (Qp). Варианты заданий представлены в таблице 4.1.\n",
        "\n",
        "19. \n",
        "##Поля и функции(Q) класса 1-го уровня:\n",
        "Руководитель: \n",
        "- фамилия, \n",
        "- самооценка (в баллах - целое число), \n",
        "- оценка другими людьми (в баллах). \n",
        "Q = (оценка другими)/самооценка\n",
        "\n",
        "##Поле и функции(Qp) класса потомка:\n",
        "P: оценка потомками (в \n",
        "баллах) \n",
        "\n",
        "Qp = 0,3*Q + 0,7*Р "
      ],
      "metadata": {
        "id": "h1MvGDpm-6Z7"
      }
    },
    {
      "cell_type": "code",
      "execution_count": null,
      "metadata": {
        "id": "tH1QumRi-2tC"
      },
      "outputs": [],
      "source": [
        "class Leader:\n",
        "    def __init__(self, last_name, self_evaluation, others_evaluation):\n",
        "        self.last_name = last_name\n",
        "        self.self_evaluation = self_evaluation\n",
        "        self.others_evaluation = others_evaluation\n",
        "    \n",
        "    def quality(self):\n",
        "        return self.others_evaluation/self.self_evaluation\n",
        "    \n",
        "    def info(self):\n",
        "        print(f\"Руководитель: {self.last_name}\\nСамооценка: {self.self_evaluation}\\nОценка другими: {self.others_evaluation}\\nКачество: {self.quality()}\")"
      ]
    },
    {
      "cell_type": "code",
      "source": [
        "class Subleader(Leader):\n",
        "    def __init__(self, last_name, self_evaluation, others_evaluation, sub_evaluation):\n",
        "        super().__init__(last_name, self_evaluation, others_evaluation)\n",
        "        self.sub_evaluation = sub_evaluation\n",
        "    \n",
        "    def quality(self):\n",
        "        q = super().quality()\n",
        "        return 0.3*q + 0.7*self.sub_evaluation\n",
        "    \n",
        "    def info(self):\n",
        "        super().info()\n",
        "        print(f\"Оценка потомками: {self.sub_evaluation}\\nНовое качество: {self.quality()}\")"
      ],
      "metadata": {
        "id": "4Qeyvw9CBcJT"
      },
      "execution_count": null,
      "outputs": []
    },
    {
      "cell_type": "code",
      "source": [
        "leader = Leader(\"Черенков\", 5, 17)\n",
        "leader.info()\n",
        "print('~' * 7)\n",
        "subleader = Subleader(\"Гутникова\", 7, 20, 18)\n",
        "subleader.info()"
      ],
      "metadata": {
        "colab": {
          "base_uri": "https://localhost:8080/"
        },
        "id": "5hShgcjMBeja",
        "outputId": "40f3cfc0-f384-4ceb-d344-5eec43ad7d5d"
      },
      "execution_count": null,
      "outputs": [
        {
          "output_type": "stream",
          "name": "stdout",
          "text": [
            "Руководитель: Черенков\n",
            "Самооценка: 5\n",
            "Оценка другими: 17\n",
            "Качество: 3.4\n",
            "~~~~~~~\n",
            "Руководитель: Гутникова\n",
            "Самооценка: 7\n",
            "Оценка другими: 20\n",
            "Качество: 13.457142857142857\n",
            "Оценка потомками: 18\n",
            "Новое качество: 13.457142857142857\n"
          ]
        }
      ]
    }
  ]
}