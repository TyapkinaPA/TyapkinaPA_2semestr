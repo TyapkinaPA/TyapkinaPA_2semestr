{
  "nbformat": 4,
  "nbformat_minor": 0,
  "metadata": {
    "colab": {
      "provenance": [],
      "authorship_tag": "ABX9TyOKTCkA5JNVIHmqzzMg4dz5",
      "include_colab_link": true
    },
    "kernelspec": {
      "name": "python3",
      "display_name": "Python 3"
    },
    "language_info": {
      "name": "python"
    }
  },
  "cells": [
    {
      "cell_type": "markdown",
      "metadata": {
        "id": "view-in-github",
        "colab_type": "text"
      },
      "source": [
        "<a href=\"https://colab.research.google.com/github/TyapkinaPA/TyapkinaPA_2semestr/blob/main/Lab_1_1.ipynb\" target=\"_parent\"><img src=\"https://colab.research.google.com/assets/colab-badge.svg\" alt=\"Open In Colab\"/></a>"
      ]
    },
    {
      "cell_type": "code",
      "execution_count": 11,
      "metadata": {
        "colab": {
          "base_uri": "https://localhost:8080/"
        },
        "id": "1Z_yEKWRsV2s",
        "outputId": "0fed9c09-738d-44ea-fb27-faadaa50db85"
      },
      "outputs": [
        {
          "output_type": "stream",
          "name": "stdout",
          "text": [
            "Dividing: 24\n",
            "Reducing: 13\n",
            "Process deleted.\n"
          ]
        }
      ],
      "source": [
        "class A():\n",
        "\n",
        "  __a = float()\n",
        "  __b = float()\n",
        "\n",
        "  def __init__(self, __a, __b):\n",
        "    self.a = __a\n",
        "    self.b = __b\n",
        "\n",
        "  def divide(self):\n",
        "    self.a = self.a - 1\n",
        "    c = self.a + self.b\n",
        "    return c\n",
        "\n",
        "  def reduce(self):\n",
        "    self.b = self.b + 1\n",
        "    c = self.a - self.b\n",
        "    return c\n",
        "\n",
        "  def __del__(self):\n",
        "    print('Process deleted.')\n",
        "\n",
        "c1 = A(20, 5)\n",
        "print(f'Dividing: {c1.divide()}')\n",
        "print(f'Reducing: {c1.reduce()}')"
      ]
    },
    {
      "cell_type": "code",
      "source": [
        "class Program():\n",
        "  \n",
        "  def __init__(self):\n",
        "    c2 = A(20, 5)\n",
        "    print(c2.divide())\n",
        "    print(c2.reduce())\n",
        "\n",
        "if __name__ == \"__main__\":\n",
        "  f1 = Program()\n",
        "  del f1"
      ],
      "metadata": {
        "colab": {
          "base_uri": "https://localhost:8080/"
        },
        "id": "leZXvzQUwu3q",
        "outputId": "59bc2ba2-c524-4f2e-f08c-4cc1e4c5843f"
      },
      "execution_count": 12,
      "outputs": [
        {
          "output_type": "stream",
          "name": "stdout",
          "text": [
            "24\n",
            "13\n",
            "Process deleted.\n"
          ]
        }
      ]
    }
  ]
}