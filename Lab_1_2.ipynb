{
  "nbformat": 4,
  "nbformat_minor": 0,
  "metadata": {
    "colab": {
      "provenance": [],
      "authorship_tag": "ABX9TyOAfU2cprdySA2OLN3j1ITZ",
      "include_colab_link": true
    },
    "kernelspec": {
      "name": "python3",
      "display_name": "Python 3"
    },
    "language_info": {
      "name": "python"
    }
  },
  "cells": [
    {
      "cell_type": "markdown",
      "metadata": {
        "id": "view-in-github",
        "colab_type": "text"
      },
      "source": [
        "<a href=\"https://colab.research.google.com/github/TyapkinaPA/TyapkinaPA_2semestr/blob/main/Lab_1_2.ipynb\" target=\"_parent\"><img src=\"https://colab.research.google.com/assets/colab-badge.svg\" alt=\"Open In Colab\"/></a>"
      ]
    },
    {
      "cell_type": "markdown",
      "source": [
        "## № 1.2.1\n",
        "### Создание новых экземпляров объектов класса может быть отличным способом отслеживания значений с помощью атрибутов, связанных с объектом. Значения этих атрибутов можно легко изменить на уровне объекта. Следующий код иллюстрирует знаменитую цитату Джорджа Бернарда Шоу, в которой объекты используются для представления людей. Заполните пробелы, чтобы код соответствовал поведению, описанному в цитате ниже"
      ],
      "metadata": {
        "id": "PmseRBLmZ8n2"
      }
    },
    {
      "cell_type": "code",
      "execution_count": null,
      "metadata": {
        "id": "TWarpDm-S3WK",
        "colab": {
          "base_uri": "https://localhost:8080/"
        },
        "outputId": "8524e64c-697d-4db6-85df-e8af7360693b"
      },
      "outputs": [
        {
          "output_type": "stream",
          "name": "stdout",
          "text": [
            "Johanna has 2 apples and Martin has 1 apples\n",
            "Johanna has 2 ideas and Martin has 2 ideas\n"
          ]
        }
      ],
      "source": [
        "# 'Если у тебя есть яблоко, и у меня есть яблоко, и мы\n",
        "# обменяемся этими яблоками, тогда\n",
        "# у нас с тобой по-прежнему будет по одному яблоку. \n",
        "# Но если у вас есть идея, и у меня есть идея, и мы\n",
        "# обменяемся этими идеями, тогда у каждого из нас будет\n",
        "# по две идеи'.\n",
        "\n",
        "class Person:\n",
        "  apples = 0\n",
        "  ideas = 0\n",
        "\n",
        "johanna = Person()\n",
        "johanna.apples = 1\n",
        "johanna.ideas = 1\n",
        "martin = Person()\n",
        "martin.apples = 2\n",
        "martin.ideas = 1\n",
        "\n",
        "def exchange_apples(you, me):\n",
        "  \n",
        "# Здесь, несмотря на цитату Дж.Б. Шоу, наши персонажи начали с\n",
        "# разного количества яблок, чтобы лучше понять результат.\n",
        "# Мы собираемся попросить Мартина и Джоанну обменяться ВСЕМИ\n",
        "# своими яблоками друг с другом.\n",
        "\n",
        "  advanced = you.apples\n",
        "  you.apples = me.apples\n",
        "  me.apples = advanced\n",
        "  return you.apples, me.apples\n",
        "\n",
        "def exchange_ideas(you, me):\n",
        "\n",
        "# 'ты' и 'я' обменяемся своими идеями друг с другом.\n",
        "# Какие операции необходимо выполнить, чтобы каждый \n",
        "# объект получал общее количсетво идей? \n",
        "# Подсказка: как бы вы распределили общее количество идей по\n",
        "# атрибуту каждой идеи? Вам нужна временная переменная для \n",
        "# хранения суммы идей, или вы можете найти другой способ?\n",
        "# Используйте здесь столько строк кода, сколько вам нужно.\n",
        "\n",
        "  advanced = you.ideas\n",
        "  you.ideas += me.ideas\n",
        "  me.ideas += advanced\n",
        "  return you.ideas, me.ideas\n",
        "\n",
        "exchange_apples(johanna, martin)\n",
        "print(\"Johanna has {} apples and Martin has {} apples\".format(johanna.apples, martin.apples))\n",
        "exchange_ideas(johanna, martin)\n",
        "print(\"Johanna has {} ideas and Martin has {} ideas\".format(johanna.ideas, martin.ideas))"
      ]
    },
    {
      "cell_type": "markdown",
      "source": [
        "## № 1.2.2\n",
        "### Класс City имеет следующие атрибуты: имя, страна (где расположен город), высота (измеряется в метрах) и население (приблизительно, согласно недавней статистике). Заполните пробелы в функции max_elevation_city, чтобы вернуть название города и его страну (разделенные запятой) при сравнении трех определенных экземпляров для указанной минимальной численности населения. Например, вызов функции для минимального населения в 1 миллион: max_elevation_city (1000000) должен вернуть «София, Болгария». "
      ],
      "metadata": {
        "id": "6v6VWveNX5mv"
      }
    },
    {
      "cell_type": "code",
      "source": [
        "# опредилите базовый класс города\n",
        "\n",
        "class City:\n",
        "  name = ''\n",
        "  country = ''\n",
        "  elevation = 0\n",
        "  population = 0\n",
        "\n",
        "# создайте новый экземпляр класса City\n",
        "# и определите каждый атрибут\n",
        "\n",
        "city1 = City()\n",
        "city1.name ='Cusco'\n",
        "city1.country = 'Peru'\n",
        "city1.elevation = 3399\n",
        "city1.population = 358052\n",
        "\n",
        "# создайте новый экземпляр класса City\n",
        "# и определите каждый атрибут\n",
        "\n",
        "city2 = City()\n",
        "city2.name = 'Sofia'\n",
        "city2.country = 'Bulgaria'\n",
        "city2.elevation = 2290\n",
        "city2.population = 1241675\n",
        "\n",
        "# создайте новый экземпляр кдасса City \n",
        "# и определите каждый атрибут\n",
        "\n",
        "city3 = City()\n",
        "city3.name = 'Seoul'\n",
        "city3.country = 'South Korea'\n",
        "city3.elevation = 38\n",
        "city3.population = 9733509\n",
        "\n",
        "def max_elevation_city(min_population):\n",
        "\n",
        "# Инициализируйте переменную, которая будет содержать\n",
        "# информацию о городе с самой высокой возвышенностью\n",
        "\n",
        "  return_city = City()\n",
        "  return_city.population = min_population\n",
        "\n",
        "# Оцените 1-й экземпляр на соответствие требованиям:\n",
        "# есть ли в городе №1 хотя бы минимальное население\n",
        "# и является ли его возвышенность самой высокой из \n",
        "# оцененных на данный момент?\n",
        "\n",
        "  if (city1.population >= min_population):\n",
        "    return_city = city1\n",
        "\n",
        "# Оцените 2-й экземпляр на соответствие требованиям:\n",
        "# есть ли в городе №2 хотя бы минимальное население\n",
        "# и является ли его возвышенность самой высокой из \n",
        "# оцененных на данный момент?\n",
        "\n",
        "  if (city2.population >= min_population) and (city2.elevation > return_city.elevation):\n",
        "    return_city = city2\n",
        "\n",
        "# Оцените 3-й экземпляр на соответствие требованиям:\n",
        "# есть ли в городе №3 хотя бы минимальное население\n",
        "# и является ли его возвышенность самой высокой из \n",
        "# оцененных на данный момент?\n",
        "\n",
        "  if (city3.population >= min_population) and (city3.elevation > return_city.elevation):\n",
        "    return_city = city3\n",
        "# Форматирование возвращаемой строки\n",
        "  if return_city.name:\n",
        "    return f'{return_city.name}, {return_city.country}'\n",
        "  else:\n",
        "    return 'Nope. There is nothing'\n",
        "\n",
        "print(max_elevation_city(100000))\n",
        "# Вывод на экран \"Cusco, Peru\"\n",
        "print(max_elevation_city(1000000))\n",
        "# Вывод на экран \"Sofia, Bulgaria\"\n",
        "print(max_elevation_city(10000000))\n",
        "# Вывод на экран \"\""
      ],
      "metadata": {
        "colab": {
          "base_uri": "https://localhost:8080/"
        },
        "id": "US-mlGRxe2NW",
        "outputId": "9aa499b8-b29c-477e-9aa3-8d5ab90381c1"
      },
      "execution_count": null,
      "outputs": [
        {
          "output_type": "stream",
          "name": "stdout",
          "text": [
            "Cusco, Peru\n",
            "Sofia, Bulgaria\n",
            "Nope. There is nothing\n"
          ]
        }
      ]
    },
    {
      "cell_type": "markdown",
      "source": [
        "## № 1.2.3\n",
        "###У нас есть два предмета мебели: коричневый деревянный стол и красный кожаный диван. Заполните пустые поля после создания каждого экземпляра класса Furniture, чтобы функция describe_furniture могла отформатировать предложение, описывающее эти элементы, следующим образом: «Этот предмет мебели изготовлен из {color} {material}». "
      ],
      "metadata": {
        "id": "YoR2owyppuZD"
      }
    },
    {
      "cell_type": "code",
      "source": [
        "class Furniture:\n",
        "  color = ''\n",
        "  material = ''\n",
        "\n",
        "table = Furniture()\n",
        "table.color = 'brown'\n",
        "table.material = 'wood'\n",
        "\n",
        "couch = Furniture()\n",
        "couch.color = 'red'\n",
        "couch.material = 'leather'\n",
        "\n",
        "def describe_furniture(piece):\n",
        "  return ('Этот предмет мебели изготовлен из {} {}'.format(piece.color, piece.material))\n",
        "\n",
        "print(describe_furniture(table))\n",
        "# Вывод на экран \"Этот предмет мебели изготовлен из коричневого дерева\"\n",
        "\n",
        "print(describe_furniture(couch))\n",
        "# Вывод на экран \"Этот предмет мебели изготовлен из красной кожи\""
      ],
      "metadata": {
        "id": "5VlyiUyzpw-F",
        "colab": {
          "base_uri": "https://localhost:8080/"
        },
        "outputId": "50cea455-48ed-43bf-a25f-2cc45b67ce55"
      },
      "execution_count": 2,
      "outputs": [
        {
          "output_type": "stream",
          "name": "stdout",
          "text": [
            "Этот предмет мебели изготовлен из brown wood\n",
            "Этот предмет мебели изготовлен из red leather\n"
          ]
        }
      ]
    }
  ]
}