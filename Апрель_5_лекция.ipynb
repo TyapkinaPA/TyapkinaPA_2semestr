{
  "nbformat": 4,
  "nbformat_minor": 0,
  "metadata": {
    "colab": {
      "provenance": [],
      "authorship_tag": "ABX9TyOMStBKPlbaivkJfRoTpBgy",
      "include_colab_link": true
    },
    "kernelspec": {
      "name": "python3",
      "display_name": "Python 3"
    },
    "language_info": {
      "name": "python"
    }
  },
  "cells": [
    {
      "cell_type": "markdown",
      "metadata": {
        "id": "view-in-github",
        "colab_type": "text"
      },
      "source": [
        "<a href=\"https://colab.research.google.com/github/TyapkinaPA/TyapkinaPA_2semestr/blob/main/%D0%90%D0%BF%D1%80%D0%B5%D0%BB%D1%8C_5_%D0%BB%D0%B5%D0%BA%D1%86%D0%B8%D1%8F.ipynb\" target=\"_parent\"><img src=\"https://colab.research.google.com/assets/colab-badge.svg\" alt=\"Open In Colab\"/></a>"
      ]
    },
    {
      "cell_type": "markdown",
      "source": [
        "# Декоратор\n",
        "### Функция в Python являются объектами, а значит: \n",
        "* могут быть связаны с переменной\n",
        "* могут быть определены одна внутри другой\n"
      ],
      "metadata": {
        "id": "E0YrTd4RtVFz"
      }
    },
    {
      "cell_type": "code",
      "execution_count": null,
      "metadata": {
        "id": "APwWydCAtF74"
      },
      "outputs": [],
      "source": [
        "def get_talk(type='about'):\n",
        "  def about(word ='да'):\n",
        "    return word.capitolize()*'|'\n",
        "  def "
      ]
    },
    {
      "cell_type": "code",
      "source": [
        "@my_shiny_new_decorator\n",
        "def another_stand_alone_fuction():\n",
        "  print(\"Оставь меня в покое!\")\n",
        "another_stand_alone_function()\n",
        "another_stand_alone_fuction = my_shiny_new_decorator(another_stand_alone_fuction)"
      ],
      "metadata": {
        "colab": {
          "base_uri": "https://localhost:8080/",
          "height": 235
        },
        "id": "1MGJD9BYxloG",
        "outputId": "1ee4c289-b487-4112-f38e-e11e101862f2"
      },
      "execution_count": null,
      "outputs": [
        {
          "output_type": "error",
          "ename": "NameError",
          "evalue": "ignored",
          "traceback": [
            "\u001b[0;31m---------------------------------------------------------------------------\u001b[0m",
            "\u001b[0;31mNameError\u001b[0m                                 Traceback (most recent call last)",
            "\u001b[0;32m<ipython-input-2-872e880e9162>\u001b[0m in \u001b[0;36m<cell line: 1>\u001b[0;34m()\u001b[0m\n\u001b[0;32m----> 1\u001b[0;31m \u001b[0;34m@\u001b[0m\u001b[0mmy_shiny_new_decorator\u001b[0m\u001b[0;34m\u001b[0m\u001b[0;34m\u001b[0m\u001b[0m\n\u001b[0m\u001b[1;32m      2\u001b[0m \u001b[0;32mdef\u001b[0m \u001b[0manother_stand_alone_fuction\u001b[0m\u001b[0;34m(\u001b[0m\u001b[0;34m)\u001b[0m\u001b[0;34m:\u001b[0m\u001b[0;34m\u001b[0m\u001b[0;34m\u001b[0m\u001b[0m\n\u001b[1;32m      3\u001b[0m   \u001b[0mprint\u001b[0m\u001b[0;34m(\u001b[0m\u001b[0;34m\"Оставь меня в покое!\"\u001b[0m\u001b[0;34m)\u001b[0m\u001b[0;34m\u001b[0m\u001b[0;34m\u001b[0m\u001b[0m\n\u001b[1;32m      4\u001b[0m \u001b[0manother_stand_alone_function\u001b[0m\u001b[0;34m(\u001b[0m\u001b[0;34m)\u001b[0m\u001b[0;34m\u001b[0m\u001b[0;34m\u001b[0m\u001b[0m\n\u001b[1;32m      5\u001b[0m \u001b[0manother_stand_alone_fuction\u001b[0m \u001b[0;34m=\u001b[0m \u001b[0mmy_shiny_new_decorator\u001b[0m\u001b[0;34m(\u001b[0m\u001b[0manother_stand_alone_fuction\u001b[0m\u001b[0;34m)\u001b[0m\u001b[0;34m\u001b[0m\u001b[0;34m\u001b[0m\u001b[0m\n",
            "\u001b[0;31mNameError\u001b[0m: name 'my_shiny_new_decorator' is not defined"
          ]
        }
      ]
    },
    {
      "cell_type": "code",
      "source": [
        "@bread\n",
        "@ingredients\n",
        "def sandwich(food=\"--ветчина--\"):\n",
        "  print(food)\n",
        "sandwich()"
      ],
      "metadata": {
        "colab": {
          "base_uri": "https://localhost:8080/",
          "height": 235
        },
        "id": "QmzOJ1vgyTVS",
        "outputId": "b8b3b477-0ac3-4d68-da17-01c3fb3f0e97"
      },
      "execution_count": null,
      "outputs": [
        {
          "output_type": "error",
          "ename": "NameError",
          "evalue": "ignored",
          "traceback": [
            "\u001b[0;31m---------------------------------------------------------------------------\u001b[0m",
            "\u001b[0;31mNameError\u001b[0m                                 Traceback (most recent call last)",
            "\u001b[0;32m<ipython-input-3-a8e6f3923534>\u001b[0m in \u001b[0;36m<cell line: 1>\u001b[0;34m()\u001b[0m\n\u001b[0;32m----> 1\u001b[0;31m \u001b[0;34m@\u001b[0m\u001b[0mbread\u001b[0m\u001b[0;34m\u001b[0m\u001b[0;34m\u001b[0m\u001b[0m\n\u001b[0m\u001b[1;32m      2\u001b[0m \u001b[0;34m@\u001b[0m\u001b[0mingredients\u001b[0m\u001b[0;34m\u001b[0m\u001b[0;34m\u001b[0m\u001b[0m\n\u001b[1;32m      3\u001b[0m \u001b[0;32mdef\u001b[0m \u001b[0msandwich\u001b[0m\u001b[0;34m(\u001b[0m\u001b[0mfood\u001b[0m\u001b[0;34m=\u001b[0m\u001b[0;34m\"--ветчина--\"\u001b[0m\u001b[0;34m)\u001b[0m\u001b[0;34m:\u001b[0m\u001b[0;34m\u001b[0m\u001b[0;34m\u001b[0m\u001b[0m\n\u001b[1;32m      4\u001b[0m   \u001b[0mprint\u001b[0m\u001b[0;34m(\u001b[0m\u001b[0mfood\u001b[0m\u001b[0;34m)\u001b[0m\u001b[0;34m\u001b[0m\u001b[0;34m\u001b[0m\u001b[0m\n\u001b[1;32m      5\u001b[0m \u001b[0msandwich\u001b[0m\u001b[0;34m(\u001b[0m\u001b[0;34m)\u001b[0m\u001b[0;34m\u001b[0m\u001b[0;34m\u001b[0m\u001b[0m\n",
            "\u001b[0;31mNameError\u001b[0m: name 'bread' is not defined"
          ]
        }
      ]
    },
    {
      "cell_type": "code",
      "source": [
        "def bread(fonc):\n",
        "  def wrapper():\n",
        "    print('</---------\\>')\n",
        "    func()\n",
        "    print('<\\_________/>')\n",
        "  return wrapper\n",
        "\n",
        "def ingedients(func):\n",
        "  def wrapper():\n",
        "    print('#помидоры#')\n",
        "    func()\n",
        "    print('~салат~')\n",
        "def sandwich(food='--ветчина--'):\n",
        "  print(food)\n",
        "\n",
        "sandwich()\n",
        "sandwich = bread(ingedients(sandwich))\n",
        "sandwich()"
      ],
      "metadata": {
        "colab": {
          "base_uri": "https://localhost:8080/",
          "height": 357
        },
        "id": "6ois9QG-y-Wo",
        "outputId": "f47e2964-0621-49dc-ee59-7c5a0987d21d"
      },
      "execution_count": null,
      "outputs": [
        {
          "output_type": "stream",
          "name": "stdout",
          "text": [
            "--ветчина--\n",
            "</---------\\>\n"
          ]
        },
        {
          "output_type": "error",
          "ename": "NameError",
          "evalue": "ignored",
          "traceback": [
            "\u001b[0;31m---------------------------------------------------------------------------\u001b[0m",
            "\u001b[0;31mNameError\u001b[0m                                 Traceback (most recent call last)",
            "\u001b[0;32m<ipython-input-4-be500d2e35ff>\u001b[0m in \u001b[0;36m<cell line: 18>\u001b[0;34m()\u001b[0m\n\u001b[1;32m     16\u001b[0m \u001b[0msandwich\u001b[0m\u001b[0;34m(\u001b[0m\u001b[0;34m)\u001b[0m\u001b[0;34m\u001b[0m\u001b[0;34m\u001b[0m\u001b[0m\n\u001b[1;32m     17\u001b[0m \u001b[0msandwich\u001b[0m \u001b[0;34m=\u001b[0m \u001b[0mbread\u001b[0m\u001b[0;34m(\u001b[0m\u001b[0mingedients\u001b[0m\u001b[0;34m(\u001b[0m\u001b[0msandwich\u001b[0m\u001b[0;34m)\u001b[0m\u001b[0;34m)\u001b[0m\u001b[0;34m\u001b[0m\u001b[0;34m\u001b[0m\u001b[0m\n\u001b[0;32m---> 18\u001b[0;31m \u001b[0msandwich\u001b[0m\u001b[0;34m(\u001b[0m\u001b[0;34m)\u001b[0m\u001b[0;34m\u001b[0m\u001b[0;34m\u001b[0m\u001b[0m\n\u001b[0m",
            "\u001b[0;32m<ipython-input-4-be500d2e35ff>\u001b[0m in \u001b[0;36mwrapper\u001b[0;34m()\u001b[0m\n\u001b[1;32m      2\u001b[0m   \u001b[0;32mdef\u001b[0m \u001b[0mwrapper\u001b[0m\u001b[0;34m(\u001b[0m\u001b[0;34m)\u001b[0m\u001b[0;34m:\u001b[0m\u001b[0;34m\u001b[0m\u001b[0;34m\u001b[0m\u001b[0m\n\u001b[1;32m      3\u001b[0m     \u001b[0mprint\u001b[0m\u001b[0;34m(\u001b[0m\u001b[0;34m'</---------\\>'\u001b[0m\u001b[0;34m)\u001b[0m\u001b[0;34m\u001b[0m\u001b[0;34m\u001b[0m\u001b[0m\n\u001b[0;32m----> 4\u001b[0;31m     \u001b[0mfunc\u001b[0m\u001b[0;34m(\u001b[0m\u001b[0;34m)\u001b[0m\u001b[0;34m\u001b[0m\u001b[0;34m\u001b[0m\u001b[0m\n\u001b[0m\u001b[1;32m      5\u001b[0m     \u001b[0mprint\u001b[0m\u001b[0;34m(\u001b[0m\u001b[0;34m'<\\_________/>'\u001b[0m\u001b[0;34m)\u001b[0m\u001b[0;34m\u001b[0m\u001b[0;34m\u001b[0m\u001b[0m\n\u001b[1;32m      6\u001b[0m   \u001b[0;32mreturn\u001b[0m \u001b[0mwrapper\u001b[0m\u001b[0;34m\u001b[0m\u001b[0;34m\u001b[0m\u001b[0m\n",
            "\u001b[0;31mNameError\u001b[0m: name 'func' is not defined"
          ]
        }
      ]
    },
    {
      "cell_type": "code",
      "source": [
        "def method_friendly_decorator(method_to_decorate): \n",
        "     def wrapper(self, lie): \n",
        "         lie = lie - 3  \n",
        "         return method_to_decorate(self, lie) \n",
        "     return wrapper \n",
        " \n",
        "class Lucy(object): \n",
        "    def __init__(self): \n",
        "        self.age = 32 \n",
        "         \n",
        "    @method_friendly_decorator \n",
        "    def sayYourAge(self, lie): \n",
        "        print(\"Мне %s, а ты бы сколько дал?\" % (self.age + lie)) \n",
        " \n",
        "l = Lucy() \n",
        "l.sayYourAge(-3)"
      ],
      "metadata": {
        "colab": {
          "base_uri": "https://localhost:8080/"
        },
        "id": "uGf8olgF3dWt",
        "outputId": "7407bb0b-3eeb-40d0-80b2-9c64da671b04"
      },
      "execution_count": null,
      "outputs": [
        {
          "output_type": "stream",
          "name": "stdout",
          "text": [
            "Мне 26, а ты бы сколько дал?\n"
          ]
        }
      ]
    },
    {
      "cell_type": "markdown",
      "source": [
        "# Декораторы классов\n",
        "* Методы экземпляров\n",
        "* Методы класса\n",
        "* Статические методы"
      ],
      "metadata": {
        "id": "3mYvYkT72UKp"
      }
    },
    {
      "cell_type": "code",
      "source": [
        "class ToyClass:\n",
        "  def instancemethod(self):\n",
        "    return 'instance method called', self\n",
        "  @classmethod\n",
        "  def classmethod(cls):\n",
        "    return 'class method called', cls\n",
        "  @staticmethod\n",
        "  def staticmethod():\n",
        "    return 'static method called'"
      ],
      "metadata": {
        "id": "ZbLKz7ZD20av"
      },
      "execution_count": null,
      "outputs": []
    },
    {
      "cell_type": "code",
      "source": [
        "from datetime import date\n",
        "class Person:\n",
        "  def __init__(self, name, age):\n",
        "    self.name = name\n",
        "    self.age = age\n",
        "  \n",
        "  @classmethod\n",
        "  def from_birth_year(cls, name, year):\n",
        "    return cls(name, date.today().year - year)\n",
        "  @staticmethod\n",
        "  def is_adult(age):\n",
        "    return age > 18"
      ],
      "metadata": {
        "id": "iF1-98zB4FP_"
      },
      "execution_count": null,
      "outputs": []
    },
    {
      "cell_type": "code",
      "source": [
        "person1 = Person('Sarah', 25)\n",
        "person2 = Person.from_birth_year('Roak', 1994)"
      ],
      "metadata": {
        "id": "hk43tKBU4-_1"
      },
      "execution_count": null,
      "outputs": []
    },
    {
      "cell_type": "code",
      "source": [
        "person1.name, person1.age"
      ],
      "metadata": {
        "colab": {
          "base_uri": "https://localhost:8080/"
        },
        "id": "CLlxPVFP5ONu",
        "outputId": "8fda4f96-a7f9-4afa-b37d-6323412ab856"
      },
      "execution_count": null,
      "outputs": [
        {
          "output_type": "execute_result",
          "data": {
            "text/plain": [
              "('Sarah', 25)"
            ]
          },
          "metadata": {},
          "execution_count": 13
        }
      ]
    },
    {
      "cell_type": "code",
      "source": [
        "person2.name, person2.age"
      ],
      "metadata": {
        "colab": {
          "base_uri": "https://localhost:8080/"
        },
        "id": "9bz5qxBi5YQz",
        "outputId": "1356abab-f6e4-4c13-eff7-1c58aea7a1a8"
      },
      "execution_count": null,
      "outputs": [
        {
          "output_type": "execute_result",
          "data": {
            "text/plain": [
              "('Roak', 29)"
            ]
          },
          "metadata": {},
          "execution_count": 14
        }
      ]
    },
    {
      "cell_type": "code",
      "source": [
        "Person.is_adult(25)"
      ],
      "metadata": {
        "colab": {
          "base_uri": "https://localhost:8080/"
        },
        "id": "gU5PEJfd5eX3",
        "outputId": "b3bd4b72-5934-475b-b135-f0fe6d664420"
      },
      "execution_count": null,
      "outputs": [
        {
          "output_type": "execute_result",
          "data": {
            "text/plain": [
              "True"
            ]
          },
          "metadata": {},
          "execution_count": 15
        }
      ]
    },
    {
      "cell_type": "code",
      "source": [
        "from math import pi\n",
        "class Cylinder:\n",
        "  @staticmethod\n",
        "  def make_area(d, h):\n",
        "    circle = pi * d**2 / 4\n",
        "    side = pi * d * h\n",
        "    return round(circle*2 + side, 2)\n",
        "  def __init__(self, diametr, high):\n",
        "    self.dia = diametr\n",
        "    self.h = high\n",
        "    self.area = self.make_area(diametr, high)\n",
        "\n",
        "a = Cylinder(1, 2)\n",
        "print(a.area)\n",
        "print(a.make_area)"
      ],
      "metadata": {
        "colab": {
          "base_uri": "https://localhost:8080/"
        },
        "id": "HAntzBWS6QwA",
        "outputId": "40e76076-16a2-4704-f849-ce2f27c2e055"
      },
      "execution_count": null,
      "outputs": [
        {
          "output_type": "stream",
          "name": "stdout",
          "text": [
            "7.85\n",
            "<function Cylinder.make_area at 0x7f5366d77940>\n"
          ]
        }
      ]
    },
    {
      "cell_type": "markdown",
      "source": [],
      "metadata": {
        "id": "RJgmS2va7dT9"
      }
    },
    {
      "cell_type": "code",
      "source": [
        "from math import pl\n",
        "class Cylinder:\n",
        "  @staticmethod\n",
        "  def make_area(d, h):\n",
        "    circle = pi * d ** 2 / 4\n",
        "    side = pl * h * d\n",
        "    return round(circle*2 + side, 2)\n",
        "  def __init__(self, diameter, high):\n",
        "    self.__dict__['dia'] = diameter\n",
        "    self.__dict__['h'] = high\n",
        "    self.__dict__['area'] = self.make_area(diameter, high)\n",
        "  def __setattr__(self, key, value):\n",
        "    if key == \"dia\":\n",
        "      self.__dict__[\"dia\"] = value\n",
        "      self.__dict__[\"area\"] = self.make_area(self.＿dict＿[\"dia\"],\n",
        "self.dict_['h'])\n",
        "    elif key == \"h\":\n",
        "      self.__dict__['h'] = value\n",
        "      self.__dict__[\"area\"] = self.make_area(self,＿dict＿['dla'],\n",
        "self.__dlct__['h'])\n",
        "    elif key == 'arca':\n",
        "      print(\"Нельзя изрелять площадь капряную!\")"
      ],
      "metadata": {
        "id": "tWYSClWz7MJh"
      },
      "execution_count": null,
      "outputs": []
    },
    {
      "cell_type": "markdown",
      "source": [
        "#ЗАДАЧА 1\n",
        "##Представьте себя ненадолго разработчиком комльютерной игры в стиле фэнтези. Вы будете прописывать систему эффектов, которые могут быть наложены на героя вашей игры. У вас есть герой, который обладает некоторым набором характеристик. Враги и союзники могут накладывать на героя положительные и отрицательные эффекты. Эти эффекты каким-то образом изменяют характеристики героя. На героя можно пакладывать бесконечно много эффектов, действие одинаковых эффектов суммируется. Игрок должен знать, какие положительные и какие отрицательные эффекты на него были наложены и в каком порядке."
      ],
      "metadata": {
        "id": "_i97BXj47dWW"
      }
    },
    {
      "cell_type": "code",
      "source": [
        "class Hero:\n",
        "  def __init__(self):\n",
        "    self.positive_effects = []\n",
        "    self.negative_effects = []            \n",
        "    self.stats = {\n",
        "            \"Здоровье\": 128,\n",
        "            \"Мана\": 42,\n",
        "            \"Навык\": 100,\n",
        "            \"Сила\": 15,\n",
        "            \"Восприятие\": 4,\n",
        "            \"Выносливость\": 8,\n",
        "            \"Харизма\": 2,\n",
        "            \"Интеллект\": 3,\n",
        "            \"Проворство\": 8,\n",
        "            \"Удача\": 1\n",
        "        } \n",
        "        \n",
        "  def get_positive_effects(self):\n",
        "    return self.positive_effects.copy()\n",
        "    \n",
        "  def get_negative_effects(self):\n",
        "    return self.negative_effects.copy()\n",
        "    \n",
        "  def get_stats(self):\n",
        "    return self.stats.copy()\n",
        "\n",
        "  def use(self):\n",
        "    print('Дайте быстрее сдохнуть! Не мучайте меня!! Пожайлуста!!!')"
      ],
      "metadata": {
        "id": "0SzcS13I9CNU"
      },
      "execution_count": 195,
      "outputs": []
    },
    {
      "cell_type": "code",
      "source": [
        "from abc import ABC, abstractmethod\n",
        "class AbstractEffect(Hero, ABC):\n",
        "  def __init__(self, base):\n",
        "    self.base = base\n",
        "\n",
        "  @abstractmethod\n",
        "  def get_positive_effects(self):\n",
        "    return self.positive_effects\n",
        "\n",
        "  @abstractmethod\n",
        "  def get_negative_effects(self):\n",
        "    return self.negative_effects\n",
        "\n",
        "  @abstractmethod\n",
        "  def get_stats(self):\n",
        "    pass"
      ],
      "metadata": {
        "id": "xCVacXv1Vosg"
      },
      "execution_count": 196,
      "outputs": []
    },
    {
      "cell_type": "code",
      "source": [
        "class AbstractPositive(AbstractEffect):\n",
        "  def get_negative_effects(self):\n",
        "    return self.base.get_negative_effects()"
      ],
      "metadata": {
        "id": "xsjP9NWw3QBI"
      },
      "execution_count": 197,
      "outputs": []
    },
    {
      "cell_type": "code",
      "source": [
        "class AbstractNegative(AbstractEffect):    \n",
        "  def get_positive_effects(self):\n",
        "    return self.base.get_positive_effects()"
      ],
      "metadata": {
        "id": "t6X9lzv83Y5C"
      },
      "execution_count": 198,
      "outputs": []
    },
    {
      "cell_type": "code",
      "source": [
        "class Berserk(AbstractPositive):    \n",
        "  def get_stats(self):\n",
        "    stats = self.base.get_stats()\n",
        "    stats[\"Здоровье\"] += 50\n",
        "    stats[\"Сила\"] += 7\n",
        "    stats[\"Выносливость\"] += 7\n",
        "    stats[\"Проворство\"] += 7\n",
        "    stats[\"Удача\"] += 7\n",
        "    stats[\"Восприятие\"] -= 3\n",
        "    stats[\"Харизма\"] -= 3\n",
        "    stats[\"Интеллект\"] -= 3\n",
        "    return stats\n",
        "\n",
        "  def get_positive_effects(self):\n",
        "    return self.base.get_positive_effects() + [\"Берсерк\"]\n",
        "\n",
        "  def use(self):\n",
        "    print(\"Чтоб ты каждое утро овсянкой завтракал!\")"
      ],
      "metadata": {
        "id": "5UDJdwDU3gBw"
      },
      "execution_count": 199,
      "outputs": []
    },
    {
      "cell_type": "code",
      "source": [
        "class Blessing(AbstractPositive):    \n",
        "  def get_stats(self):\n",
        "    stats = self.base.get_stats()\n",
        "    stats[\"Сила\"] += 2\n",
        "    stats[\"Выносливость\"] += 2\n",
        "    stats[\"Проворство\"] += 2\n",
        "    stats[\"Удача\"] += 2\n",
        "    stats[\"Восприятие\"] += 2\n",
        "    stats[\"Харизма\"] += 2\n",
        "    stats[\"Интеллект\"] += 2\n",
        "    return stats\n",
        "\n",
        "  def get_positive_effects(self):\n",
        "    return self.base.get_positive_effects() + [\"Благословение\"]\n",
        " \n",
        "  def use(self):\n",
        "    print('Чтоб ты так разбогател, чтобы твой вдовец мог всю жизнь не работать!')"
      ],
      "metadata": {
        "id": "mBwdpBYg3r0B"
      },
      "execution_count": 200,
      "outputs": []
    },
    {
      "cell_type": "code",
      "source": [
        "class Weakness(AbstractNegative):    \n",
        "  def get_stats(self):\n",
        "    stats = self.base.get_stats()\n",
        "    stats[\"Сила\"] -= 4\n",
        "    stats[\"Выносливость\"] -= 4\n",
        "    stats[\"Проворство\"] -= 4\n",
        "    return stats\n",
        "        \n",
        "  def get_negative_effects(self):\n",
        "    return self.base.get_negative_effects() + [\"Слабость\"]\n",
        "    \n",
        "  def use(self):\n",
        "    print('Чтоб у тебя кот главой семьи был!')"
      ],
      "metadata": {
        "id": "Z_kLel0hKhlY"
      },
      "execution_count": 201,
      "outputs": []
    },
    {
      "cell_type": "code",
      "source": [
        "class Curse(AbstractNegative):\n",
        "  def get_stats(self):\n",
        "    stats = self.base.get_stats()\n",
        "    stats[\"Сила\"] -= 2\n",
        "    stats[\"Выносливость\"] -= 2\n",
        "    stats[\"Проворство\"] -= 2\n",
        "    stats[\"Удача\"] -= 2\n",
        "    stats[\"Восприятие\"] -= 2\n",
        "    stats[\"Харизма\"] -= 2\n",
        "    stats[\"Интеллект\"] -= 2\n",
        "    return stats\n",
        "\n",
        "  def get_negative_effects(self):\n",
        "    return self.base.get_negative_effects() + [\"Проклятие\"]\n",
        "  def use(self):\n",
        "    print('Чтоб тебе на МКАДе в семичасовую пробку попасть!')"
      ],
      "metadata": {
        "id": "NAzFd8ak31-a"
      },
      "execution_count": 202,
      "outputs": []
    },
    {
      "cell_type": "code",
      "source": [
        "class EvilEye(AbstractNegative):\n",
        "  def get_stats(self):\n",
        "    stats = self.base.get_stats()\n",
        "    stats[\"Удача\"] -= 10\n",
        "    return stats\n",
        "\n",
        "  def get_negative_effects(self):\n",
        "    return self.base.get_negative_effects() + [\"Сглаз\"]\n",
        "\n",
        "  def use(self):\n",
        "    print('Чтоб у тебя реклама в игре не кончалась никогда не заканчивалась!')"
      ],
      "metadata": {
        "id": "JVu8ZSVX3-xP"
      },
      "execution_count": 203,
      "outputs": []
    },
    {
      "cell_type": "code",
      "source": [
        "hero = Hero()\n",
        "hero.get_stats()"
      ],
      "metadata": {
        "colab": {
          "base_uri": "https://localhost:8080/"
        },
        "id": "-B3AtJup1qAV",
        "outputId": "c29bf1b0-9205-4cb0-c980-b60721200b16"
      },
      "execution_count": 204,
      "outputs": [
        {
          "output_type": "execute_result",
          "data": {
            "text/plain": [
              "{'Здоровье': 128,\n",
              " 'Мана': 42,\n",
              " 'Навык': 100,\n",
              " 'Сила': 15,\n",
              " 'Восприятие': 4,\n",
              " 'Выносливость': 8,\n",
              " 'Харизма': 2,\n",
              " 'Интеллект': 3,\n",
              " 'Проворство': 8,\n",
              " 'Удача': 1}"
            ]
          },
          "metadata": {},
          "execution_count": 204
        }
      ]
    },
    {
      "cell_type": "code",
      "source": [
        "hero.use()"
      ],
      "metadata": {
        "id": "BBda9jHiU22O",
        "outputId": "dabd08ad-fb90-4a61-d6bc-4883630a11f0",
        "colab": {
          "base_uri": "https://localhost:8080/"
        }
      },
      "execution_count": 205,
      "outputs": [
        {
          "output_type": "stream",
          "name": "stdout",
          "text": [
            "Дайте быстрее сдохнуть! Не мучайте меня!! Пожайлуста!!!\n"
          ]
        }
      ]
    },
    {
      "cell_type": "code",
      "source": [
        "hero.stats"
      ],
      "metadata": {
        "colab": {
          "base_uri": "https://localhost:8080/"
        },
        "id": "wE5_xbhW2TC8",
        "outputId": "fa740144-1499-4bf8-c86f-6dc03fb1c295"
      },
      "execution_count": 164,
      "outputs": [
        {
          "output_type": "execute_result",
          "data": {
            "text/plain": [
              "{'Здоровье': 128,\n",
              " 'Мана': 42,\n",
              " 'Навык': 100,\n",
              " 'Сила': 15,\n",
              " 'Восприятие': 4,\n",
              " 'Выносливость': 8,\n",
              " 'Харизма': 2,\n",
              " 'Интеллект': 3,\n",
              " 'Проворство': 8,\n",
              " 'Удача': 1}"
            ]
          },
          "metadata": {},
          "execution_count": 164
        }
      ]
    },
    {
      "cell_type": "code",
      "source": [
        "hero.get_negative_effects()"
      ],
      "metadata": {
        "colab": {
          "base_uri": "https://localhost:8080/"
        },
        "id": "WgjflWDW2r_A",
        "outputId": "86675a70-7f6e-42d9-c1ec-4364a60c557b"
      },
      "execution_count": 166,
      "outputs": [
        {
          "output_type": "execute_result",
          "data": {
            "text/plain": [
              "[]"
            ]
          },
          "metadata": {},
          "execution_count": 166
        }
      ]
    },
    {
      "cell_type": "code",
      "source": [
        "hero.get_positive_effects()"
      ],
      "metadata": {
        "id": "sDKp4V9aU8I7",
        "outputId": "ed090ac7-254b-4a06-cbcb-62287259e057",
        "colab": {
          "base_uri": "https://localhost:8080/"
        }
      },
      "execution_count": 167,
      "outputs": [
        {
          "output_type": "execute_result",
          "data": {
            "text/plain": [
              "[]"
            ]
          },
          "metadata": {},
          "execution_count": 167
        }
      ]
    },
    {
      "cell_type": "code",
      "source": [
        "berserk = Berserk(hero)\n",
        "berserk.get_stats()"
      ],
      "metadata": {
        "colab": {
          "base_uri": "https://localhost:8080/"
        },
        "id": "6TIyMstw4TnX",
        "outputId": "6d39e07e-8f9d-4e95-96a4-d4254aaaf09f"
      },
      "execution_count": 168,
      "outputs": [
        {
          "output_type": "execute_result",
          "data": {
            "text/plain": [
              "{'Здоровье': 178,\n",
              " 'Мана': 42,\n",
              " 'Навык': 100,\n",
              " 'Сила': 22,\n",
              " 'Восприятие': 1,\n",
              " 'Выносливость': 15,\n",
              " 'Харизма': -1,\n",
              " 'Интеллект': 0,\n",
              " 'Проворство': 15,\n",
              " 'Удача': 8}"
            ]
          },
          "metadata": {},
          "execution_count": 168
        }
      ]
    },
    {
      "cell_type": "code",
      "source": [
        "berserk.use()"
      ],
      "metadata": {
        "id": "QB3o653lNekX",
        "outputId": "0b170dca-0242-489d-dc48-492ba926755d",
        "colab": {
          "base_uri": "https://localhost:8080/"
        }
      },
      "execution_count": 169,
      "outputs": [
        {
          "output_type": "stream",
          "name": "stdout",
          "text": [
            "Чтоб ты каждое утро овсянкой завтракал!\n"
          ]
        }
      ]
    },
    {
      "cell_type": "code",
      "source": [
        "berserk.get_negative_effects()"
      ],
      "metadata": {
        "colab": {
          "base_uri": "https://localhost:8080/"
        },
        "id": "A4XTEc4n4is8",
        "outputId": "c0e8c89c-7521-48eb-fc0e-850291607b85"
      },
      "execution_count": 171,
      "outputs": [
        {
          "output_type": "execute_result",
          "data": {
            "text/plain": [
              "[]"
            ]
          },
          "metadata": {},
          "execution_count": 171
        }
      ]
    },
    {
      "cell_type": "code",
      "source": [
        "berserk.get_positive_effects()"
      ],
      "metadata": {
        "id": "FhyT_CP1VCRU",
        "outputId": "3c8a9705-a58f-4a06-c864-f11f22b5aa2f",
        "colab": {
          "base_uri": "https://localhost:8080/"
        }
      },
      "execution_count": 172,
      "outputs": [
        {
          "output_type": "execute_result",
          "data": {
            "text/plain": [
              "['Берсерк']"
            ]
          },
          "metadata": {},
          "execution_count": 172
        }
      ]
    },
    {
      "cell_type": "code",
      "source": [
        "berserk2 = Berserk(berserk)\n",
        "curse = Curse(berserk2)\n",
        "curse.get_stats()"
      ],
      "metadata": {
        "colab": {
          "base_uri": "https://localhost:8080/"
        },
        "id": "5tuC7oLq4kb5",
        "outputId": "27e62ec7-e87d-45be-e510-cb58cdec764d"
      },
      "execution_count": 173,
      "outputs": [
        {
          "output_type": "execute_result",
          "data": {
            "text/plain": [
              "{'Здоровье': 228,\n",
              " 'Мана': 42,\n",
              " 'Навык': 100,\n",
              " 'Сила': 27,\n",
              " 'Восприятие': -4,\n",
              " 'Выносливость': 20,\n",
              " 'Харизма': -6,\n",
              " 'Интеллект': -5,\n",
              " 'Проворство': 20,\n",
              " 'Удача': 13}"
            ]
          },
          "metadata": {},
          "execution_count": 173
        }
      ]
    },
    {
      "cell_type": "code",
      "source": [
        "curse.get_positive_effects()"
      ],
      "metadata": {
        "colab": {
          "base_uri": "https://localhost:8080/"
        },
        "id": "2FZmo0go5IPk",
        "outputId": "143cbf35-3b6e-4ccc-d579-60e01793042c"
      },
      "execution_count": 175,
      "outputs": [
        {
          "output_type": "execute_result",
          "data": {
            "text/plain": [
              "['Берсерк', 'Берсерк']"
            ]
          },
          "metadata": {},
          "execution_count": 175
        }
      ]
    },
    {
      "cell_type": "code",
      "source": [
        "curse.get_negative_effects()"
      ],
      "metadata": {
        "colab": {
          "base_uri": "https://localhost:8080/"
        },
        "id": "ouzgN-vy5ShZ",
        "outputId": "1ab51203-56db-4033-8565-3abbc6f56674"
      },
      "execution_count": 176,
      "outputs": [
        {
          "output_type": "execute_result",
          "data": {
            "text/plain": [
              "['Проклятие']"
            ]
          },
          "metadata": {},
          "execution_count": 176
        }
      ]
    },
    {
      "cell_type": "code",
      "source": [
        "curse.base = berserk\n",
        "curse.get_stats()"
      ],
      "metadata": {
        "colab": {
          "base_uri": "https://localhost:8080/"
        },
        "id": "1c7Wqzv35XbY",
        "outputId": "e47103a7-89de-43a2-e37d-d139e064daf1"
      },
      "execution_count": 177,
      "outputs": [
        {
          "output_type": "execute_result",
          "data": {
            "text/plain": [
              "{'Здоровье': 178,\n",
              " 'Мана': 42,\n",
              " 'Навык': 100,\n",
              " 'Сила': 20,\n",
              " 'Восприятие': -1,\n",
              " 'Выносливость': 13,\n",
              " 'Харизма': -3,\n",
              " 'Интеллект': -2,\n",
              " 'Проворство': 13,\n",
              " 'Удача': 6}"
            ]
          },
          "metadata": {},
          "execution_count": 177
        }
      ]
    },
    {
      "cell_type": "code",
      "source": [
        "curse.use()"
      ],
      "metadata": {
        "id": "XtgtIJztQsUI",
        "outputId": "b5ca48de-9e81-48a2-80d9-d6d04e04b1b1",
        "colab": {
          "base_uri": "https://localhost:8080/"
        }
      },
      "execution_count": 178,
      "outputs": [
        {
          "output_type": "stream",
          "name": "stdout",
          "text": [
            "Чтоб тебе на МКАДе в семичасовую пробку попасть!\n"
          ]
        }
      ]
    },
    {
      "cell_type": "code",
      "source": [
        "curse.get_positive_effects()"
      ],
      "metadata": {
        "colab": {
          "base_uri": "https://localhost:8080/"
        },
        "id": "RC01Zhzy5rZo",
        "outputId": "783f5892-15ea-405f-dab2-4b959867a18c"
      },
      "execution_count": 179,
      "outputs": [
        {
          "output_type": "execute_result",
          "data": {
            "text/plain": [
              "['Берсерк']"
            ]
          },
          "metadata": {},
          "execution_count": 179
        }
      ]
    },
    {
      "cell_type": "code",
      "source": [
        "curse.get_negative_effects()"
      ],
      "metadata": {
        "colab": {
          "base_uri": "https://localhost:8080/"
        },
        "id": "kZt0Il1g5vb2",
        "outputId": "7445a2a5-122f-4365-dc36-f7d6922f6f13"
      },
      "execution_count": 180,
      "outputs": [
        {
          "output_type": "execute_result",
          "data": {
            "text/plain": [
              "['Проклятие']"
            ]
          },
          "metadata": {},
          "execution_count": 180
        }
      ]
    },
    {
      "cell_type": "code",
      "source": [
        "evileye = EvilEye(curse)\n",
        "evileye.get_stats()"
      ],
      "metadata": {
        "colab": {
          "base_uri": "https://localhost:8080/"
        },
        "id": "yS8mxjNW576x",
        "outputId": "b63e8514-654b-40af-f344-aaf915f31f3a"
      },
      "execution_count": 181,
      "outputs": [
        {
          "output_type": "execute_result",
          "data": {
            "text/plain": [
              "{'Здоровье': 178,\n",
              " 'Мана': 42,\n",
              " 'Навык': 100,\n",
              " 'Сила': 20,\n",
              " 'Восприятие': -1,\n",
              " 'Выносливость': 13,\n",
              " 'Харизма': -3,\n",
              " 'Интеллект': -2,\n",
              " 'Проворство': 13,\n",
              " 'Удача': -4}"
            ]
          },
          "metadata": {},
          "execution_count": 181
        }
      ]
    },
    {
      "cell_type": "code",
      "source": [
        "evileye.use()"
      ],
      "metadata": {
        "id": "5aWIMSxxQnY3",
        "outputId": "26e60fcf-71bf-4a40-af7f-fdf8051e2113",
        "colab": {
          "base_uri": "https://localhost:8080/"
        }
      },
      "execution_count": 182,
      "outputs": [
        {
          "output_type": "stream",
          "name": "stdout",
          "text": [
            "Чтоб у тебя реклама в игре не кончалась никогда не заканчивалась!\n"
          ]
        }
      ]
    },
    {
      "cell_type": "code",
      "source": [
        "evileye.get_positive_effects()"
      ],
      "metadata": {
        "colab": {
          "base_uri": "https://localhost:8080/"
        },
        "id": "qSHbe1HC6q0H",
        "outputId": "04647981-39e2-4a3b-b357-dae6541e346a"
      },
      "execution_count": 183,
      "outputs": [
        {
          "output_type": "execute_result",
          "data": {
            "text/plain": [
              "['Берсерк']"
            ]
          },
          "metadata": {},
          "execution_count": 183
        }
      ]
    },
    {
      "cell_type": "code",
      "source": [
        "evileye.get_negative_effects()"
      ],
      "metadata": {
        "colab": {
          "base_uri": "https://localhost:8080/"
        },
        "id": "cZlivGqO6umj",
        "outputId": "421d2aad-3f84-4d6d-cb26-c2bc05369089"
      },
      "execution_count": 184,
      "outputs": [
        {
          "output_type": "execute_result",
          "data": {
            "text/plain": [
              "['Проклятие', 'Сглаз']"
            ]
          },
          "metadata": {},
          "execution_count": 184
        }
      ]
    },
    {
      "cell_type": "code",
      "source": [
        "blessing = Blessing(evileye)\n",
        "blessing.get_stats()"
      ],
      "metadata": {
        "colab": {
          "base_uri": "https://localhost:8080/"
        },
        "id": "_4Fb9jaV7G8W",
        "outputId": "975da333-234c-438f-8a88-8769f126e454"
      },
      "execution_count": 185,
      "outputs": [
        {
          "output_type": "execute_result",
          "data": {
            "text/plain": [
              "{'Здоровье': 178,\n",
              " 'Мана': 42,\n",
              " 'Навык': 100,\n",
              " 'Сила': 22,\n",
              " 'Восприятие': 1,\n",
              " 'Выносливость': 15,\n",
              " 'Харизма': -1,\n",
              " 'Интеллект': 0,\n",
              " 'Проворство': 15,\n",
              " 'Удача': -2}"
            ]
          },
          "metadata": {},
          "execution_count": 185
        }
      ]
    },
    {
      "cell_type": "code",
      "source": [
        "blessing.use()"
      ],
      "metadata": {
        "id": "-CVEZn9ZP73I",
        "outputId": "344aa73b-f92f-45b3-c53c-6bfadbddebae",
        "colab": {
          "base_uri": "https://localhost:8080/"
        }
      },
      "execution_count": 186,
      "outputs": [
        {
          "output_type": "stream",
          "name": "stdout",
          "text": [
            "Чтоб ты так разбогател, чтобы твой вдовец мог всю жизнь не работать!\n"
          ]
        }
      ]
    },
    {
      "cell_type": "code",
      "source": [
        "blessing.get_positive_effects()"
      ],
      "metadata": {
        "colab": {
          "base_uri": "https://localhost:8080/"
        },
        "id": "1gFFXZlJ8Wr5",
        "outputId": "759214a5-d39c-4f90-a160-2ab141919352"
      },
      "execution_count": 187,
      "outputs": [
        {
          "output_type": "execute_result",
          "data": {
            "text/plain": [
              "['Берсерк', 'Благословение']"
            ]
          },
          "metadata": {},
          "execution_count": 187
        }
      ]
    },
    {
      "cell_type": "code",
      "source": [
        "blessing.get_negative_effects()"
      ],
      "metadata": {
        "colab": {
          "base_uri": "https://localhost:8080/"
        },
        "id": "ZG4PYXFV8ayS",
        "outputId": "160815a9-af5e-428f-8d5d-4b51b1d893c5"
      },
      "execution_count": 188,
      "outputs": [
        {
          "output_type": "execute_result",
          "data": {
            "text/plain": [
              "['Проклятие', 'Сглаз']"
            ]
          },
          "metadata": {},
          "execution_count": 188
        }
      ]
    },
    {
      "cell_type": "code",
      "source": [
        "weakness = Weakness(blessing)\n",
        "weakness.get_stats()"
      ],
      "metadata": {
        "colab": {
          "base_uri": "https://localhost:8080/"
        },
        "id": "rTqyWvaI8iOD",
        "outputId": "e814ce66-c9da-4b24-e2fe-4adbc270b2e6"
      },
      "execution_count": 189,
      "outputs": [
        {
          "output_type": "execute_result",
          "data": {
            "text/plain": [
              "{'Здоровье': 178,\n",
              " 'Мана': 42,\n",
              " 'Навык': 100,\n",
              " 'Сила': 18,\n",
              " 'Восприятие': 1,\n",
              " 'Выносливость': 11,\n",
              " 'Харизма': -1,\n",
              " 'Интеллект': 0,\n",
              " 'Проворство': 11,\n",
              " 'Удача': -2}"
            ]
          },
          "metadata": {},
          "execution_count": 189
        }
      ]
    },
    {
      "cell_type": "code",
      "source": [
        "weakness.use()"
      ],
      "metadata": {
        "id": "-dgiq_BzMGDX",
        "outputId": "8ae70071-a16c-44e5-a6bd-0e717c8083e1",
        "colab": {
          "base_uri": "https://localhost:8080/"
        }
      },
      "execution_count": 190,
      "outputs": [
        {
          "output_type": "stream",
          "name": "stdout",
          "text": [
            "Чтоб у тебя кот главой семьи был!\n"
          ]
        }
      ]
    },
    {
      "cell_type": "code",
      "source": [
        "weakness.get_positive_effects()"
      ],
      "metadata": {
        "colab": {
          "base_uri": "https://localhost:8080/"
        },
        "id": "hkaaV4Bc8slG",
        "outputId": "6c166687-9e7f-4e58-a9f5-355ee01aa258"
      },
      "execution_count": 191,
      "outputs": [
        {
          "output_type": "execute_result",
          "data": {
            "text/plain": [
              "['Берсерк', 'Благословение']"
            ]
          },
          "metadata": {},
          "execution_count": 191
        }
      ]
    },
    {
      "cell_type": "code",
      "source": [
        "weakness.get_negative_effects()"
      ],
      "metadata": {
        "colab": {
          "base_uri": "https://localhost:8080/"
        },
        "id": "kqYjbmjW8w_q",
        "outputId": "763bfed1-ee68-43b0-ca6b-c5a0dbe17445"
      },
      "execution_count": 192,
      "outputs": [
        {
          "output_type": "execute_result",
          "data": {
            "text/plain": [
              "['Проклятие', 'Сглаз', 'Слабость']"
            ]
          },
          "metadata": {},
          "execution_count": 192
        }
      ]
    }
  ]
}