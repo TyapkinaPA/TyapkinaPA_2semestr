{
  "nbformat": 4,
  "nbformat_minor": 0,
  "metadata": {
    "colab": {
      "provenance": [],
      "authorship_tag": "ABX9TyNKRLdZix1YQ2LEqd/wEcHl",
      "include_colab_link": true
    },
    "kernelspec": {
      "name": "python3",
      "display_name": "Python 3"
    },
    "language_info": {
      "name": "python"
    }
  },
  "cells": [
    {
      "cell_type": "markdown",
      "metadata": {
        "id": "view-in-github",
        "colab_type": "text"
      },
      "source": [
        "<a href=\"https://colab.research.google.com/github/TyapkinaPA/TyapkinaPA_2semestr/blob/main/%D0%90%D0%BF%D1%80%D0%B5%D0%BB%D1%8C_5_%D0%BB%D0%B5%D0%BA%D1%86%D0%B8%D1%8F.ipynb\" target=\"_parent\"><img src=\"https://colab.research.google.com/assets/colab-badge.svg\" alt=\"Open In Colab\"/></a>"
      ]
    },
    {
      "cell_type": "markdown",
      "source": [
        "# Декоратор\n",
        "### Функция в Python являются объектами, а значит: \n",
        "* могут быть связаны с переменной\n",
        "* могут быть определены одна внутри другой\n"
      ],
      "metadata": {
        "id": "E0YrTd4RtVFz"
      }
    },
    {
      "cell_type": "code",
      "execution_count": null,
      "metadata": {
        "id": "APwWydCAtF74"
      },
      "outputs": [],
      "source": [
        "def get_talk(type='about'):\n",
        "  def about(word ='да'):\n",
        "    return word.capitolize()*'|'\n",
        "  def "
      ]
    },
    {
      "cell_type": "code",
      "source": [
        "@my_shiny_new_decorator\n",
        "def another_stand_alone_fuction():\n",
        "  print(\"Оставь меня в покое!\")\n",
        "another_stand_alone_function()\n",
        "another_stand_alone_fuction = my_shiny_new_decorator(another_stand_alone_fuction)"
      ],
      "metadata": {
        "colab": {
          "base_uri": "https://localhost:8080/",
          "height": 235
        },
        "id": "1MGJD9BYxloG",
        "outputId": "1ee4c289-b487-4112-f38e-e11e101862f2"
      },
      "execution_count": null,
      "outputs": [
        {
          "output_type": "error",
          "ename": "NameError",
          "evalue": "ignored",
          "traceback": [
            "\u001b[0;31m---------------------------------------------------------------------------\u001b[0m",
            "\u001b[0;31mNameError\u001b[0m                                 Traceback (most recent call last)",
            "\u001b[0;32m<ipython-input-2-872e880e9162>\u001b[0m in \u001b[0;36m<cell line: 1>\u001b[0;34m()\u001b[0m\n\u001b[0;32m----> 1\u001b[0;31m \u001b[0;34m@\u001b[0m\u001b[0mmy_shiny_new_decorator\u001b[0m\u001b[0;34m\u001b[0m\u001b[0;34m\u001b[0m\u001b[0m\n\u001b[0m\u001b[1;32m      2\u001b[0m \u001b[0;32mdef\u001b[0m \u001b[0manother_stand_alone_fuction\u001b[0m\u001b[0;34m(\u001b[0m\u001b[0;34m)\u001b[0m\u001b[0;34m:\u001b[0m\u001b[0;34m\u001b[0m\u001b[0;34m\u001b[0m\u001b[0m\n\u001b[1;32m      3\u001b[0m   \u001b[0mprint\u001b[0m\u001b[0;34m(\u001b[0m\u001b[0;34m\"Оставь меня в покое!\"\u001b[0m\u001b[0;34m)\u001b[0m\u001b[0;34m\u001b[0m\u001b[0;34m\u001b[0m\u001b[0m\n\u001b[1;32m      4\u001b[0m \u001b[0manother_stand_alone_function\u001b[0m\u001b[0;34m(\u001b[0m\u001b[0;34m)\u001b[0m\u001b[0;34m\u001b[0m\u001b[0;34m\u001b[0m\u001b[0m\n\u001b[1;32m      5\u001b[0m \u001b[0manother_stand_alone_fuction\u001b[0m \u001b[0;34m=\u001b[0m \u001b[0mmy_shiny_new_decorator\u001b[0m\u001b[0;34m(\u001b[0m\u001b[0manother_stand_alone_fuction\u001b[0m\u001b[0;34m)\u001b[0m\u001b[0;34m\u001b[0m\u001b[0;34m\u001b[0m\u001b[0m\n",
            "\u001b[0;31mNameError\u001b[0m: name 'my_shiny_new_decorator' is not defined"
          ]
        }
      ]
    },
    {
      "cell_type": "code",
      "source": [
        "@bread\n",
        "@ingredients\n",
        "def sandwich(food=\"--ветчина--\"):\n",
        "  print(food)\n",
        "sandwich()"
      ],
      "metadata": {
        "colab": {
          "base_uri": "https://localhost:8080/",
          "height": 235
        },
        "id": "QmzOJ1vgyTVS",
        "outputId": "b8b3b477-0ac3-4d68-da17-01c3fb3f0e97"
      },
      "execution_count": null,
      "outputs": [
        {
          "output_type": "error",
          "ename": "NameError",
          "evalue": "ignored",
          "traceback": [
            "\u001b[0;31m---------------------------------------------------------------------------\u001b[0m",
            "\u001b[0;31mNameError\u001b[0m                                 Traceback (most recent call last)",
            "\u001b[0;32m<ipython-input-3-a8e6f3923534>\u001b[0m in \u001b[0;36m<cell line: 1>\u001b[0;34m()\u001b[0m\n\u001b[0;32m----> 1\u001b[0;31m \u001b[0;34m@\u001b[0m\u001b[0mbread\u001b[0m\u001b[0;34m\u001b[0m\u001b[0;34m\u001b[0m\u001b[0m\n\u001b[0m\u001b[1;32m      2\u001b[0m \u001b[0;34m@\u001b[0m\u001b[0mingredients\u001b[0m\u001b[0;34m\u001b[0m\u001b[0;34m\u001b[0m\u001b[0m\n\u001b[1;32m      3\u001b[0m \u001b[0;32mdef\u001b[0m \u001b[0msandwich\u001b[0m\u001b[0;34m(\u001b[0m\u001b[0mfood\u001b[0m\u001b[0;34m=\u001b[0m\u001b[0;34m\"--ветчина--\"\u001b[0m\u001b[0;34m)\u001b[0m\u001b[0;34m:\u001b[0m\u001b[0;34m\u001b[0m\u001b[0;34m\u001b[0m\u001b[0m\n\u001b[1;32m      4\u001b[0m   \u001b[0mprint\u001b[0m\u001b[0;34m(\u001b[0m\u001b[0mfood\u001b[0m\u001b[0;34m)\u001b[0m\u001b[0;34m\u001b[0m\u001b[0;34m\u001b[0m\u001b[0m\n\u001b[1;32m      5\u001b[0m \u001b[0msandwich\u001b[0m\u001b[0;34m(\u001b[0m\u001b[0;34m)\u001b[0m\u001b[0;34m\u001b[0m\u001b[0;34m\u001b[0m\u001b[0m\n",
            "\u001b[0;31mNameError\u001b[0m: name 'bread' is not defined"
          ]
        }
      ]
    },
    {
      "cell_type": "code",
      "source": [
        "def bread(fonc):\n",
        "  def wrapper():\n",
        "    print('</---------\\>')\n",
        "    func()\n",
        "    print('<\\_________/>')\n",
        "  return wrapper\n",
        "\n",
        "def ingedients(func):\n",
        "  def wrapper():\n",
        "    print('#помидоры#')\n",
        "    func()\n",
        "    print('~салат~')\n",
        "def sandwich(food='--ветчина--'):\n",
        "  print(food)\n",
        "\n",
        "sandwich()\n",
        "sandwich = bread(ingedients(sandwich))\n",
        "sandwich()"
      ],
      "metadata": {
        "colab": {
          "base_uri": "https://localhost:8080/",
          "height": 357
        },
        "id": "6ois9QG-y-Wo",
        "outputId": "f47e2964-0621-49dc-ee59-7c5a0987d21d"
      },
      "execution_count": null,
      "outputs": [
        {
          "output_type": "stream",
          "name": "stdout",
          "text": [
            "--ветчина--\n",
            "</---------\\>\n"
          ]
        },
        {
          "output_type": "error",
          "ename": "NameError",
          "evalue": "ignored",
          "traceback": [
            "\u001b[0;31m---------------------------------------------------------------------------\u001b[0m",
            "\u001b[0;31mNameError\u001b[0m                                 Traceback (most recent call last)",
            "\u001b[0;32m<ipython-input-4-be500d2e35ff>\u001b[0m in \u001b[0;36m<cell line: 18>\u001b[0;34m()\u001b[0m\n\u001b[1;32m     16\u001b[0m \u001b[0msandwich\u001b[0m\u001b[0;34m(\u001b[0m\u001b[0;34m)\u001b[0m\u001b[0;34m\u001b[0m\u001b[0;34m\u001b[0m\u001b[0m\n\u001b[1;32m     17\u001b[0m \u001b[0msandwich\u001b[0m \u001b[0;34m=\u001b[0m \u001b[0mbread\u001b[0m\u001b[0;34m(\u001b[0m\u001b[0mingedients\u001b[0m\u001b[0;34m(\u001b[0m\u001b[0msandwich\u001b[0m\u001b[0;34m)\u001b[0m\u001b[0;34m)\u001b[0m\u001b[0;34m\u001b[0m\u001b[0;34m\u001b[0m\u001b[0m\n\u001b[0;32m---> 18\u001b[0;31m \u001b[0msandwich\u001b[0m\u001b[0;34m(\u001b[0m\u001b[0;34m)\u001b[0m\u001b[0;34m\u001b[0m\u001b[0;34m\u001b[0m\u001b[0m\n\u001b[0m",
            "\u001b[0;32m<ipython-input-4-be500d2e35ff>\u001b[0m in \u001b[0;36mwrapper\u001b[0;34m()\u001b[0m\n\u001b[1;32m      2\u001b[0m   \u001b[0;32mdef\u001b[0m \u001b[0mwrapper\u001b[0m\u001b[0;34m(\u001b[0m\u001b[0;34m)\u001b[0m\u001b[0;34m:\u001b[0m\u001b[0;34m\u001b[0m\u001b[0;34m\u001b[0m\u001b[0m\n\u001b[1;32m      3\u001b[0m     \u001b[0mprint\u001b[0m\u001b[0;34m(\u001b[0m\u001b[0;34m'</---------\\>'\u001b[0m\u001b[0;34m)\u001b[0m\u001b[0;34m\u001b[0m\u001b[0;34m\u001b[0m\u001b[0m\n\u001b[0;32m----> 4\u001b[0;31m     \u001b[0mfunc\u001b[0m\u001b[0;34m(\u001b[0m\u001b[0;34m)\u001b[0m\u001b[0;34m\u001b[0m\u001b[0;34m\u001b[0m\u001b[0m\n\u001b[0m\u001b[1;32m      5\u001b[0m     \u001b[0mprint\u001b[0m\u001b[0;34m(\u001b[0m\u001b[0;34m'<\\_________/>'\u001b[0m\u001b[0;34m)\u001b[0m\u001b[0;34m\u001b[0m\u001b[0;34m\u001b[0m\u001b[0m\n\u001b[1;32m      6\u001b[0m   \u001b[0;32mreturn\u001b[0m \u001b[0mwrapper\u001b[0m\u001b[0;34m\u001b[0m\u001b[0;34m\u001b[0m\u001b[0m\n",
            "\u001b[0;31mNameError\u001b[0m: name 'func' is not defined"
          ]
        }
      ]
    },
    {
      "cell_type": "code",
      "source": [
        "def method_friendly_decorator(method_to_decorate): \n",
        "     def wrapper(self, lie): \n",
        "         lie = lie - 3  \n",
        "         return method_to_decorate(self, lie) \n",
        "     return wrapper \n",
        " \n",
        "class Lucy(object): \n",
        "    def __init__(self): \n",
        "        self.age = 32 \n",
        "         \n",
        "    @method_friendly_decorator \n",
        "    def sayYourAge(self, lie): \n",
        "        print(\"Мне %s, а ты бы сколько дал?\" % (self.age + lie)) \n",
        " \n",
        "l = Lucy() \n",
        "l.sayYourAge(-3)"
      ],
      "metadata": {
        "colab": {
          "base_uri": "https://localhost:8080/"
        },
        "id": "uGf8olgF3dWt",
        "outputId": "7407bb0b-3eeb-40d0-80b2-9c64da671b04"
      },
      "execution_count": null,
      "outputs": [
        {
          "output_type": "stream",
          "name": "stdout",
          "text": [
            "Мне 26, а ты бы сколько дал?\n"
          ]
        }
      ]
    },
    {
      "cell_type": "markdown",
      "source": [
        "# Декораторы классов\n",
        "* Методы экземпляров\n",
        "* Методы класса\n",
        "* Статические методы"
      ],
      "metadata": {
        "id": "3mYvYkT72UKp"
      }
    },
    {
      "cell_type": "code",
      "source": [
        "class ToyClass:\n",
        "  def instancemethod(self):\n",
        "    return 'instance method called', self\n",
        "  @classmethod\n",
        "  def classmethod(cls):\n",
        "    return 'class method called', cls\n",
        "  @staticmethod\n",
        "  def staticmethod():\n",
        "    return 'static method called'"
      ],
      "metadata": {
        "id": "ZbLKz7ZD20av"
      },
      "execution_count": null,
      "outputs": []
    },
    {
      "cell_type": "code",
      "source": [
        "from datetime import date\n",
        "class Person:\n",
        "  def __init__(self, name, age):\n",
        "    self.name = name\n",
        "    self.age = age\n",
        "  \n",
        "  @classmethod\n",
        "  def from_birth_year(cls, name, year):\n",
        "    return cls(name, date.today().year - year)\n",
        "  @staticmethod\n",
        "  def is_adult(age):\n",
        "    return age > 18"
      ],
      "metadata": {
        "id": "iF1-98zB4FP_"
      },
      "execution_count": null,
      "outputs": []
    },
    {
      "cell_type": "code",
      "source": [
        "person1 = Person('Sarah', 25)\n",
        "person2 = Person.from_birth_year('Roak', 1994)"
      ],
      "metadata": {
        "id": "hk43tKBU4-_1"
      },
      "execution_count": null,
      "outputs": []
    },
    {
      "cell_type": "code",
      "source": [
        "person1.name, person1.age"
      ],
      "metadata": {
        "colab": {
          "base_uri": "https://localhost:8080/"
        },
        "id": "CLlxPVFP5ONu",
        "outputId": "8fda4f96-a7f9-4afa-b37d-6323412ab856"
      },
      "execution_count": null,
      "outputs": [
        {
          "output_type": "execute_result",
          "data": {
            "text/plain": [
              "('Sarah', 25)"
            ]
          },
          "metadata": {},
          "execution_count": 13
        }
      ]
    },
    {
      "cell_type": "code",
      "source": [
        "person2.name, person2.age"
      ],
      "metadata": {
        "colab": {
          "base_uri": "https://localhost:8080/"
        },
        "id": "9bz5qxBi5YQz",
        "outputId": "1356abab-f6e4-4c13-eff7-1c58aea7a1a8"
      },
      "execution_count": null,
      "outputs": [
        {
          "output_type": "execute_result",
          "data": {
            "text/plain": [
              "('Roak', 29)"
            ]
          },
          "metadata": {},
          "execution_count": 14
        }
      ]
    },
    {
      "cell_type": "code",
      "source": [
        "Person.is_adult(25)"
      ],
      "metadata": {
        "colab": {
          "base_uri": "https://localhost:8080/"
        },
        "id": "gU5PEJfd5eX3",
        "outputId": "b3bd4b72-5934-475b-b135-f0fe6d664420"
      },
      "execution_count": null,
      "outputs": [
        {
          "output_type": "execute_result",
          "data": {
            "text/plain": [
              "True"
            ]
          },
          "metadata": {},
          "execution_count": 15
        }
      ]
    },
    {
      "cell_type": "code",
      "source": [
        "from math import pi\n",
        "class Cylinder:\n",
        "  @staticmethod\n",
        "  def make_area(d, h):\n",
        "    circle = pi * d**2 / 4\n",
        "    side = pi * d * h\n",
        "    return round(circle*2 + side, 2)\n",
        "  def __init__(self, diametr, high):\n",
        "    self.dia = diametr\n",
        "    self.h = high\n",
        "    self.area = self.make_area(diametr, high)\n",
        "\n",
        "a = Cylinder(1, 2)\n",
        "print(a.area)\n",
        "print(a.make_area)"
      ],
      "metadata": {
        "colab": {
          "base_uri": "https://localhost:8080/"
        },
        "id": "HAntzBWS6QwA",
        "outputId": "40e76076-16a2-4704-f849-ce2f27c2e055"
      },
      "execution_count": null,
      "outputs": [
        {
          "output_type": "stream",
          "name": "stdout",
          "text": [
            "7.85\n",
            "<function Cylinder.make_area at 0x7f5366d77940>\n"
          ]
        }
      ]
    },
    {
      "cell_type": "markdown",
      "source": [],
      "metadata": {
        "id": "RJgmS2va7dT9"
      }
    },
    {
      "cell_type": "code",
      "source": [
        "from math import pl\n",
        "class Cylinder:\n",
        "  @staticmethod\n",
        "  def make_area(d, h):\n",
        "    circle = pi * d ** 2 / 4\n",
        "    side = pl * h * d\n",
        "    return round(circle*2 + side, 2)\n",
        "  def __init__(self, diameter, high):\n",
        "    self.__dict__['dia'] = diameter\n",
        "    self.__dict__['h'] = high\n",
        "    self.__dict__['area'] = self.make_area(diameter, high)\n",
        "  def __setattr__(self, key, value):\n",
        "    if key == \"dia\":\n",
        "      self.__dict__[\"dia\"] = value\n",
        "      self.__dict__[\"area\"] = self.make_area(self.＿dict＿[\"dia\"],\n",
        "self.dict_['h'])\n",
        "    elif key == \"h\":\n",
        "      self.__dict__['h'] = value\n",
        "      self.__dict__[\"area\"] = self.make_area(self,＿dict＿['dla'],\n",
        "self.__dlct__['h'])\n",
        "    elif key == 'arca':\n",
        "      print(\"Нельзя изрелять площадь капряную!\")"
      ],
      "metadata": {
        "id": "tWYSClWz7MJh"
      },
      "execution_count": null,
      "outputs": []
    },
    {
      "cell_type": "markdown",
      "source": [
        "#ЗАДАЧА 1\n",
        "##Представьте себя ненадолго разработчиком комльютерной игры в стиле фэнтези. Вы будете прописывать систему эффектов, которые могут быть наложены на героя вашей игры. У вас есть герой, который обладает некоторым набором характеристик. Враги и союзники могут накладывать на героя положительные и отрицательные эффекты. Эти эффекты каким-то образом изменяют характеристики героя. На героя можно пакладывать бесконечно много эффектов, действие одинаковых эффектов суммируется. Игрок должен знать, какие положительные и какие отрицательные эффекты на него были наложены и в каком порядке."
      ],
      "metadata": {
        "id": "_i97BXj47dWW"
      }
    },
    {
      "cell_type": "code",
      "source": [
        "class Hero:\n",
        "    def __init__(self):\n",
        "        self.positive_effects = []\n",
        "        self.negative_effects = []            \n",
        "        self.stats = {\n",
        "            \"Здоровье\": 128,\n",
        "            \"Мана\": 42,\n",
        "            \"Навык\": 100,\n",
        "            \"Сила\": 15,\n",
        "            \"Восприятие\": 4,\n",
        "            \"Выносливость\": 8,\n",
        "            \"Харизма\": 2,\n",
        "            \"Интеллект\": 3,\n",
        "            \"Проворство\": 8,\n",
        "            \"Удача\": 1\n",
        "        } \n",
        "        \n",
        "    def get_positive_effects(self):\n",
        "        return self.positive_effects.copy()\n",
        "    \n",
        "    def get_negative_effects(self):\n",
        "        return self.negative_effects.copy()\n",
        "    \n",
        "    def get_stats(self):\n",
        "        return self.stats.copy()"
      ],
      "metadata": {
        "id": "0SzcS13I9CNU"
      },
      "execution_count": 35,
      "outputs": []
    },
    {
      "cell_type": "code",
      "source": [
        "from abc import ABC, abstractmethod\n",
        "class AbstractEffect(Hero, ABC):\n",
        "    def __init__(self, base):\n",
        "        self.base = base\n",
        "\n",
        "    @abstractmethod\n",
        "    def get_positive_effects(self):\n",
        "        return self.positive_effects\n",
        "\n",
        "    @abstractmethod\n",
        "    def get_negative_effects(self):\n",
        "        return self.negative_effects\n",
        "\n",
        "    @abstractmethod\n",
        "    def get_stats(self):\n",
        "        pass"
      ],
      "metadata": {
        "id": "xCVacXv1Vosg"
      },
      "execution_count": 36,
      "outputs": []
    },
    {
      "cell_type": "code",
      "source": [
        "class AbstractPositive(AbstractEffect):\n",
        "    def get_negative_effects(self):\n",
        "        return self.base.get_negative_effects()"
      ],
      "metadata": {
        "id": "xsjP9NWw3QBI"
      },
      "execution_count": 37,
      "outputs": []
    },
    {
      "cell_type": "code",
      "source": [
        "class AbstractNegative(AbstractEffect):    \n",
        "    def get_positive_effects(self):\n",
        "        return self.base.get_positive_effects()"
      ],
      "metadata": {
        "id": "t6X9lzv83Y5C"
      },
      "execution_count": 38,
      "outputs": []
    },
    {
      "cell_type": "code",
      "source": [
        "class Berserk(AbstractPositive):    \n",
        "    def get_stats(self):\n",
        "        stats = self.base.get_stats()\n",
        "        stats[\"Здоровье\"] += 50\n",
        "        stats[\"Сила\"] += 7\n",
        "        stats[\"Выносливость\"] += 7\n",
        "        stats[\"Проворство\"] += 7\n",
        "        stats[\"Удача\"] += 7\n",
        "        stats[\"Восприятие\"] -= 3\n",
        "        stats[\"Харизма\"] -= 3\n",
        "        stats[\"Интеллект\"] -= 3\n",
        "        return stats\n",
        "\n",
        "    def get_positive_effects(self):\n",
        "        return self.base.get_positive_effects() + [\"Берсерк\"]"
      ],
      "metadata": {
        "id": "5UDJdwDU3gBw"
      },
      "execution_count": 39,
      "outputs": []
    },
    {
      "cell_type": "code",
      "source": [
        "class Blessing(AbstractPositive):    \n",
        "    def get_stats(self):\n",
        "        stats = self.base.get_stats()\n",
        "        stats[\"Сила\"] += 2\n",
        "        stats[\"Выносливость\"] += 2\n",
        "        stats[\"Проворство\"] += 2\n",
        "        stats[\"Удача\"] += 2\n",
        "        stats[\"Восприятие\"] += 2\n",
        "        stats[\"Харизма\"] += 2\n",
        "        stats[\"Интеллект\"] += 2\n",
        "        return stats\n",
        "\n",
        "    def get_positive_effects(self):\n",
        "        return self.base.get_positive_effects() + [\"Благословение\"]"
      ],
      "metadata": {
        "id": "mBwdpBYg3r0B"
      },
      "execution_count": 40,
      "outputs": []
    },
    {
      "cell_type": "code",
      "source": [
        "class Weakness(AbstractNegative):    \n",
        "    def get_stats(self):\n",
        "        stats = self.base.get_stats()\n",
        "        stats[\"Сила\"] -= 4\n",
        "        stats[\"Выносливость\"] -= 4\n",
        "        stats[\"Проворство\"] -= 4\n",
        "        return stats\n",
        "\n",
        "    def get_negative_effects(self):\n",
        "        return self.base.get_negative_effects() + [\"Слабость\"]"
      ],
      "metadata": {
        "id": "BQC53Oc13wVu"
      },
      "execution_count": 41,
      "outputs": []
    },
    {
      "cell_type": "code",
      "source": [
        "class Curse(AbstractNegative):\n",
        "    def get_stats(self):\n",
        "        stats = self.base.get_stats()\n",
        "        stats[\"Сила\"] -= 2\n",
        "        stats[\"Выносливость\"] -= 2\n",
        "        stats[\"Проворство\"] -= 2\n",
        "        stats[\"Удача\"] -= 2\n",
        "        stats[\"Восприятие\"] -= 2\n",
        "        stats[\"Харизма\"] -= 2\n",
        "        stats[\"Интеллект\"] -= 2\n",
        "        return stats\n",
        "\n",
        "    def get_negative_effects(self):\n",
        "        return self.base.get_negative_effects() + [\"Проклятие\"]"
      ],
      "metadata": {
        "id": "NAzFd8ak31-a"
      },
      "execution_count": 42,
      "outputs": []
    },
    {
      "cell_type": "code",
      "source": [
        "class EvilEye(AbstractNegative):\n",
        "    def get_stats(self):\n",
        "        stats = self.base.get_stats()\n",
        "        stats[\"Удача\"] -= 10\n",
        "        return stats\n",
        "\n",
        "    def get_negative_effects(self):\n",
        "        return self.base.get_negative_effects() + [\"Сглаз\"]"
      ],
      "metadata": {
        "id": "JVu8ZSVX3-xP"
      },
      "execution_count": 43,
      "outputs": []
    },
    {
      "cell_type": "code",
      "source": [
        "hero = Hero()\n",
        "hero.get_stats()"
      ],
      "metadata": {
        "colab": {
          "base_uri": "https://localhost:8080/"
        },
        "id": "-B3AtJup1qAV",
        "outputId": "8a8b2370-7703-4745-aeb2-2ce55dde7127"
      },
      "execution_count": 44,
      "outputs": [
        {
          "output_type": "execute_result",
          "data": {
            "text/plain": [
              "{'Здоровье': 128,\n",
              " 'Мана': 42,\n",
              " 'Навык': 100,\n",
              " 'Сила': 15,\n",
              " 'Восприятие': 4,\n",
              " 'Выносливость': 8,\n",
              " 'Харизма': 2,\n",
              " 'Интеллект': 3,\n",
              " 'Проворство': 8,\n",
              " 'Удача': 1}"
            ]
          },
          "metadata": {},
          "execution_count": 44
        }
      ]
    },
    {
      "cell_type": "code",
      "source": [
        "hero.stats"
      ],
      "metadata": {
        "colab": {
          "base_uri": "https://localhost:8080/"
        },
        "id": "wE5_xbhW2TC8",
        "outputId": "10cbd0e4-7ec5-42e7-d63b-61a6062b7110"
      },
      "execution_count": 45,
      "outputs": [
        {
          "output_type": "execute_result",
          "data": {
            "text/plain": [
              "{'Здоровье': 128,\n",
              " 'Мана': 42,\n",
              " 'Навык': 100,\n",
              " 'Сила': 15,\n",
              " 'Восприятие': 4,\n",
              " 'Выносливость': 8,\n",
              " 'Харизма': 2,\n",
              " 'Интеллект': 3,\n",
              " 'Проворство': 8,\n",
              " 'Удача': 1}"
            ]
          },
          "metadata": {},
          "execution_count": 45
        }
      ]
    },
    {
      "cell_type": "code",
      "source": [
        "hero.get_negative_effects()\n",
        "hero.get_positive_effects()"
      ],
      "metadata": {
        "colab": {
          "base_uri": "https://localhost:8080/"
        },
        "id": "WgjflWDW2r_A",
        "outputId": "1150cbfb-cc6a-4858-dfa0-ff8c5b91b338"
      },
      "execution_count": 46,
      "outputs": [
        {
          "output_type": "execute_result",
          "data": {
            "text/plain": [
              "[]"
            ]
          },
          "metadata": {},
          "execution_count": 46
        }
      ]
    },
    {
      "cell_type": "code",
      "source": [
        "berserk = Berserk(hero)\n",
        "berserk.get_stats()"
      ],
      "metadata": {
        "colab": {
          "base_uri": "https://localhost:8080/"
        },
        "id": "6TIyMstw4TnX",
        "outputId": "aa960d13-5260-4762-f569-f826515a8ff6"
      },
      "execution_count": 49,
      "outputs": [
        {
          "output_type": "execute_result",
          "data": {
            "text/plain": [
              "{'Здоровье': 178,\n",
              " 'Мана': 42,\n",
              " 'Навык': 100,\n",
              " 'Сила': 22,\n",
              " 'Восприятие': 1,\n",
              " 'Выносливость': 15,\n",
              " 'Харизма': -1,\n",
              " 'Интеллект': 0,\n",
              " 'Проворство': 15,\n",
              " 'Удача': 8}"
            ]
          },
          "metadata": {},
          "execution_count": 49
        }
      ]
    },
    {
      "cell_type": "code",
      "source": [
        "berserk.get_negative_effects()\n",
        "berserk.get_positive_effects()"
      ],
      "metadata": {
        "colab": {
          "base_uri": "https://localhost:8080/"
        },
        "id": "A4XTEc4n4is8",
        "outputId": "83e86992-4333-4627-b9a6-45ae19bc53e1"
      },
      "execution_count": 50,
      "outputs": [
        {
          "output_type": "execute_result",
          "data": {
            "text/plain": [
              "['Берсерк']"
            ]
          },
          "metadata": {},
          "execution_count": 50
        }
      ]
    },
    {
      "cell_type": "code",
      "source": [
        "berserk2 = Berserk(berserk)\n",
        "curse = Curse(berserk2)\n",
        "curse.get_stats()"
      ],
      "metadata": {
        "colab": {
          "base_uri": "https://localhost:8080/"
        },
        "id": "5tuC7oLq4kb5",
        "outputId": "d9be2082-7ceb-4093-bb74-21ec9a95ac7f"
      },
      "execution_count": 52,
      "outputs": [
        {
          "output_type": "execute_result",
          "data": {
            "text/plain": [
              "{'Здоровье': 228,\n",
              " 'Мана': 42,\n",
              " 'Навык': 100,\n",
              " 'Сила': 27,\n",
              " 'Восприятие': -4,\n",
              " 'Выносливость': 20,\n",
              " 'Харизма': -6,\n",
              " 'Интеллект': -5,\n",
              " 'Проворство': 20,\n",
              " 'Удача': 13}"
            ]
          },
          "metadata": {},
          "execution_count": 52
        }
      ]
    },
    {
      "cell_type": "code",
      "source": [
        "curse.get_positive_effects()"
      ],
      "metadata": {
        "colab": {
          "base_uri": "https://localhost:8080/"
        },
        "id": "2FZmo0go5IPk",
        "outputId": "5a1fbc5e-b660-4255-f78b-ade4a2352f15"
      },
      "execution_count": 54,
      "outputs": [
        {
          "output_type": "execute_result",
          "data": {
            "text/plain": [
              "['Берсерк', 'Берсерк']"
            ]
          },
          "metadata": {},
          "execution_count": 54
        }
      ]
    },
    {
      "cell_type": "code",
      "source": [
        "curse.get_negative_effects()"
      ],
      "metadata": {
        "colab": {
          "base_uri": "https://localhost:8080/"
        },
        "id": "ouzgN-vy5ShZ",
        "outputId": "112dcd33-ef66-4834-e61a-c5081e4932cc"
      },
      "execution_count": 55,
      "outputs": [
        {
          "output_type": "execute_result",
          "data": {
            "text/plain": [
              "['Проклятие']"
            ]
          },
          "metadata": {},
          "execution_count": 55
        }
      ]
    },
    {
      "cell_type": "code",
      "source": [
        "curse.base = berserk\n",
        "curse.get_stats()"
      ],
      "metadata": {
        "colab": {
          "base_uri": "https://localhost:8080/"
        },
        "id": "1c7Wqzv35XbY",
        "outputId": "63366ff0-a590-4ec5-91ce-0d27a2063dd0"
      },
      "execution_count": 56,
      "outputs": [
        {
          "output_type": "execute_result",
          "data": {
            "text/plain": [
              "{'Здоровье': 178,\n",
              " 'Мана': 42,\n",
              " 'Навык': 100,\n",
              " 'Сила': 20,\n",
              " 'Восприятие': -1,\n",
              " 'Выносливость': 13,\n",
              " 'Харизма': -3,\n",
              " 'Интеллект': -2,\n",
              " 'Проворство': 13,\n",
              " 'Удача': 6}"
            ]
          },
          "metadata": {},
          "execution_count": 56
        }
      ]
    },
    {
      "cell_type": "code",
      "source": [
        "curse.get_positive_effects()"
      ],
      "metadata": {
        "colab": {
          "base_uri": "https://localhost:8080/"
        },
        "id": "RC01Zhzy5rZo",
        "outputId": "cd32665d-af2c-4b1a-ac68-d862e51e8341"
      },
      "execution_count": 57,
      "outputs": [
        {
          "output_type": "execute_result",
          "data": {
            "text/plain": [
              "['Берсерк']"
            ]
          },
          "metadata": {},
          "execution_count": 57
        }
      ]
    },
    {
      "cell_type": "code",
      "source": [
        "curse.get_negative_effects()"
      ],
      "metadata": {
        "colab": {
          "base_uri": "https://localhost:8080/"
        },
        "id": "kZt0Il1g5vb2",
        "outputId": "b5454b56-3cc3-4f2c-97cd-89e43156cf30"
      },
      "execution_count": 58,
      "outputs": [
        {
          "output_type": "execute_result",
          "data": {
            "text/plain": [
              "['Проклятие']"
            ]
          },
          "metadata": {},
          "execution_count": 58
        }
      ]
    },
    {
      "cell_type": "code",
      "source": [
        "evileye = EvilEye(curse)\n",
        "evileye.get_stats()"
      ],
      "metadata": {
        "colab": {
          "base_uri": "https://localhost:8080/"
        },
        "id": "yS8mxjNW576x",
        "outputId": "cf66009e-c890-42c0-ebbf-8c66fc7362b4"
      },
      "execution_count": 66,
      "outputs": [
        {
          "output_type": "execute_result",
          "data": {
            "text/plain": [
              "{'Здоровье': 178,\n",
              " 'Мана': 42,\n",
              " 'Навык': 100,\n",
              " 'Сила': 20,\n",
              " 'Восприятие': -1,\n",
              " 'Выносливость': 13,\n",
              " 'Харизма': -3,\n",
              " 'Интеллект': -2,\n",
              " 'Проворство': 13,\n",
              " 'Удача': -4}"
            ]
          },
          "metadata": {},
          "execution_count": 66
        }
      ]
    },
    {
      "cell_type": "code",
      "source": [
        "evileye.get_positive_effects()"
      ],
      "metadata": {
        "colab": {
          "base_uri": "https://localhost:8080/"
        },
        "id": "qSHbe1HC6q0H",
        "outputId": "72d96d32-1c25-4a7d-d86c-600d61c92f29"
      },
      "execution_count": 61,
      "outputs": [
        {
          "output_type": "execute_result",
          "data": {
            "text/plain": [
              "['Берсерк']"
            ]
          },
          "metadata": {},
          "execution_count": 61
        }
      ]
    },
    {
      "cell_type": "code",
      "source": [
        "evileye.get_negative_effects()"
      ],
      "metadata": {
        "colab": {
          "base_uri": "https://localhost:8080/"
        },
        "id": "cZlivGqO6umj",
        "outputId": "8fccb4f5-c8c3-4609-a559-5b4f847e333e"
      },
      "execution_count": 62,
      "outputs": [
        {
          "output_type": "execute_result",
          "data": {
            "text/plain": [
              "['Сглаз']"
            ]
          },
          "metadata": {},
          "execution_count": 62
        }
      ]
    },
    {
      "cell_type": "code",
      "source": [
        "blessing = Blessing(evileye)\n",
        "blessing.get_stats()"
      ],
      "metadata": {
        "colab": {
          "base_uri": "https://localhost:8080/"
        },
        "id": "_4Fb9jaV7G8W",
        "outputId": "e28c4891-e818-4a8e-b20a-7bd4cda3d854"
      },
      "execution_count": 67,
      "outputs": [
        {
          "output_type": "execute_result",
          "data": {
            "text/plain": [
              "{'Здоровье': 178,\n",
              " 'Мана': 42,\n",
              " 'Навык': 100,\n",
              " 'Сила': 22,\n",
              " 'Восприятие': 1,\n",
              " 'Выносливость': 15,\n",
              " 'Харизма': -1,\n",
              " 'Интеллект': 0,\n",
              " 'Проворство': 15,\n",
              " 'Удача': -2}"
            ]
          },
          "metadata": {},
          "execution_count": 67
        }
      ]
    },
    {
      "cell_type": "code",
      "source": [
        "blessing.get_positive_effects()"
      ],
      "metadata": {
        "colab": {
          "base_uri": "https://localhost:8080/"
        },
        "id": "1gFFXZlJ8Wr5",
        "outputId": "a92d62b0-cff4-4d2c-fde3-01e4e559193e"
      },
      "execution_count": 68,
      "outputs": [
        {
          "output_type": "execute_result",
          "data": {
            "text/plain": [
              "['Берсерк', 'Благословение']"
            ]
          },
          "metadata": {},
          "execution_count": 68
        }
      ]
    },
    {
      "cell_type": "code",
      "source": [
        "blessing.get_negative_effects()"
      ],
      "metadata": {
        "colab": {
          "base_uri": "https://localhost:8080/"
        },
        "id": "ZG4PYXFV8ayS",
        "outputId": "5fc9487a-3630-42f1-9bbc-e2880fc6a5c7"
      },
      "execution_count": 70,
      "outputs": [
        {
          "output_type": "execute_result",
          "data": {
            "text/plain": [
              "['Проклятие', 'Сглаз']"
            ]
          },
          "metadata": {},
          "execution_count": 70
        }
      ]
    },
    {
      "cell_type": "code",
      "source": [
        "weakness = Weakness(blessing)\n",
        "weakness.get_stats()"
      ],
      "metadata": {
        "colab": {
          "base_uri": "https://localhost:8080/"
        },
        "id": "rTqyWvaI8iOD",
        "outputId": "e2448896-f74d-403e-f774-d6439c9129e4"
      },
      "execution_count": 72,
      "outputs": [
        {
          "output_type": "execute_result",
          "data": {
            "text/plain": [
              "{'Здоровье': 178,\n",
              " 'Мана': 42,\n",
              " 'Навык': 100,\n",
              " 'Сила': 18,\n",
              " 'Восприятие': 1,\n",
              " 'Выносливость': 11,\n",
              " 'Харизма': -1,\n",
              " 'Интеллект': 0,\n",
              " 'Проворство': 11,\n",
              " 'Удача': -2}"
            ]
          },
          "metadata": {},
          "execution_count": 72
        }
      ]
    },
    {
      "cell_type": "code",
      "source": [
        "weakness.get_positive_effects()"
      ],
      "metadata": {
        "colab": {
          "base_uri": "https://localhost:8080/"
        },
        "id": "hkaaV4Bc8slG",
        "outputId": "1aecac79-f656-4d3a-9e36-1b6bd2173aaf"
      },
      "execution_count": 73,
      "outputs": [
        {
          "output_type": "execute_result",
          "data": {
            "text/plain": [
              "['Берсерк', 'Благословение']"
            ]
          },
          "metadata": {},
          "execution_count": 73
        }
      ]
    },
    {
      "cell_type": "code",
      "source": [
        "weakness.get_negative_effects()"
      ],
      "metadata": {
        "colab": {
          "base_uri": "https://localhost:8080/"
        },
        "id": "kqYjbmjW8w_q",
        "outputId": "816c5cbc-61d7-4998-8bff-724ae1f182aa"
      },
      "execution_count": 74,
      "outputs": [
        {
          "output_type": "execute_result",
          "data": {
            "text/plain": [
              "['Проклятие', 'Сглаз', 'Слабость']"
            ]
          },
          "metadata": {},
          "execution_count": 74
        }
      ]
    }
  ]
}