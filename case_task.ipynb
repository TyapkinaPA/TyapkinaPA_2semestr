{
  "nbformat": 4,
  "nbformat_minor": 0,
  "metadata": {
    "colab": {
      "provenance": [],
      "authorship_tag": "ABX9TyPexPZKbjyDeFirzYCXwS2W",
      "include_colab_link": true
    },
    "kernelspec": {
      "name": "python3",
      "display_name": "Python 3"
    },
    "language_info": {
      "name": "python"
    }
  },
  "cells": [
    {
      "cell_type": "markdown",
      "metadata": {
        "id": "view-in-github",
        "colab_type": "text"
      },
      "source": [
        "<a href=\"https://colab.research.google.com/github/TyapkinaPA/TyapkinaPA_2semestr/blob/main/case_task.ipynb\" target=\"_parent\"><img src=\"https://colab.research.google.com/assets/colab-badge.svg\" alt=\"Open In Colab\"/></a>"
      ]
    },
    {
      "cell_type": "markdown",
      "source": [
        "#КЕЙС-ЗАДАЧА\n",
        "#«ПОКУПКА ДОМА»\n",
        "С использованием парадигм ООП и средств Python в рамках\n",
        "данной задачи необходимо реализовать следующую предметную\n",
        "структуру:\n",
        "\n",
        "**Классовая структура**\n",
        "\n",
        "Есть Человек, характеристиками которого являются:\n",
        "1.\t Имя.\n",
        "2.\t Возраст.\n",
        "3.\t Наличие денег.\n",
        "4.\t Наличие собственного жилья.\n",
        "**Человек** может:\n",
        "1.\t Предоставить информацию о себе.\n",
        "2.\t Заработать деньги.\n",
        "3.\t Купить дом.\n",
        "Также же есть **Дом**, к свойствам которого относятся:\n",
        "1.\t Площадь.\n",
        "2.\t Стоимость.\n",
        "Для **Дома** можно:\n",
        "1.\t Применить скидку на покупку.\n",
        "\n",
        "Также есть **Небольшой Типовой Дом**, обязательной площадью 50м2."
      ],
      "metadata": {
        "id": "bH-rNew0R4b4"
      }
    },
    {
      "cell_type": "markdown",
      "source": [
        "**Задание. Часть 1. Класс Human**\n",
        "\n",
        "Создайте класс **Human**.\n",
        "1.\t Определите для него два статических поля: **default_name**\n",
        "и **default_age**.\n",
        "2.\t Создайте метод **__init __()**, который помимо self принимает еще два параметра: **name** и **age**. Для этих параметров задайте значения по умолчанию, используя свойства **default_name**\n",
        "и **default_age**. В методе **__init __()** определите четыре свойства:\n",
        "публичные — **name** и **age**. приватные — **money** и **house**.\n",
        "3.\t Реализуйте справочный метод **info()**, который будет выводить поля **name**, **age**, **house** и **money**.\n",
        "4.\t Реализуйте справочный статический метод **default_info()**, который будет выводить статические поля **default_name** и **default_age**.\n",
        "5.\t Реализуйте приватный метод **make_deal()**, который будет\n",
        "отвечать за техническую реализацию покупки дома: уменьшать\n",
        "количество денег на счету и присваивать ссылку на только что\n",
        "купленный дом. В качестве аргументов данный метод принимает\n",
        "объект дома и его цену.\n",
        "6.\t Реализуйте метод **earn_money()**, увеличивающий значение\n",
        "свойства **money**.\n",
        "7.\t Реализуйте метод **buy_house()**, который будет проверять,\n",
        "что у человека достаточно денег для покупки, и совершать сделку. Если денег слишком мало, нужно вывести предупреждение\n",
        "в консоль. Параметры метода: ссылка на дом и размер скидки"
      ],
      "metadata": {
        "id": "ZBBVlGJWZ-Dy"
      }
    },
    {
      "cell_type": "code",
      "source": [
        "class Human:\n",
        "    default_name = \"Тимофей\"\n",
        "    default_age = 22\n",
        "\n",
        "    def __init__(self, name=default_name, age=default_age):\n",
        "        self.name = name\n",
        "        self.age = age\n",
        "        self.__money = 0\n",
        "        self.__house = None\n",
        "\n",
        "    def info(self):\n",
        "        print(f\"\\n Имя: {self.name}, Возраст: {self.age}\\n Бюджет: {self.__money}\\n Дом: {self.__house.area if self.__house else None}\")\n",
        "\n",
        "    @staticmethod\n",
        "    def default_info():\n",
        "        print(f\"\\n Имя по умолчанию: {Human.default_name}\\n Возраст по умолчанию: {Human.default_age}\")\n",
        "        print(\"~\" * 7)\n",
        "\n",
        "    def __make_deal(self, house, price):\n",
        "        if self.__money >= price:\n",
        "            self.__house = house\n",
        "            self.__money -= price\n",
        "            print(f\"{self.name} купил(а) дом ценой {price} единиц денег\")\n",
        "        else:\n",
        "            print(f\"У клиента {self.name} недостаточно средств для оплаты приобретения дома\")\n",
        "\n",
        "    def earn_money(self, amount):\n",
        "        self.__money += amount\n",
        "        print(f\"{self.name} заработал(а) {amount} единиц денег, итог: {self.__money}\")\n",
        "\n",
        "    def buy_house(self, house, discount):\n",
        "        price = house.final_price(discount)\n",
        "        self.__make_deal(house, price)"
      ],
      "metadata": {
        "id": "tXYm81fOcr_J"
      },
      "execution_count": 39,
      "outputs": []
    },
    {
      "cell_type": "markdown",
      "source": [
        "**Задание. Часть 2. Класс House**\n",
        "1.\t Создайте класс **House**.\n",
        "2.\t Создайте метод **__init __()** и определите внутри него два динамических свойства: **_area** и **_price**. Свои начальные значения\n",
        "они получают из параметров метода **__init __()**.\n",
        "3.\t Создайте метод **final_price()**, который принимает в качестве\n",
        "параметра размер скидки и возвращает цену с учетом данной\n",
        "скидки."
      ],
      "metadata": {
        "id": "wp2DdJoVXb0-"
      }
    },
    {
      "cell_type": "code",
      "source": [
        "class House:\n",
        "    def __init__(self, area, price):\n",
        "        self._area = area\n",
        "        self._price = price\n",
        "\n",
        "    def final_price(self, discount):\n",
        "        final_price = self._price - self._price * discount / 100\n",
        "        return final_price"
      ],
      "metadata": {
        "id": "mH39fG4pX-lh"
      },
      "execution_count": 30,
      "outputs": []
    },
    {
      "cell_type": "markdown",
      "source": [
        "**Задание. Часть 3. Класс SmallHouse**\n",
        "1.\t Создайте класс **SmallHouse**, унаследовав его функционал\n",
        "от класса **House**.\n",
        "2.\t Внутри класса **SmallHouse** переопределите метод **__init __()**\n",
        "так, чтобы он создавал объект с площадью 40 м2."
      ],
      "metadata": {
        "id": "eH9DXTaeX_J8"
      }
    },
    {
      "cell_type": "code",
      "source": [
        "class SmallHouse(House):\n",
        "    def __init__(self, price):\n",
        "        super().__init__(40, price)"
      ],
      "metadata": {
        "id": "kcfWrN3zYKiU"
      },
      "execution_count": 31,
      "outputs": []
    },
    {
      "cell_type": "markdown",
      "source": [
        "**Задание. Часть 4. Тесты**\n",
        "1.\t Вызовите справочный метод **default_info()** для класса **Human**.\n",
        "2.\t Создайте объект класса **Human**.\n",
        "3.\t Выведите справочную информацию о созданном объекте\n",
        "(вызовите метод **info()**).\n",
        "4.\t Создайте объект класса **SmallHouse**.\n",
        "5.\t Попробуйте купить созданный дом, убедитесь в получении\n",
        "предупреждения.\n",
        "6.\t Поправьте финансовое положение объекта — вызовите\n",
        "метод **earn_money()**.\n",
        "7.\t Снова попробуйте купить дом.\n",
        "8.\t Посмотрите, как изменилось состояние объекта класса **Human**."
      ],
      "metadata": {
        "id": "eayZNrTBYK98"
      }
    },
    {
      "cell_type": "code",
      "source": [
        "# вызов справочного метода default_info()\n",
        "Human.default_info()\n",
        "\n",
        "# создание объекта класса Human\n",
        "person = Human(\"Марьяна\", 36)\n",
        "\n",
        "# вывод справочной информации о созданном объекте\n",
        "person.info()"
      ],
      "metadata": {
        "id": "ZvLKefK4ZBkN",
        "colab": {
          "base_uri": "https://localhost:8080/"
        },
        "outputId": "ce743106-7f8a-4fab-8aa3-b31b0a4d6024"
      },
      "execution_count": 40,
      "outputs": [
        {
          "output_type": "stream",
          "name": "stdout",
          "text": [
            "\n",
            " Имя по умолчанию: Тимофей\n",
            " Возраст по умолчанию: 22\n",
            "~~~~~~~\n",
            "\n",
            " Имя: Марьяна, Возраст: 36\n",
            " Бюджет: 0\n",
            " Дом: None\n"
          ]
        }
      ]
    },
    {
      "cell_type": "code",
      "source": [
        "# создание объекта класса SmallHouse\n",
        "small_house = SmallHouse(50000)\n",
        "\n",
        "# попытка купить дом, получение предупреждения\n",
        "person.buy_house(small_house, 10)\n",
        "\n",
        "# изменение финансового положения\n",
        "person.earn_money(60000)\n",
        "\n",
        "# повторная попытка купить дом\n",
        "person.buy_house(small_house, 10)"
      ],
      "metadata": {
        "colab": {
          "base_uri": "https://localhost:8080/"
        },
        "id": "smK2HnyihzwL",
        "outputId": "e156437d-9957-40fe-cb3a-7fc12ca3dcf0"
      },
      "execution_count": 35,
      "outputs": [
        {
          "output_type": "stream",
          "name": "stdout",
          "text": [
            "У клиента Марьяна недостаточно средств для оплаты приобретения дома\n",
            "Марьяна заработал(а) 60000 единиц денег, итог: 60000\n",
            "Марьяна купил(а) дом за 45000.0 единиц денег\n"
          ]
        }
      ]
    },
    {
      "cell_type": "code",
      "source": [
        "# вывод справочной информации о созданном объекте после покупки дома\n",
        "person.info()"
      ],
      "metadata": {
        "colab": {
          "base_uri": "https://localhost:8080/",
          "height": 322
        },
        "id": "6bCihTZ1h6N3",
        "outputId": "e78047c9-4688-4a6b-8ae6-2c8957f96047"
      },
      "execution_count": 36,
      "outputs": [
        {
          "output_type": "error",
          "ename": "AttributeError",
          "evalue": "ignored",
          "traceback": [
            "\u001b[0;31m---------------------------------------------------------------------------\u001b[0m",
            "\u001b[0;31mAttributeError\u001b[0m                            Traceback (most recent call last)",
            "\u001b[0;32m<ipython-input-36-cf07b6eb738f>\u001b[0m in \u001b[0;36m<cell line: 2>\u001b[0;34m()\u001b[0m\n\u001b[1;32m      1\u001b[0m \u001b[0;31m# вывод справочной информации о созданном объекте после покупки дома\u001b[0m\u001b[0;34m\u001b[0m\u001b[0;34m\u001b[0m\u001b[0m\n\u001b[0;32m----> 2\u001b[0;31m \u001b[0mperson\u001b[0m\u001b[0;34m.\u001b[0m\u001b[0minfo\u001b[0m\u001b[0;34m(\u001b[0m\u001b[0;34m)\u001b[0m\u001b[0;34m\u001b[0m\u001b[0;34m\u001b[0m\u001b[0m\n\u001b[0m",
            "\u001b[0;32m<ipython-input-29-b0384e423cfe>\u001b[0m in \u001b[0;36minfo\u001b[0;34m(self)\u001b[0m\n\u001b[1;32m     10\u001b[0m \u001b[0;34m\u001b[0m\u001b[0m\n\u001b[1;32m     11\u001b[0m     \u001b[0;32mdef\u001b[0m \u001b[0minfo\u001b[0m\u001b[0;34m(\u001b[0m\u001b[0mself\u001b[0m\u001b[0;34m)\u001b[0m\u001b[0;34m:\u001b[0m\u001b[0;34m\u001b[0m\u001b[0;34m\u001b[0m\u001b[0m\n\u001b[0;32m---> 12\u001b[0;31m         \u001b[0mprint\u001b[0m\u001b[0;34m(\u001b[0m\u001b[0;34mf\"\\n Имя: {self.name}, Возраст: {self.age}\\n Бюджет: {self.__money}\\n Дом: {self.__house.area if self.__house else None}\"\u001b[0m\u001b[0;34m)\u001b[0m\u001b[0;34m\u001b[0m\u001b[0;34m\u001b[0m\u001b[0m\n\u001b[0m\u001b[1;32m     13\u001b[0m         \u001b[0mprint\u001b[0m\u001b[0;34m(\u001b[0m\u001b[0;34m\"~\"\u001b[0m \u001b[0;34m*\u001b[0m \u001b[0;36m7\u001b[0m\u001b[0;34m)\u001b[0m\u001b[0;34m\u001b[0m\u001b[0;34m\u001b[0m\u001b[0m\n\u001b[1;32m     14\u001b[0m     \u001b[0;34m@\u001b[0m\u001b[0mstaticmethod\u001b[0m\u001b[0;34m\u001b[0m\u001b[0;34m\u001b[0m\u001b[0m\n",
            "\u001b[0;31mAttributeError\u001b[0m: 'SmallHouse' object has no attribute 'area'"
          ]
        }
      ]
    }
  ]
}