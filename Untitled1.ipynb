{
  "nbformat": 4,
  "nbformat_minor": 0,
  "metadata": {
    "colab": {
      "provenance": [],
      "authorship_tag": "ABX9TyNxds867PpqiifskJQU9ymK",
      "include_colab_link": true
    },
    "kernelspec": {
      "name": "python3",
      "display_name": "Python 3"
    },
    "language_info": {
      "name": "python"
    }
  },
  "cells": [
    {
      "cell_type": "markdown",
      "metadata": {
        "id": "view-in-github",
        "colab_type": "text"
      },
      "source": [
        "<a href=\"https://colab.research.google.com/github/TyapkinaPA/TyapkinaPA_2semestr/blob/main/Untitled1.ipynb\" target=\"_parent\"><img src=\"https://colab.research.google.com/assets/colab-badge.svg\" alt=\"Open In Colab\"/></a>"
      ]
    },
    {
      "cell_type": "code",
      "execution_count": 12,
      "metadata": {
        "id": "FnGonOHb9k6g"
      },
      "outputs": [],
      "source": [
        "class Album:\n",
        "  def __init__(self, name_alb, gruppa):\n",
        "    self.name_alb = name_alb\n",
        "    self.gruppa = gruppa\n",
        "    self.spisok = []\n",
        "    self.dlitel = 0\n",
        "    self.number_tr = 1\n",
        "\n",
        "  def GetTracks(self):\n",
        "    print(\"Список треков в альбоме '{}' группы '{}' \".format(self.name_alb, self.gruppa))\n",
        "    for i in self.spisok:\n",
        "      print(i)           \n",
        "  \n",
        "  def AddTrack(self, name_tr, dlitelnost, number):\n",
        "    self.spisok.append(\"Добавление new track \\n <{} - {}>\".format(self.name_tr, self.dlitel))\n",
        "    self.dlitel += dlitelnost\n",
        "    for x in self.spisok[number-1]:\n",
        "      if x.isdigit():\n",
        "        self.dlitel -= int(x)\n",
        "    self.spisok.pop(number-1)\n",
        "\n",
        "  def GetDyration(self):\n",
        "      print('Общая длительность треков: {}'.format(self.dlitel))\n",
        "\n",
        "\n",
        "class Track:\n",
        "  def __init__(self, name_tr, dlitelnost):\n",
        " "
      ]
    }
  ]
}