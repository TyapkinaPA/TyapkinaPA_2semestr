{
  "nbformat": 4,
  "nbformat_minor": 0,
  "metadata": {
    "colab": {
      "provenance": [],
      "include_colab_link": true
    },
    "kernelspec": {
      "name": "python3",
      "display_name": "Python 3"
    },
    "language_info": {
      "name": "python"
    }
  },
  "cells": [
    {
      "cell_type": "markdown",
      "metadata": {
        "id": "view-in-github",
        "colab_type": "text"
      },
      "source": [
        "<a href=\"https://colab.research.google.com/github/TyapkinaPA/TyapkinaPA_2semestr/blob/main/%D0%BC%D0%B0%D1%80%D1%82_%D0%BB%D0%B5%D0%BA%D1%86%D0%B8%D1%8F_3_ipynb%22.ipynb\" target=\"_parent\"><img src=\"https://colab.research.google.com/assets/colab-badge.svg\" alt=\"Open In Colab\"/></a>"
      ]
    },
    {
      "cell_type": "markdown",
      "source": [
        "# Переопределение и перегрузка методов\n",
        "- переопределение метода - прием в ооп, позволяющий классам-потомкам реализовывать новое поведение метода, определенного в родительском классе\n",
        "- перегрузка метода - определение метода с тем же именем, но отличающегося в сигнатуре"
      ],
      "metadata": {
        "id": "zNRD0LzH75ST"
      }
    },
    {
      "cell_type": "code",
      "execution_count": null,
      "metadata": {
        "id": "AWsIJEjos8ms",
        "colab": {
          "base_uri": "https://localhost:8080/"
        },
        "outputId": "12a9efc0-88e8-4f8e-b3dd-25f21dd4175b"
      },
      "outputs": [
        {
          "output_type": "stream",
          "name": "stdout",
          "text": [
            "Hello!\n",
            "Hello,World!\n"
          ]
        }
      ],
      "source": [
        "class A:\n",
        "  def f(self, x):\n",
        "    print(x)\n",
        "class B(A):\n",
        "  def f(self, x, y):\n",
        "    print(x+y)\n",
        "a = A()\n",
        "a.f('Hello!')\n",
        "b = B()\n",
        "b.f('Hello, ' , 'World!')"
      ]
    },
    {
      "cell_type": "code",
      "source": [
        "class A:\n",
        "  def f(self, x):\n",
        "    print(x)\n",
        "class B(A):\n",
        "  def f(self, x, y = None):\n",
        "    if y is None:\n",
        "      super().f(x)\n",
        "    else:\n",
        "      print(x + y)\n",
        "b = B()\n",
        "b.f('Hello!')\n",
        "b.f('Hello, ' , 'World!')"
      ],
      "metadata": {
        "colab": {
          "base_uri": "https://localhost:8080/"
        },
        "id": "vJGNTRQs9tBJ",
        "outputId": "330435cb-cf3f-4277-b865-47c97e76bc6c"
      },
      "execution_count": 1,
      "outputs": [
        {
          "output_type": "stream",
          "name": "stdout",
          "text": [
            "Hello!\n",
            "Hello, World!\n"
          ]
        }
      ]
    },
    {
      "cell_type": "code",
      "source": [
        "# Виртуальные методы\n",
        "class A:\n",
        "  def f(self):\n",
        "    return 2\n",
        "  def f_sq(self):\n",
        "    return self.f()**2\n",
        "class B(A):\n",
        "  def f(self):\n",
        "    return 5\n",
        "a = A()\n",
        "a.f_sq()\n",
        "b = B()\n",
        "b.f_sq()"
      ],
      "metadata": {
        "colab": {
          "base_uri": "https://localhost:8080/"
        },
        "id": "6wqDyM6n-eRQ",
        "outputId": "9dff26c7-0378-4b78-f658-7d5b2c766ffd"
      },
      "execution_count": 3,
      "outputs": [
        {
          "output_type": "execute_result",
          "data": {
            "text/plain": [
              "25"
            ]
          },
          "metadata": {},
          "execution_count": 3
        }
      ]
    },
    {
      "cell_type": "code",
      "source": [
        "class A:\n",
        "  def __f(self):\n",
        "    return 2\n",
        "  def f_sq(self):\n",
        "    return self.__f()**2\n",
        "class B(A):\n",
        "  def __f(self):\n",
        "    return 5\n",
        "a = A()\n",
        "a.f_sq()\n",
        "b = B()\n",
        "b.f_sq()\n"
      ],
      "metadata": {
        "colab": {
          "base_uri": "https://localhost:8080/"
        },
        "id": "hF-6wUMI_El5",
        "outputId": "a52fb63c-fb85-41af-994a-e99ced77d428"
      },
      "execution_count": 4,
      "outputs": [
        {
          "output_type": "execute_result",
          "data": {
            "text/plain": [
              "4"
            ]
          },
          "metadata": {},
          "execution_count": 4
        }
      ]
    },
    {
      "cell_type": "code",
      "source": [
        "# Наследование от встроенных классов\n",
        "class Mydict(dict):\n",
        "  def  __setitem__(self, key, value):\n",
        "    super().__setitem__(key, [value]*2)\n",
        "\n",
        "a = Mydict(key1 = 1)    # {'key1':1}\n",
        "a['key2'] = 2     # {'key':1, 'key2':[2,2]}\n",
        "\n",
        "# insert new key via update()\n",
        "a.update(key3 = 3)\n",
        "# {'key1':1, 'key2':[2,2], 'key3':3}\n",
        "# update() use built-in implementation of __setitem__"
      ],
      "metadata": {
        "id": "QN1rGp3F_ljS"
      },
      "execution_count": 6,
      "outputs": []
    },
    {
      "cell_type": "code",
      "source": [
        "# Абстрактные классы\n",
        "class Base(object):\n",
        "  def virtualMethod(self):\n",
        "    raise NotImplementedError()\n",
        "  def usesVirtualMethod(self):\n",
        "    return self.virtualMethod() + 1\n",
        "class Derived(Base):\n",
        "  def virtualMethod(self):\n",
        "    return 1\n",
        "Derived().usesVirtualMethod()"
      ],
      "metadata": {
        "colab": {
          "base_uri": "https://localhost:8080/"
        },
        "id": "eycWM3byAaWM",
        "outputId": "4adaeb57-2ade-44f3-cd7d-0792484fa6f8"
      },
      "execution_count": 9,
      "outputs": [
        {
          "output_type": "execute_result",
          "data": {
            "text/plain": [
              "2"
            ]
          },
          "metadata": {},
          "execution_count": 9
        }
      ]
    },
    {
      "cell_type": "code",
      "source": [
        "# Декоратор @abstractmethod\n",
        "from abc import ABC, abstractmethod\n",
        "class MyAbstract(ABC):\n",
        "  @abstractmethod\n",
        "  def foo(self):\n",
        "    pass\n",
        "class MyClass(MyAbstract):\n",
        "  def foo(self):\n",
        "    print('Hello, world!')\n",
        "a = MyClass()"
      ],
      "metadata": {
        "id": "VyQUJClmCVdu"
      },
      "execution_count": 14,
      "outputs": []
    },
    {
      "cell_type": "code",
      "source": [
        "# Множественное наследование\n",
        "class A:\n",
        "  def m(self):\n",
        "    print('In A')\n",
        "class B(A):\n",
        "  def m(self):\n",
        "    print('In B')\n",
        "class C(A):\n",
        "  def m(self):\n",
        "    print('In C')\n",
        "class D(B, C):\n",
        "  pass\n",
        "d = D()\n",
        "d.m()  "
      ],
      "metadata": {
        "colab": {
          "base_uri": "https://localhost:8080/"
        },
        "id": "G51a3ZutEJ7-",
        "outputId": "ea506fea-22d0-41ce-deb6-4baba084d531"
      },
      "execution_count": 13,
      "outputs": [
        {
          "output_type": "stream",
          "name": "stdout",
          "text": [
            "In B\n"
          ]
        }
      ]
    },
    {
      "cell_type": "code",
      "source": [
        "# Полиморфизм\n",
        "class T1:\n",
        "  n = 10\n",
        "  def total(self, N):\n",
        "    self.total = int(self.n) + int(N)\n",
        "class T2:\n",
        "  def total(self, s):\n",
        "    self.total = len(str(s))\n",
        "t1 = T1()\n",
        "t2 = T2()\n",
        "t1.total(45)\n",
        "t2.total(45)\n",
        "print(t1.total)\n",
        "print(t2.total)"
      ],
      "metadata": {
        "colab": {
          "base_uri": "https://localhost:8080/"
        },
        "id": "SrfOWmaRE8VI",
        "outputId": "28c18efc-e513-42e2-9445-ef57a1054cf6"
      },
      "execution_count": 16,
      "outputs": [
        {
          "output_type": "stream",
          "name": "stdout",
          "text": [
            "55\n",
            "2\n"
          ]
        }
      ]
    },
    {
      "cell_type": "code",
      "source": [
        "from contextlib import redirect_stderr\n",
        "class dectangle:\n",
        "  def __init__(self, widtn, height, sign):\n",
        "    self.w = int(widtn)\n",
        "    self.h = int(height)\n",
        "    self.s = str(sign)\n",
        "  def __str__(self):\n",
        "    rect = []\n",
        "    for i in range(self.h):\n",
        "      rect.append(self.s * self.w)\n",
        "    rect ='\\n'.join(rect)\n",
        "    return rect\n",
        "  def __add__(self, other):\n",
        "    return dectangle(self.w + other.w, self.h + other.h, self.s)\n",
        "a = dectangle(4, 2, 'w')\n",
        "print(a)\n",
        "b = dectangle(8, 3, 'z')\n",
        "print(b)\n",
        "print(a + b)\n",
        "print(b + a)"
      ],
      "metadata": {
        "colab": {
          "base_uri": "https://localhost:8080/"
        },
        "id": "btpo0CgLG1oU",
        "outputId": "f56830fb-2323-4a61-cc5c-7cb73f353fb6"
      },
      "execution_count": 17,
      "outputs": [
        {
          "output_type": "stream",
          "name": "stdout",
          "text": [
            "wwww\n",
            "wwww\n",
            "zzzzzzzz\n",
            "zzzzzzzz\n",
            "zzzzzzzz\n",
            "wwwwwwwwwwww\n",
            "wwwwwwwwwwww\n",
            "wwwwwwwwwwww\n",
            "wwwwwwwwwwww\n",
            "wwwwwwwwwwww\n",
            "zzzzzzzzzzzz\n",
            "zzzzzzzzzzzz\n",
            "zzzzzzzzzzzz\n",
            "zzzzzzzzzzzz\n",
            "zzzzzzzzzzzz\n"
          ]
        }
      ]
    }
  ]
}